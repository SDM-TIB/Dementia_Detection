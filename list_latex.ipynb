{
 "cells": [
  {
   "cell_type": "code",
   "execution_count": 1,
   "metadata": {},
   "outputs": [],
   "source": [
    "l = ['IDENTIFIES OBJECTS', 'RECALLS ADDRESS', 'SIMILARITIES - CLOTHING', 'RECOGNISES FAMOUS PEOPLE', 'RECOGNISES OBJECTS', 'RECALLS OBJECTS', 'NUMBER OF ANIMALS LISTED', 'SIMILARITIES - LIFE', 'PATIENT', 'SIMILARITIES - FURNITURE', 'REGISTERS OBJECTS', 'IDENTIFIES COIN', 'Age At Episode', 'SUBTRACTING SEVENS', 'CLOCK DRAWING', 'COGNITIVE EXAM 162-187: ACTUAL DURATION OF INTERVIEW', 'MIME - BRUSHING TEETH', 'RECALLS OBJECTS', 'PRAXIS - PAPER', 'NUMBER OF ANIMALS LISTED: SCORE', 'SIMILARITIES - FRUIT', 'dementia_range', 'RECALLS ADDRESS: BROWN::Correct', 'DEAFNESS::Needs aid', 'DEAFNESS::Needs person', 'DEAFNESS::Normal', 'TREMOR::Needs aid', 'TREMOR::Needs person', 'TREMOR::Normal', 'CLOCK DRAWING: CIRCLE::Correct', 'RECOGNISES OBJECTS: PIPE::Correct', 'NAMES PICTURES: SUITCASE::Correct', 'KNOWS RECENT NEWS ITEM::Correct', 'RECALLS OBJECTS 2: TABLE::Correct', 'DIAGNOSIS 334-351: DEPRESSIVE ILLNESS::Absent', 'DIAGNOSIS 334-351: DEPRESSIVE ILLNESS::Present', 'PRAXIS - PAPER: RIGHT HAND::Correct', 'PLANTAR REFLEXES::Both extensor', 'PLANTAR REFLEXES::Extensor l', 'PLANTAR REFLEXES::Extensor r', 'PLANTAR REFLEXES::Normal', 'RECOGNISES OBJECTS: CUP::Correct', 'NAMES PICTURES: BAROMETER::Correct', 'HEMIPARESIS::Both', 'HEMIPARESIS::Left', 'HEMIPARESIS::None', 'HEMIPARESIS::Right', 'DIAGNOSIS 334-351: ANXIETY/PHOBIC::Absent', 'DIAGNOSIS 334-351: ANXIETY/PHOBIC::Present', 'REGISTERS OBJECTS 3: PENNY::Correct', 'COMPREHENDS TOUCH::Correct', 'REMEMBERS WW2 DATE::Correct', 'MANUAL DIFFICULTY::Correct', 'RECALLS OBJECTS 3: PENNY::Correct', 'RECALLS OBJECTS: SUITCASE::Correct', 'IDENTIFIES YEAR::Correct', 'RECOGNISES OBJECTS: PURSE::Correct', 'RECOGNISES OBJECTS: SPECTACLES::Correct', 'RECOGNISES OBJECTS: SHOE::Correct', 'RECALLS OBJECTS: LAMP::Correct', 'REMEMBERS MAE WEST::Correct', 'SHORTNESS OF BREATH::Correct', 'RECALLS OBJECTS: TYPEWRITER::Correct', 'READING COMPREHENSION 2::Correct', 'KNOWS PRIME MINISTER::Correct', 'COMPREHENDS NOD::Correct', 'DRAWS SPIRAL::Correct', 'CLOCK DRAWING: NUMBERS::Correct', 'IDENTIFIES STREETS/COUNTRY::Correct', 'GAIT::Normal', 'GAIT::Other', 'GAIT::Wide based',  'COMPREHENDS LOOK::Correct', 'READING COMPREHENSION 1::Correct', 'COMPREHENDS VILLAGE::Correct', 'KNOWS MONARCH::Correct', 'RECALLS OBJECTS 1: APPLE::Correct', 'KNOWS HEIR TO THRONE::Correct', 'IDENTIFIES OBJECTS: PENCIL::Correct', 'REMEMBERS WW1 DATE::Correct', 'NAMES PICTURES: SHOE::Correct', 'DEFINES HAMMER::Correct', 'SUBTRACTS MONEY::Correct', 'MOBILITY::Needs aid', 'MOBILITY::Needs person', 'MOBILITY::Normal', 'RECALLS OBJECTS: SCALES::Correct', 'RECALLS OBJECTS: BAROMETER::Correct', 'RECOGNISES OBJECTS: TELEPHONE::Correct', 'NAMES PICTURES: LAMP::Correct', 'RECALLS ADDRESS: BEDFORD::Correct', 'ABNORMAL EYE MOVEMENTS::Correct', 'IDENTIFIES COUNTY::Correct', 'WRITES A SENTENCE::Correct', 'PRAXIS - PAPER: ON LAP::Correct', 'RECALLS ADDRESS: D42::Correct', 'DRAWS HOUSE::Correct', 'VISUAL DEFECT::Needs aid', 'VISUAL DEFECT::Needs person', 'VISUAL DEFECT::Normal', 'IDENTIFIES SEASON::Correct', 'TENDON REFLEXES::Correct', 'IDENTIFIES OBJECTS: WATCH::Correct', 'IDENTIFIES DATE::Correct', 'COMPREHENDS TAP::Correct', 'IDENTIFIES TOWN::Correct', 'BLOOD PRESSURE::Abnormal', 'BLOOD PRESSURE::Normal', 'IDENTIFIES FLOOR::Correct', 'RECALLS OBJECTS: SHOE::Correct', 'ADDS UP MONEY::Correct', 'COUNTING BACKWARDS::> two errors', 'COUNTING BACKWARDS::Correct', 'COUNTING BACKWARDS::One error', 'MIME - WAVE::Correct', 'REPETITION::Correct', 'IDENTIFIES MONTH::Correct', 'REGISTERS OBJECTS 1: APPLE::Correct', 'CLOCK DRAWING: TIME::Correct', 'REMEMBERS HITLER::Correct', 'MIME - SCISSORS::Correct', 'MIME - SCISSORS::Poor', 'RECALLS ADDRESS: JOHN::Correct', 'RECOGNISES PICTURES: SCALES::Correct', 'REMEMBERS STALIN::Correct', 'COMPREHENDS HOTEL::Correct', 'RECALLS ADDRESS: WEST::Correct', 'DICTATION::Correct', 'DICTATION::Poor', 'NAMES PICTURES: SCALES::Correct', 'IDENTIFIES DAY OF WEEK::Correct', 'PRAXIS - ENVELOPE::Correct', 'REMEMBERS LINDBERGH::Correct', 'IDENTIFIES PRESENT PLACE::Correct', 'DRAWS PENTAGON::Correct', 'COMPREHENDS RADIO::Correct', 'RECOGNISES PICTURES: BAROMETER::Correct', 'PRAXIS - PAPER: FOLDS::Correct', 'NAMES PICTURES: TYPEWRITER::Correct', 'RECOGNISES PICTURES: SHOE::Correct']"
   ]
  },
  {
   "cell_type": "code",
   "execution_count": 41,
   "metadata": {},
   "outputs": [],
   "source": [
    "l1 =['RECALLS OBJECTS', 'CLOCK DRAWING', 'SUBTRACTING SEVENS', 'SIMILARITIES - FRUIT', 'NUMBER OF ANIMALS LISTED: SCORE', 'NUMBER OF ANIMALS LISTED', 'SIMILARITIES - LIFE', 'IDENTIFIES OBJECTS', 'MIME - BRUSHING TEETH', 'RECALLS ADDRESS', 'dementia_range', 'PRAXIS - PAPER', 'RECOGNISES OBJECTS', 'IDENTIFIES COIN', 'SIMILARITIES - CLOTHING', 'PATIENT', 'RECALLS OBJECTS', 'REGISTERS OBJECTS', 'RECOGNISES FAMOUS PEOPLE', 'SIMILARITIES - FURNITURE', 'COGNITIVE EXAM 162-187: ACTUAL DURATION OF INTERVIEW', 'Age At Episode', 'RECALLS ADDRESS: BROWN::Correct', 'PRAXIS - ENVELOPE::Correct', 'IDENTIFIES FLOOR::Correct', 'KNOWS PRIME MINISTER::Correct', 'COMPREHENDS TAP::Correct', 'RECALLS OBJECTS: BAROMETER::Correct', 'RECOGNISES OBJECTS: PIPE::Correct', 'REPETITION::Correct', 'REMEMBERS WW2 DATE::Correct', 'IDENTIFIES MONTH::Correct', 'DRAWS HOUSE::Correct', 'CLOCK DRAWING: TIME::Correct', 'RECOGNISES PICTURES: SCALES::Correct', 'RECALLS OBJECTS: SHOE::Correct', 'RECALLS ADDRESS: JOHN::Correct', 'DEFINES HAMMER::Correct', 'RECOGNISES PICTURES: SHOE::Correct', 'IDENTIFIES OBJECTS: PENCIL::Correct', 'PRAXIS - PAPER: FOLDS::Correct', 'WRITES A SENTENCE::Correct', 'READING COMPREHENSION 2::Correct', 'REGISTERS OBJECTS 1: APPLE::Correct', 'DICTATION::Correct', 'DICTATION::Poor', 'COMPREHENDS RADIO::Correct', 'RECOGNISES PICTURES: BAROMETER::Correct', 'IDENTIFIES DATE::Correct', 'IDENTIFIES YEAR::Correct', 'IDENTIFIES STREETS/COUNTRY::Correct', 'DRAWS PENTAGON::Correct', 'COMPREHENDS VILLAGE::Correct', 'RECALLS OBJECTS: TYPEWRITER::Correct', 'RECOGNISE PERSON::Correct', 'IDENTIFIES COUNTY::Correct', 'REMEMBERS MAE WEST::Correct', 'KNOWS MONARCH::Correct', 'RECALLS ADDRESS: D42::Correct', 'RECALLS OBJECTS: SUITCASE::Correct', 'COUNTING BACKWARDS::> two errors', 'COUNTING BACKWARDS::Correct', 'COUNTING BACKWARDS::One error', 'KNOWS RECENT NEWS ITEM::Correct', 'DIAGNOSIS 334-351: DEPRESSIVE ILLNESS::Absent', 'DIAGNOSIS 334-351: DEPRESSIVE ILLNESS::Present', 'RECOGNISES OBJECTS: SHOE::Correct', 'COMPREHENDS NOD::Correct', 'RECOGNISES OBJECTS: TELEPHONE::Correct', 'REGISTERS OBJECTS 3: PENNY::Correct', 'MIME - SCISSORS::Correct', 'MIME - SCISSORS::Poor', 'RECALLS ADDRESS: WEST::Correct', 'KNOWS HEIR TO THRONE::Correct', 'NAMES PICTURES: LAMP::Correct', 'RECOGNISES OBJECTS: PURSE::Correct', 'CLOCK DRAWING: NUMBERS::Correct', 'RECALLS OBJECTS 3: PENNY::Correct', 'CLOCK DRAWING: CIRCLE::Correct', 'PRAXIS - PAPER: RIGHT HAND::Correct', 'READING COMPREHENSION 1::Correct', 'REMEMBERS HITLER::Correct', 'PRAXIS - PAPER: ON LAP::Correct', 'DIAGNOSIS 334-351: ANXIETY/PHOBIC::Absent', 'DIAGNOSIS 334-351: ANXIETY/PHOBIC::Present', 'RECALLS OBJECTS: LAMP::Correct', 'REMEMBERS LINDBERGH::Correct', 'NAMES PICTURES: TYPEWRITER::Correct', 'RECOGNISES OBJECTS: CUP::Correct', 'IDENTIFIES TOWN::Correct', 'IDENTIFIES OBJECTS: WATCH::Correct', 'COMPREHENDS TOUCH::Correct', 'COMPREHENDS HOTEL::Correct', 'NAMES PICTURES: SHOE::Correct', 'DRAWS SPIRAL::Correct', 'RECALLS ADDRESS: BEDFORD::Correct', 'SUBTRACTS MONEY::Correct', 'RECALLS OBJECTS 2: TABLE::Correct', 'NAMES PICTURES: BAROMETER::Correct', 'IDENTIFIES SEASON::Correct', 'MIME - WAVE::Correct', 'RECOGNISES OBJECTS: SPECTACLES::Correct', 'REMEMBERS STALIN::Correct', 'IDENTIFIES PRESENT PLACE::Correct', 'ADDS UP MONEY::Correct', 'COMPREHENDS LOOK::Correct', 'NAMES PICTURES: SCALES::Correct', 'NAMES PICTURES: SUITCASE::Correct', 'REMEMBERS WW1 DATE::Correct', 'RECALLS OBJECTS 1: APPLE::Correct', 'IDENTIFIES DAY OF WEEK::Correct', 'RECALLS OBJECTS: SCALES::Correct'] "
   ]
  },
  {
   "cell_type": "code",
   "execution_count": 43,
   "metadata": {},
   "outputs": [
    {
     "data": {
      "text/plain": [
       "(140, 112)"
      ]
     },
     "execution_count": 43,
     "metadata": {},
     "output_type": "execute_result"
    }
   ],
   "source": [
    "len(l), len(l1)"
   ]
  },
  {
   "cell_type": "code",
   "execution_count": 44,
   "metadata": {
    "scrolled": true
   },
   "outputs": [
    {
     "name": "stdout",
     "output_type": "stream",
     "text": [
      "RECALLS OBJECTS &  CLOCK DRAWING &  SUBTRACTING SEVENS \\\\ \\hline\n",
      "SIMILARITIES - FRUIT &  NUMBER OF ANIMALS LISTED: SCORE &  NUMBER OF ANIMALS LISTED \\\\ \\hline\n",
      "SIMILARITIES - LIFE &  IDENTIFIES OBJECTS &  MIME - BRUSHING TEETH \\\\ \\hline\n",
      "RECALLS ADDRESS &  dementia_range &  PRAXIS - PAPER \\\\ \\hline\n",
      "RECOGNISES OBJECTS &  IDENTIFIES COIN &  SIMILARITIES - CLOTHING \\\\ \\hline\n",
      "PATIENT &  RECALLS OBJECTS &  REGISTERS OBJECTS \\\\ \\hline\n",
      "RECOGNISES FAMOUS PEOPLE &  SIMILARITIES - FURNITURE &  COGNITIVE EXAM 162-187: ACTUAL DURATION OF INTERVIEW \\\\ \\hline\n",
      "Age At Episode &  RECALLS ADDRESS: BROWN &  PRAXIS - ENVELOPE \\\\ \\hline\n",
      "IDENTIFIES FLOOR &  KNOWS PRIME MINISTER &  COMPREHENDS TAP \\\\ \\hline\n",
      "RECALLS OBJECTS: BAROMETER &  RECOGNISES OBJECTS: PIPE &  REPETITION \\\\ \\hline\n",
      "REMEMBERS WW2 DATE &  IDENTIFIES MONTH &  DRAWS HOUSE \\\\ \\hline\n",
      "CLOCK DRAWING: TIME &  RECOGNISES PICTURES: SCALES &  RECALLS OBJECTS: SHOE \\\\ \\hline\n",
      "RECALLS ADDRESS: JOHN &  DEFINES HAMMER &  RECOGNISES PICTURES: SHOE \\\\ \\hline\n",
      "IDENTIFIES OBJECTS: PENCIL &  PRAXIS - PAPER: FOLDS &  WRITES A SENTENCE \\\\ \\hline\n",
      "READING COMPREHENSION 2 &  REGISTERS OBJECTS 1: APPLE &  DICTATION \\\\ \\hline\n",
      "DICTATION::Poor &  COMPREHENDS RADIO &  RECOGNISES PICTURES: BAROMETER \\\\ \\hline\n",
      "IDENTIFIES DATE &  IDENTIFIES YEAR &  IDENTIFIES STREETS/COUNTRY \\\\ \\hline\n",
      "DRAWS PENTAGON &  COMPREHENDS VILLAGE &  RECALLS OBJECTS: TYPEWRITER \\\\ \\hline\n",
      "RECOGNISE PERSON &  IDENTIFIES COUNTY &  REMEMBERS MAE WEST \\\\ \\hline\n",
      "KNOWS MONARCH &  RECALLS ADDRESS: D42 &  RECALLS OBJECTS: SUITCASE \\\\ \\hline\n",
      "COUNTING BACKWARDS::> two errors &  COUNTING BACKWARDS &  COUNTING BACKWARDS::One error \\\\ \\hline\n",
      "KNOWS RECENT NEWS ITEM &  DIAGNOSIS 334-351: DEPRESSIVE ILLNESS::Absent &  DIAGNOSIS 334-351: DEPRESSIVE ILLNESS::Present \\\\ \\hline\n",
      "RECOGNISES OBJECTS: SHOE &  COMPREHENDS NOD &  RECOGNISES OBJECTS: TELEPHONE \\\\ \\hline\n",
      "REGISTERS OBJECTS 3: PENNY &  MIME - SCISSORS &  MIME - SCISSORS::Poor \\\\ \\hline\n",
      "RECALLS ADDRESS: WEST &  KNOWS HEIR TO THRONE &  NAMES PICTURES: LAMP \\\\ \\hline\n",
      "RECOGNISES OBJECTS: PURSE &  CLOCK DRAWING: NUMBERS &  RECALLS OBJECTS 3: PENNY \\\\ \\hline\n",
      "CLOCK DRAWING: CIRCLE &  PRAXIS - PAPER: RIGHT HAND &  READING COMPREHENSION 1 \\\\ \\hline\n",
      "REMEMBERS HITLER &  PRAXIS - PAPER: ON LAP &  DIAGNOSIS 334-351: ANXIETY/PHOBIC::Absent \\\\ \\hline\n",
      "DIAGNOSIS 334-351: ANXIETY/PHOBIC::Present &  RECALLS OBJECTS: LAMP &  REMEMBERS LINDBERGH \\\\ \\hline\n",
      "NAMES PICTURES: TYPEWRITER &  RECOGNISES OBJECTS: CUP &  IDENTIFIES TOWN \\\\ \\hline\n",
      "IDENTIFIES OBJECTS: WATCH &  COMPREHENDS TOUCH &  COMPREHENDS HOTEL \\\\ \\hline\n",
      "NAMES PICTURES: SHOE &  DRAWS SPIRAL &  RECALLS ADDRESS: BEDFORD \\\\ \\hline\n",
      "SUBTRACTS MONEY &  RECALLS OBJECTS 2: TABLE &  NAMES PICTURES: BAROMETER \\\\ \\hline\n",
      "IDENTIFIES SEASON &  MIME - WAVE &  RECOGNISES OBJECTS: SPECTACLES \\\\ \\hline\n",
      "REMEMBERS STALIN &  IDENTIFIES PRESENT PLACE &  ADDS UP MONEY \\\\ \\hline\n",
      "COMPREHENDS LOOK &  NAMES PICTURES: SCALES &  NAMES PICTURES: SUITCASE \\\\ \\hline\n",
      "REMEMBERS WW1 DATE &  RECALLS OBJECTS 1: APPLE &  IDENTIFIES DAY OF WEEK \\\\ \\hline\n",
      "RECALLS OBJECTS: SCALES &  \\\\ \\hline\n"
     ]
    }
   ],
   "source": [
    "for i, f in enumerate(l1):\n",
    "    f = f.replace('::Correct', '')\n",
    "    if (i+1)%3!=0:\n",
    "        print(f, '& ', end=' ')\n",
    "    if (i+1)%3==0:\n",
    "        print(f, end=' ')\n",
    "        print ('\\\\\\\\ '+ '\\\\hline')\n",
    "print ('\\\\\\\\ '+'\\\\hline')"
   ]
  },
  {
   "cell_type": "code",
   "execution_count": 19,
   "metadata": {},
   "outputs": [
    {
     "data": {
      "text/plain": [
       "0"
      ]
     },
     "execution_count": 19,
     "metadata": {},
     "output_type": "execute_result"
    }
   ],
   "source": [
    "50%5"
   ]
  },
  {
   "cell_type": "code",
   "execution_count": null,
   "metadata": {},
   "outputs": [],
   "source": []
  },
  {
   "cell_type": "code",
   "execution_count": null,
   "metadata": {},
   "outputs": [],
   "source": []
  }
 ],
 "metadata": {
  "kernelspec": {
   "display_name": "Python 3",
   "language": "python",
   "name": "python3"
  },
  "language_info": {
   "codemirror_mode": {
    "name": "ipython",
    "version": 3
   },
   "file_extension": ".py",
   "mimetype": "text/x-python",
   "name": "python",
   "nbconvert_exporter": "python",
   "pygments_lexer": "ipython3",
   "version": "3.8.5"
  }
 },
 "nbformat": 4,
 "nbformat_minor": 4
}
