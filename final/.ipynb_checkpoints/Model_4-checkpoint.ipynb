{
 "cells": [
  {
   "cell_type": "code",
   "execution_count": 1,
   "metadata": {},
   "outputs": [],
   "source": [
    "from utils_int import *\n",
    "from defines_int import *\n",
    "\n",
    "import numpy as np\n",
    "import pandas as pd\n",
    "\n",
    "from collections import Counter\n",
    "\n",
    "from sklearn.svm import SVC\n",
    "from sklearn.naive_bayes import BernoulliNB\n",
    "from sklearn.neural_network import MLPClassifier\n",
    "from sklearn.model_selection import GridSearchCV\n",
    "from sklearn.ensemble import RandomForestClassifier\n",
    "from sklearn.linear_model import LogisticRegression\n",
    "from sklearn.model_selection import train_test_split\n",
    "from sklearn.preprocessing import StandardScaler, OneHotEncoder\n",
    "from sklearn.metrics import classification_report, f1_score, accuracy_score, make_scorer\n",
    "from sklearn.experimental import enable_iterative_imputer\n",
    "from sklearn.impute import IterativeImputer\n",
    "from sklearn.linear_model import BayesianRidge\n",
    "from sklearn.tree import DecisionTreeRegressor\n",
    "from sklearn.ensemble import ExtraTreesRegressor\n",
    "from sklearn.neighbors import KNeighborsRegressor\n",
    "from sklearn.pipeline import make_pipeline\n",
    "from sklearn.model_selection import cross_val_score, StratifiedShuffleSplit, StratifiedKFold\n",
    "import re\n",
    "\n",
    "import pathlib\n",
    "\n",
    "\n",
    "from sklearn.datasets import *\n",
    "from dtreeviz.trees import *\n",
    "from IPython.display import Image, display_svg, SVG\n",
    "\n",
    "\n",
    "# import lime\n",
    "import lime\n",
    "import lime.lime_tabular\n",
    "\n",
    "#pickle\n",
    "import pickle\n",
    "\n",
    "#import shap\n",
    "import shap"
   ]
  },
  {
   "cell_type": "code",
   "execution_count": 2,
   "metadata": {},
   "outputs": [
    {
     "data": {
      "text/plain": [
       "911"
      ]
     },
     "execution_count": 2,
     "metadata": {},
     "output_type": "execute_result"
    }
   ],
   "source": [
    "# data from variable guide\n",
    "data_variable_cat = {}\n",
    "with open(\"data_variable_cat.pkl\", \"rb\") as f:\n",
    "    data_variable_cat = pickle.load(f)\n",
    "\n",
    "len(data_variable_cat)"
   ]
  },
  {
   "cell_type": "code",
   "execution_count": 3,
   "metadata": {},
   "outputs": [],
   "source": [
    "data = pd.read_pickle(orginal_data_path+'Optima_Data_Report_Cases_9584_filled_pickle')"
   ]
  },
  {
   "cell_type": "code",
   "execution_count": 4,
   "metadata": {},
   "outputs": [
    {
     "data": {
      "text/plain": [
       "(9584, 1593)"
      ]
     },
     "execution_count": 4,
     "metadata": {},
     "output_type": "execute_result"
    }
   ],
   "source": [
    "data.shape"
   ]
  },
  {
   "cell_type": "code",
   "execution_count": 5,
   "metadata": {},
   "outputs": [
    {
     "data": {
      "text/plain": [
       "210"
      ]
     },
     "execution_count": 5,
     "metadata": {},
     "output_type": "execute_result"
    }
   ],
   "source": [
    "len(attributes_considered)"
   ]
  },
  {
   "cell_type": "code",
   "execution_count": 6,
   "metadata": {},
   "outputs": [
    {
     "data": {
      "text/plain": [
       "242"
      ]
     },
     "execution_count": 6,
     "metadata": {},
     "output_type": "execute_result"
    }
   ],
   "source": [
    "attributes_considered += george_labels_one_years\n",
    "attributes_considered += george_labels_three_years\n",
    "attributes_considered = list(set(attributes_considered))\n",
    "len(attributes_considered)"
   ]
  },
  {
   "cell_type": "code",
   "execution_count": 7,
   "metadata": {},
   "outputs": [],
   "source": [
    "all_dementia = [['CAMDEX ADMINISTRATION 1-12: EST SEVERITY OF DEMENTIA', [1, 2, 3, 4]],\n",
    "           ['DIAGNOSIS 334-351: DEMENTIA   CLOUDED', [1]],\n",
    "           ['DIAGNOSIS 334-351: CLOUDED   DEMENTIA', [1]],\n",
    "           ['DIAGNOSIS 334-351: SEVERITY OF DEMENTIA', [1, 2, 3, 4]],\n",
    "           [\"OPTIMA DIAGNOSES V 2010: DEMENTIA PRESENT\", [1, 2, 3]],\n",
    "           [\"OPTIMA DIAGNOSES V 2010: MIXED DEMENTIA\", [1]],\n",
    "           [\"GENERAL INFORMATION: SPET SCORE\", [6]],\n",
    "           [\"GENERAL INFORMATION: DSM-IIIR\", [1]],\n",
    "           [\"GENERAL INFORMATION: CLINICAL DIAGNOSIS 1\", [1]]]"
   ]
  },
  {
   "cell_type": "code",
   "execution_count": 8,
   "metadata": {},
   "outputs": [],
   "source": [
    "no_dementia = [['CAMDEX ADMINISTRATION 1-12: EST SEVERITY OF DEMENTIA', [0]],\n",
    "           ['DIAGNOSIS 334-351: SEVERITY OF DEMENTIA', [0]],\n",
    "           [\"OPTIMA DIAGNOSES V 2010: DEMENTIA PRESENT\", [0]],\n",
    "           [\"GENERAL INFORMATION: DSM-IIIR\", [0]],\n",
    "           [\"GENERAL INFORMATION: CLINICAL DIAGNOSIS 1\", [0]]]"
   ]
  },
  {
   "cell_type": "code",
   "execution_count": 9,
   "metadata": {},
   "outputs": [],
   "source": [
    "dementia = [['CAMDEX ADMINISTRATION 1-12: EST SEVERITY OF DEMENTIA', [1, 2, 3, 4]]]\n",
    "#            ['DIAGNOSIS 334-351: SEVERITY OF DEMENTIA', [1, 2, 3, 4]]]"
   ]
  },
  {
   "cell_type": "code",
   "execution_count": 10,
   "metadata": {},
   "outputs": [
    {
     "name": "stdout",
     "output_type": "stream",
     "text": [
      "2552 CAMDEX ADMINISTRATION 1-12: EST SEVERITY OF DEMENTIA\n"
     ]
    }
   ],
   "source": [
    "dem = set()\n",
    "for i, j in dementia:\n",
    "    dem |= extract_values(data, i, j)[0]"
   ]
  },
  {
   "cell_type": "code",
   "execution_count": 11,
   "metadata": {},
   "outputs": [
    {
     "name": "stdout",
     "output_type": "stream",
     "text": [
      "2552 CAMDEX ADMINISTRATION 1-12: EST SEVERITY OF DEMENTIA\n",
      "10 DIAGNOSIS 334-351: DEMENTIA   CLOUDED\n",
      "2 DIAGNOSIS 334-351: CLOUDED   DEMENTIA\n",
      "814 DIAGNOSIS 334-351: SEVERITY OF DEMENTIA\n",
      "951 OPTIMA DIAGNOSES V 2010: DEMENTIA PRESENT\n",
      "172 OPTIMA DIAGNOSES V 2010: MIXED DEMENTIA\n",
      "0 GENERAL INFORMATION: SPET SCORE\n",
      "1 GENERAL INFORMATION: DSM-IIIR\n",
      "876 GENERAL INFORMATION: CLINICAL DIAGNOSIS 1\n"
     ]
    }
   ],
   "source": [
    "all_dem = set()\n",
    "for i, j in all_dementia:\n",
    "    all_dem |= extract_values(data, i, j)[0]"
   ]
  },
  {
   "cell_type": "code",
   "execution_count": 12,
   "metadata": {},
   "outputs": [
    {
     "name": "stdout",
     "output_type": "stream",
     "text": [
      "2084 CAMDEX ADMINISTRATION 1-12: EST SEVERITY OF DEMENTIA\n",
      "985 DIAGNOSIS 334-351: SEVERITY OF DEMENTIA\n",
      "2185 OPTIMA DIAGNOSES V 2010: DEMENTIA PRESENT\n",
      "1 GENERAL INFORMATION: DSM-IIIR\n",
      "965 GENERAL INFORMATION: CLINICAL DIAGNOSIS 1\n"
     ]
    }
   ],
   "source": [
    "no_dem = set()\n",
    "for i, j in no_dementia:\n",
    "    no_dem |= extract_values(data, i, j)[0]"
   ]
  },
  {
   "cell_type": "code",
   "execution_count": 13,
   "metadata": {},
   "outputs": [
    {
     "data": {
      "text/plain": [
       "(2552, 3647, 3420)"
      ]
     },
     "execution_count": 13,
     "metadata": {},
     "output_type": "execute_result"
    }
   ],
   "source": [
    "len(dem), len(no_dem), len(all_dem)"
   ]
  },
  {
   "cell_type": "code",
   "execution_count": 14,
   "metadata": {},
   "outputs": [],
   "source": [
    "data_dem = data.loc[dem]"
   ]
  },
  {
   "cell_type": "code",
   "execution_count": 15,
   "metadata": {},
   "outputs": [],
   "source": [
    "data_dem['dementia_range'] = data['CAMDEX ADMINISTRATION 1-12: EST SEVERITY OF DEMENTIA']"
   ]
  },
  {
   "cell_type": "code",
   "execution_count": 16,
   "metadata": {},
   "outputs": [
    {
     "data": {
      "text/plain": [
       "array([3., 1., 2., 4.])"
      ]
     },
     "execution_count": 16,
     "metadata": {},
     "output_type": "execute_result"
    }
   ],
   "source": [
    "data_dem['dementia_range'].unique()"
   ]
  },
  {
   "cell_type": "code",
   "execution_count": 17,
   "metadata": {},
   "outputs": [],
   "source": [
    "data_dem.loc[data_dem['dementia_range']==2, 'dementia_range'] = 1\n",
    "data_dem.loc[data_dem['dementia_range']>1, 'dementia_range'] = 2"
   ]
  },
  {
   "cell_type": "code",
   "execution_count": 18,
   "metadata": {},
   "outputs": [
    {
     "data": {
      "text/plain": [
       "array([2., 1.])"
      ]
     },
     "execution_count": 18,
     "metadata": {},
     "output_type": "execute_result"
    }
   ],
   "source": [
    "data_dem['dementia_range'].unique()"
   ]
  },
  {
   "cell_type": "code",
   "execution_count": 19,
   "metadata": {},
   "outputs": [
    {
     "data": {
      "text/plain": [
       "3647"
      ]
     },
     "execution_count": 19,
     "metadata": {},
     "output_type": "execute_result"
    }
   ],
   "source": [
    "len(no_dem)"
   ]
  },
  {
   "cell_type": "code",
   "execution_count": 20,
   "metadata": {},
   "outputs": [],
   "source": [
    "no_dem -= all_dem"
   ]
  },
  {
   "cell_type": "code",
   "execution_count": 21,
   "metadata": {},
   "outputs": [
    {
     "data": {
      "text/plain": [
       "3259"
      ]
     },
     "execution_count": 21,
     "metadata": {},
     "output_type": "execute_result"
    }
   ],
   "source": [
    "len(no_dem)"
   ]
  },
  {
   "cell_type": "code",
   "execution_count": 22,
   "metadata": {},
   "outputs": [],
   "source": [
    "dem_patients = set(data.loc[all_dem].GLOBAL_PATIENT_DB_ID.unique())"
   ]
  },
  {
   "cell_type": "code",
   "execution_count": 23,
   "metadata": {},
   "outputs": [],
   "source": [
    "no_dem_patients = set(data.loc[no_dem].GLOBAL_PATIENT_DB_ID.unique())"
   ]
  },
  {
   "cell_type": "code",
   "execution_count": 24,
   "metadata": {},
   "outputs": [],
   "source": [
    "no_dem_patients -= dem_patients"
   ]
  },
  {
   "cell_type": "code",
   "execution_count": 25,
   "metadata": {},
   "outputs": [
    {
     "data": {
      "text/plain": [
       "Counter({2.0: 1095, 1.0: 1457})"
      ]
     },
     "execution_count": 25,
     "metadata": {},
     "output_type": "execute_result"
    }
   ],
   "source": [
    "Counter(data_dem['dementia_range'])"
   ]
  },
  {
   "cell_type": "code",
   "execution_count": 26,
   "metadata": {},
   "outputs": [],
   "source": [
    "data_no_dem = data.loc[no_dem]\n",
    "data_no_dem = data_no_dem[data_no_dem['GLOBAL_PATIENT_DB_ID'].isin(no_dem_patients)]\n",
    "data_no_dem['dementia_range'] = 0"
   ]
  },
  {
   "cell_type": "code",
   "execution_count": 27,
   "metadata": {},
   "outputs": [],
   "source": [
    "prepared_dataset = pd.concat([data_dem, data_no_dem])[attributes_considered]"
   ]
  },
  {
   "cell_type": "code",
   "execution_count": 28,
   "metadata": {},
   "outputs": [
    {
     "data": {
      "text/plain": [
       "['SMOKING: CIGARETTES',\n",
       " 'COGNITIVE EXAM 162-187: (184) RECOGNISES OBJECTS: SHOE',\n",
       " 'PRESENT STATE 47-73: (063) ONSET OF MEMORY PROBLEMS',\n",
       " 'COGNITIVE EXAM 120-161: (138) NAMES PICTURES: LAMP',\n",
       " 'COGNITIVE EXAM 162-187: (175) IDENTIFIES COIN',\n",
       " 'COGNITIVE EXAM 162-187: (180) SIMILARITIES - CLOTHING',\n",
       " 'COGNITIVE EXAM 120-161: (146) RECALLS OBJECTS: SCALES',\n",
       " 'PRESENT STATE 13-46: (025) WAKES EARLY',\n",
       " 'GDS: MEMORY PROBLEMS',\n",
       " 'COGNITIVE EXAM 162-187: (178) RECALLS ADDRESS: WEST',\n",
       " 'COGNITIVE EXAM 120-161: (158) REGISTERS OBJECTS',\n",
       " 'MOCA: YEARS OF EDUCATION',\n",
       " 'COGNITIVE EXAM 162-187: (184) RECOGNISES OBJECTS',\n",
       " 'GENERAL INFORMATION: ASPIRIN',\n",
       " 'COGNITIVE EXAM 120-161: (137) IDENTIFIES OBJECTS: PENCIL',\n",
       " 'OPTIMA DIAGNOSES V 2010: CERBRO-VASCULAR DISEASE PRESENT',\n",
       " 'SPECT SCAN: DIAGNOSTIC ASSESSMENT',\n",
       " 'COGNITIVE EXAM 162-187: (165) DRAWS SPIRAL',\n",
       " 'COGNITIVE EXAM 162-187: (185) RECOGNISE PERSON',\n",
       " 'PRESENT STATE 47-73: (057) PHYSICAL PROBLEMS',\n",
       " 'CLINICAL BACKGROUND: BODY MASS INDEX',\n",
       " 'SMOKING: COFFEE PER DAY',\n",
       " 'COGNITIVE EXAM 162-187: (177) SUBTRACTS MONEY',\n",
       " 'SMOKING: COMPARED TO 5 YEARS AGO',\n",
       " 'COGNITIVE EXAM 120-161: (132) COMPREHENDS LOOK',\n",
       " 'COGNITIVE EXAM 120-161: (160) SUBTRACTING SEVENS',\n",
       " 'MEDICAL ASSESSMENT V 2010: MEMORY',\n",
       " 'COGNITIVE EXAM 162-187: (169) PRAXIS - PAPER: FOLDS',\n",
       " 'DIAGNOSIS 334-351: SEVERITY OF DEPRESSION',\n",
       " 'SMOKING: TWENTY YEARS AGO',\n",
       " 'PHYSICAL EXAM 213-234: (222) TREMOR',\n",
       " 'PRESENT STATE 13-46: (016) AGE LEFT SCHOOL',\n",
       " 'HAEMATOLOGY: PLATELETS',\n",
       " 'COGNITIVE EXAM 120-161: (158) REGISTERS OBJECTS: REPEATS',\n",
       " 'HACHINSKI ISCHAEMIC: DEPRESSIVE SYMPTOMATOLOGY',\n",
       " 'HISTORY PATIENT 74-119: (092) MOTHER AGE AT DEATH',\n",
       " 'COGNITIVE EXAM 120-161: (139) NUMBER OF ANIMALS LISTED',\n",
       " 'NPI: DEPRESSION/DYSPHORIA: FREQUENCY',\n",
       " 'COGNITIVE EXAM 120-161: (137) IDENTIFIES OBJECTS',\n",
       " 'CAMDEX SCORES: MINI MENTAL SCORE',\n",
       " 'GENERAL INFORMATION: ASPIRIN: DURATION',\n",
       " 'NPI: DEPRESSION/DYSPHORIA: SEVERITY',\n",
       " 'COGNITIVE EXAM 120-161: (161) RECALLS OBJECTS',\n",
       " 'PHYSICAL EXAM 213-234: (227) B12 OR FOLATE',\n",
       " 'CAMDEX SCORES: CAMCOG ATTENTION SCORE',\n",
       " 'PRESENT STATE 47-73: (062) DURATION OF MEMORY PROBLEMS',\n",
       " 'OPTIMA DIAGNOSES V 2010: COGNITIVE IMPAIRMENT',\n",
       " 'COGNITIVE EXAM 162-187: (173) MIME - SCISSORS',\n",
       " 'COGNITIVE EXAM 120-161: (139) NUMBER OF ANIMALS LISTED: SCORE',\n",
       " 'COGNITIVE EXAM 120-161: (135) COMPREHENDS VILLAGE',\n",
       " 'PRESENT STATE 13-46: (037) DURATION OF DEPRESSION',\n",
       " 'CAMDEX SCORES: CAMCOG RECENT MEMORY SCORE',\n",
       " 'COGNITIVE EXAM 120-161: (123) IDENTIFIES YEAR',\n",
       " 'COGNITIVE EXAM 162-187: (178) RECALLS ADDRESS: D42',\n",
       " 'PHYSICAL EXAM 213-234: SUBJECT ON MEDICATION',\n",
       " 'COGNITIVE EXAM 162-187: (169) PRAXIS - PAPER',\n",
       " 'GENERAL INFORMATION: DIABETES',\n",
       " 'COGNITIVE EXAM 120-161: (147) RECOGNISES PICTURES: SHOE',\n",
       " 'PHYSICAL EXAM 213-234: (213) BLOOD PRESSURE: SYSTOLIC',\n",
       " 'COGNITIVE EXAM 120-161: (148) REMEMBERS WW1 DATE',\n",
       " 'GENERAL INFORMATION: DIABETES: DURATION',\n",
       " 'SMOKING: SMOKING',\n",
       " 'COGNITIVE EXAM 120-161: (146) RECALLS OBJECTS: BAROMETER',\n",
       " 'COGNITIVE EXAM 162-187: (184) RECOGNISES OBJECTS: CUP',\n",
       " 'COGNITIVE EXAM 162-187: (183) RECOGNISES FAMOUS PEOPLE',\n",
       " 'dementia_range',\n",
       " 'COGNITIVE EXAM 120-161: (138) NAMES PICTURES',\n",
       " 'PRESENT STATE 13-46: (043) WORTHLESS OR GUILTY',\n",
       " 'HAEMATOLOGY: MCHC',\n",
       " 'COGNITIVE EXAM 120-161: (121) IDENTIFIES DATE',\n",
       " 'SHORTENED CAMBRIDGE ADL: DIFFICULTY WITH MEMORY',\n",
       " 'HISTORY PATIENT 74-119: (076) HISTORY OF STROKE',\n",
       " 'COGNITIVE EXAM 120-161: (157) KNOWS RECENT NEWS ITEM',\n",
       " 'PHYSICAL EXAM 213-234: (223) MANUAL DIFFICULTY',\n",
       " 'NPI: DEPRESSION/DYSPHORIA: DISTRESS',\n",
       " 'COGNITIVE EXAM 162-187: (164) DRAWS PENTAGON',\n",
       " 'COGNITIVE EXAM 162-187: (184) RECOGNISES OBJECTS: TELEPHONE',\n",
       " 'COGNITIVE EXAM 120-161: (140) DEFINES HAMMER',\n",
       " 'HISTORY PATIENT 74-119: (094) FATHER AGE AT DEATH',\n",
       " 'HAEMATOLOGY: MCH',\n",
       " 'SMOKING: PIPES OR CIGARS',\n",
       " 'COGNITIVE EXAM 162-187: (176) ADDS UP MONEY',\n",
       " 'COGNITIVE EXAM 162-187: (179) SIMILARITIES - FRUIT',\n",
       " 'COGNITIVE EXAM 120-161: (147) RECOGNISES PICTURES: SCALES',\n",
       " 'PHYSICAL EXAM 213-234: (225) SHORTNESS OF BREATH',\n",
       " 'CLINICAL DEMENTIA RATING: MEMORY',\n",
       " 'COGNITIVE EXAM 120-161: (137) IDENTIFIES OBJECTS: WATCH',\n",
       " 'COGNITIVE EXAM 162-187: (187) PATIENT',\n",
       " 'GENDER',\n",
       " 'PHYSICAL EXAM 213-234: (213) BLOOD PRESSURE',\n",
       " 'COGNITIVE EXAM 162-187: (178) RECALLS ADDRESS: BEDFORD',\n",
       " 'Age At Episode',\n",
       " 'COGNITIVE EXAM 120-161: (127) IDENTIFIES STREETS/COUNTRY',\n",
       " 'COGNITIVE EXAM 120-161: (150) REMEMBERS HITLER',\n",
       " 'PHYSICAL EXAM 213-234: (220) DEAFNESS',\n",
       " 'COGNITIVE EXAM 120-161: (128) IDENTIFIES FLOOR',\n",
       " 'PHYSICAL EXAM 213-234: (215) TENDON REFLEXES',\n",
       " 'PHYSICAL EXAM 213-234: (233) VDRL',\n",
       " 'HACHINSKI ISCHAEMIC: HISTORY OF STROKE',\n",
       " 'SMOKING: NON-DRINKER ALMOST ALWAYS',\n",
       " 'COGNITIVE EXAM 162-187: (178) RECALLS ADDRESS: JOHN',\n",
       " 'PHYSICAL EXAM 213-234: (213) BLOOD PRESSURE: DIASTOLIC',\n",
       " 'COGNITIVE EXAM 162-187: (178) RECALLS ADDRESS',\n",
       " 'COGNITIVE EXAM 120-161: (159) COUNTING BACKWARDS',\n",
       " 'PRESENT STATE 47-73: (058) MEMORY PROBLEM',\n",
       " 'PRESENT STATE 47-73: (051) ANXIOUS SITUATIONS',\n",
       " 'COGNITIVE EXAM 120-161: (152) REMEMBERS MAE WEST',\n",
       " 'COGNITIVE EXAM 162-187: (182) SIMILARITIES - LIFE',\n",
       " 'PRESENT STATE 13-46: (044) FUTURE FEELINGS',\n",
       " 'PHYSICAL EXAM 213-234: (218) GAIT',\n",
       " 'COGNITIVE EXAM 120-161: (122) IDENTIFIES MONTH',\n",
       " 'COGNITIVE EXAM 120-161: (133) COMPREHENDS TAP',\n",
       " 'COGNITIVE EXAM 120-161: (161) RECALLS OBJECTS 3: PENNY',\n",
       " 'PRESENT STATE 13-46: (029) DECISION MAKING DIFFICULT',\n",
       " 'NPI: ANXIETY: SEVERITY',\n",
       " 'PHYSICAL EXAM 213-234: (230) SKULL XRAY OR SPECT SCAN',\n",
       " 'BIOCHEMISTRY: PHOSPHATE',\n",
       " 'PRESENT STATE 13-46: (034) SLOWED SPEECH',\n",
       " 'PHYSICAL EXAM 213-234: (229) UREA AND ELECTROLYTES',\n",
       " 'MEDICAL ASSESSMENT V 2010: DEPRESSION TREATED BY DOCTOR',\n",
       " 'COGNITIVE EXAM 120-161: (125) IDENTIFIES COUNTY',\n",
       " 'SMOKING: TEA PER DAY',\n",
       " 'COGNITIVE EXAM 120-161: (161) RECALLS OBJECTS 1: APPLE',\n",
       " 'PRESENT STATE 47-73: (060) FORGETS NAMES',\n",
       " 'COGNITIVE EXAM 120-161: (131) COMPREHENDS TOUCH',\n",
       " 'COGNITIVE EXAM 120-161: (146) RECALLS OBJECTS: SHOE',\n",
       " 'COGNITIVE EXAM 120-161: (129) IDENTIFIES PRESENT PLACE',\n",
       " 'HISTORY PATIENT 74-119: (089) NUMBER OF SISTERS',\n",
       " 'COGNITIVE EXAM 162-187: (172) MIME - WAVE',\n",
       " 'NPI: ANXIETY: FREQUENCY',\n",
       " 'SMOKING: TWO YEARS AGO',\n",
       " 'MEDICAL ASSESSMENT V 2010: AGE STOPPED TOBACCO',\n",
       " 'PHYSICAL EXAM 213-234: (224) ABNORMAL EYE MOVEMENTS',\n",
       " 'PRESENT STATE 13-46: (014) AGE KNOWN',\n",
       " 'COGNITIVE EXAM 120-161: (130) COMPREHENDS NOD',\n",
       " 'PRESENT STATE 47-73: (049) ANXIOUS',\n",
       " 'COGNITIVE EXAM 120-161: (138) NAMES PICTURES: BAROMETER',\n",
       " 'CAMDEX SCORES: TOTAL CAMCOG SCORE',\n",
       " 'SHORTENED CAMBRIDGE ADL: FORGET TO PASS ON PHONE MESSAGES',\n",
       " 'COGNITIVE EXAM 162-187: (178) RECALLS ADDRESS: BROWN',\n",
       " 'COGNITIVE EXAM 162-187: ACTUAL DURATION OF INTERVIEW',\n",
       " 'COGNITIVE EXAM 162-187: (171) DICTATION',\n",
       " 'PRESENT STATE 13-46: (035) SLOWED THOUGHT',\n",
       " 'CAMDEX SCORES: CAMCOG REMOTE MEMORY SCORE',\n",
       " 'COGNITIVE EXAM 120-161: (156) KNOWS PRIME MINISTER',\n",
       " 'DIAGNOSIS 334-351: DEPRESSIVE ILLNESS',\n",
       " 'COGNITIVE EXAM 162-187: (163) READING COMPREHENSION 2',\n",
       " 'PHYSICAL EXAM 213-234: (234) CAUSES OF DEMENTIA EXCLUDED',\n",
       " 'COGNITIVE EXAM 162-187: (181) SIMILARITIES - FURNITURE',\n",
       " 'SMOKING: AGE STARTED CIGARETTES',\n",
       " 'COGNITIVE EXAM 120-161: (138) NAMES PICTURES: TYPEWRITER',\n",
       " 'HISTORY PATIENT 74-119: (077) HISTORY OF HEAD INJURY',\n",
       " 'COGNITIVE EXAM 162-187: HANDED',\n",
       " 'COGNITIVE EXAM 120-161: (153) REMEMBERS LINDBERGH',\n",
       " 'BIOCHEMISTRY: HDL CHOLESTEROL',\n",
       " 'COGNITIVE EXAM 162-187: (184) RECOGNISES OBJECTS: SPECTACLES',\n",
       " 'PM INFORMATION: APOE: RESULT',\n",
       " 'PHYSICAL EXAM 213-234: (226) FULL BLOOD COUNT',\n",
       " 'HAEMATOLOGY: HAEMATOCRIT',\n",
       " 'PRESENT STATE 13-46: (018) LIVING ARRANGEMENTS',\n",
       " 'COGNITIVE EXAM 162-187: (166) DRAWS HOUSE',\n",
       " 'COGNITIVE EXAM 162-187: (167) CLOCK DRAWING: NUMBERS',\n",
       " 'MEDICAL ASSESSMENT V 2010: DEPRESSION',\n",
       " 'PRESENT STATE 13-46: (030) PLEASURE LOSS',\n",
       " 'PHYSICAL EXAM 213-234: (219) MOBILITY',\n",
       " 'HISTORY PATIENT 74-119: (090) SUBJECTS POSTN. IN FAMILY',\n",
       " 'COGNITIVE EXAM 162-187: (184) RECOGNISES OBJECTS: PURSE',\n",
       " 'COGNITIVE EXAM 120-161: (144) REPETITION',\n",
       " 'HAEMATOLOGY: MCV',\n",
       " 'PHYSICAL EXAM 213-234: (216) PLANTAR REFLEXES',\n",
       " 'COGNITIVE EXAM 120-161: (134) COMPREHENDS HOTEL',\n",
       " 'COGNITIVE EXAM 120-161: (138) NAMES PICTURES: SUITCASE',\n",
       " 'COGNITIVE EXAM 162-187: (167) CLOCK DRAWING: TIME',\n",
       " 'COGNITIVE EXAM 120-161: (126) IDENTIFIES TOWN',\n",
       " 'MEDICAL ASSESSMENT V 2010: ANXIETY',\n",
       " 'COGNITIVE EXAM 120-161: (146) RECALLS OBJECTS: LAMP',\n",
       " 'COGNITIVE EXAM 120-161: (149) REMEMBERS WW2 DATE',\n",
       " 'PRESENT STATE 13-46: (036) FEELING DEPRESSED',\n",
       " 'CAMDEX ADMINISTRATION 1-12: EST OF SEVERITY OF DEPRESSION',\n",
       " 'HISTORY PATIENT 74-119: (086) NUMBER OF SONS',\n",
       " 'PHYSICAL EXAM 213-234: (232) CT OR MRI SCAN',\n",
       " 'COGNITIVE EXAM 120-161: (138) NAMES PICTURES: SCALES',\n",
       " 'COGNITIVE EXAM 120-161: (120) IDENTIFIES DAY OF WEEK',\n",
       " 'COGNITIVE EXAM 120-161: (146) RECALLS OBJECTS: TYPEWRITER',\n",
       " 'DIAGNOSIS 334-351: ANXIETY/PHOBIC',\n",
       " 'HAEMATOLOGY: HAEMOGLOBIN',\n",
       " 'COGNITIVE EXAM 120-161: (155) KNOWS HEIR TO THRONE',\n",
       " 'SMOKING: ALCOHOL IN PAST 12 MONTHS',\n",
       " 'COGNITIVE EXAM 120-161: (146) RECALLS OBJECTS: SUITCASE',\n",
       " 'HAEMATOLOGY: RED CELL COUNT',\n",
       " 'INTERVIEWER OBS 188-212: (196) DEPRESSED MOOD',\n",
       " 'COGNITIVE EXAM 162-187: (168) WRITES A SENTENCE',\n",
       " 'PRESENT STATE 47-73: (064) CHANGE IN MEMORY PROBLEMS',\n",
       " 'COGNITIVE EXAM 120-161: (161) RECALLS OBJECTS 2: TABLE',\n",
       " 'COGNITIVE EXAM 162-187: (170) PRAXIS - ENVELOPE',\n",
       " 'CAMDEX SCORES: CAMCOG LEARNING MEMORY SCORE',\n",
       " 'COGNITIVE EXAM 162-187: (169) PRAXIS - PAPER: RIGHT HAND',\n",
       " 'COGNITIVE EXAM 120-161: (154) KNOWS MONARCH',\n",
       " 'COGNITIVE EXAM 162-187: (169) PRAXIS - PAPER: ON LAP',\n",
       " 'BIOCHEMISTRY: CHOLESTEROL/HDL RATIO',\n",
       " 'SMOKING: AVERAGE PER WEEK',\n",
       " 'COGNITIVE EXAM 120-161: (151) REMEMBERS STALIN',\n",
       " 'PHYSICAL EXAM 213-234: (221) VISUAL DEFECT',\n",
       " 'SHORTENED CAMBRIDGE ADL: POOR DAY-TO-DAY MEMORY',\n",
       " 'COGNITIVE EXAM 120-161: (146) RECALLS OBJECTS',\n",
       " 'COGNITIVE EXAM 162-187: (167) CLOCK DRAWING: CIRCLE',\n",
       " 'SMOKING: THIRTY YEARS AGO',\n",
       " 'GDS: AVOID SOCIAL GATHERINGS',\n",
       " 'SMOKING: TEN YEARS AGO',\n",
       " 'PHYSICAL EXAM 213-234: (228) THYROID FUNCTION TESTS',\n",
       " 'NPI: ANXIETY: DISTRESS',\n",
       " 'PRESENT STATE 13-46: (033) CONCENTRATION DIFFICULT',\n",
       " 'BIOCHEMISTRY: CHOLESTEROL',\n",
       " 'COGNITIVE EXAM 120-161: (147) RECOGNISES PICTURES: BAROMETER',\n",
       " 'COGNITIVE EXAM 120-161: (158) REGISTERS OBJECTS 1: APPLE',\n",
       " 'COGNITIVE EXAM 162-187: (174) MIME - BRUSHING TEETH',\n",
       " 'COGNITIVE EXAM 162-187: (184) RECOGNISES OBJECTS: PIPE',\n",
       " 'MEDICAL ASSESSMENT V 2010: AGE STOPPED ALCOHOL',\n",
       " 'PHYSICAL EXAM 213-234: (217) HEMIPARESIS',\n",
       " 'PHYSICAL EXAM 213-234: (231) LIVER FUNCTION TESTS',\n",
       " 'COGNITIVE EXAM 120-161: (124) IDENTIFIES SEASON',\n",
       " 'COGNITIVE EXAM 120-161: (158) REGISTERS OBJECTS 3: PENNY',\n",
       " 'MEDICAL ASSESSMENT V 2010: STROKE',\n",
       " 'COGNITIVE EXAM 120-161: (138) NAMES PICTURES: SHOE',\n",
       " 'COGNITIVE EXAM 162-187: (167) CLOCK DRAWING',\n",
       " 'BIOCHEMISTRY: ALBUMIN',\n",
       " 'COGNITIVE EXAM 120-161: (160A) SPELL BACKWARD',\n",
       " 'SMOKING: CIGARETTES: NO. PER YEAR',\n",
       " 'PRESENT STATE 47-73: (053) DURATION OF PANIC',\n",
       " 'MEDICAL ASSESSMENT V 2010: HEAD INJURY',\n",
       " 'PRESENT STATE 47-73: (050) PHYSICAL SYMPTOMS',\n",
       " 'INTERVIEWER OBS 188-212: (195) ANXIOUS OR FEARFUL',\n",
       " 'NPI: ANXIETY: F X S',\n",
       " 'PRESENT STATE 13-46: (017) YEARS IN FURTHER EDUCATION',\n",
       " 'MEDICAL ASSESSMENT V 2010: ALCOHOL CONSUPTION',\n",
       " 'COGNITIVE EXAM 162-187: (162) READING COMPREHENSION 1',\n",
       " 'PM INFORMATION: APOE',\n",
       " 'HISTORY PATIENT 74-119: (087) NUMBER OF DAUGHTERS',\n",
       " 'HISTORY PATIENT 74-119: (088) NUMBER OF BROTHERS',\n",
       " 'COGNITIVE EXAM 120-161: (147) RECOGNISES PICTURES',\n",
       " 'CAMDEX SCORES: CAMCOG EXPRESSION SCORE',\n",
       " 'COGNITIVE EXAM 120-161: (136) COMPREHENDS RADIO']"
      ]
     },
     "execution_count": 28,
     "metadata": {},
     "output_type": "execute_result"
    }
   ],
   "source": [
    "act_intrvw_dur = prepared_dataset['COGNITIVE EXAM 162-187: ACTUAL DURATION OF INTERVIEW'].replace([999], [np.nan])\n",
    "pat_intrvw_dur = prepared_dataset['COGNITIVE EXAM 162-187: (187) PATIENT']\n",
    "\n",
    "prepared_dataset = actual_interview-prepared_dataset['COGNITIVE EXAM 162-187: (187) PATIENT']"
   ]
  },
  {
   "cell_type": "code",
   "execution_count": null,
   "metadata": {},
   "outputs": [],
   "source": [
    "for i, j in zip(prepared_dataset, prepared_dataset.dtypes):\n",
    "    if not (j == \"float64\" or j == \"int64\"):\n",
    "        print(i)\n",
    "        prepared_dataset[i] = pd.to_numeric(prepared_dataset[i], errors='coerce')"
   ]
  },
  {
   "cell_type": "code",
   "execution_count": null,
   "metadata": {},
   "outputs": [],
   "source": [
    "prepared_dataset.shape"
   ]
  },
  {
   "cell_type": "code",
   "execution_count": null,
   "metadata": {},
   "outputs": [],
   "source": [
    "# drop irrelavent columns\n",
    "prepared_dataset = prepared_dataset.drop(columns=score_columns)\n",
    "prepared_dataset = prepared_dataset.replace([-1], [np.nan])\n",
    "prepared_dataset = drop_missing_columns(prepared_dataset, 0.70)"
   ]
  },
  {
   "cell_type": "code",
   "execution_count": null,
   "metadata": {},
   "outputs": [],
   "source": [
    "currupt_categorical_columns = ['COGNITIVE EXAM 120-161: (158) REGISTERS OBJECTS', 'COGNITIVE EXAM 120-161: (137) IDENTIFIES OBJECTS',]\n",
    "confused_categorical_columns = ['COGNITIVE EXAM 162-187: (174) MIME - BRUSHING TEETH']                               \n",
    "categorical_columns = [col for col in prepared_dataset.columns if col in data_variable_cat.keys()]\n",
    "categorical_columns_final = list(set(categorical_columns)-set(currupt_categorical_columns)-set(confused_categorical_columns))\n",
    "drop_columns = ['DIAGNOSIS 334-351: DEPRESSIVE ILLNESS_0.0',\n",
    "               ]"
   ]
  },
  {
   "cell_type": "code",
   "execution_count": null,
   "metadata": {},
   "outputs": [],
   "source": [
    "for column in categorical_columns_final:\n",
    "    def replace_numerical_category(column, x):\n",
    "        if x in data_variable_cat[column]:\n",
    "            x = data_variable_cat[column][x]\n",
    "        else:\n",
    "            x = np.nan\n",
    "        return x\n",
    "    prepared_dataset[column]=prepared_dataset[column].apply(lambda x : replace_numerical_category(column, x))"
   ]
  },
  {
   "cell_type": "code",
   "execution_count": null,
   "metadata": {},
   "outputs": [],
   "source": [
    "prepared_dataset[categorical_columns_final] = prepared_dataset[categorical_columns_final].replace([np.nan], ['Unknown'])"
   ]
  },
  {
   "cell_type": "code",
   "execution_count": null,
   "metadata": {},
   "outputs": [],
   "source": [
    "# Replace not asked and not known to 'Unknown'\n",
    "prepared_dataset[categorical_columns_final] = prepared_dataset[categorical_columns_final].replace(['Not asked'], ['Unknown'])\n",
    "prepared_dataset[categorical_columns_final] = prepared_dataset[categorical_columns_final].replace(['Not known'], ['Unknown'])"
   ]
  },
  {
   "cell_type": "code",
   "execution_count": null,
   "metadata": {},
   "outputs": [],
   "source": [
    "def find_mixed_type_list(l):\n",
    "    for i in range(0,len(l)-1):\n",
    "        if type(l[i])!=type(l[i+1]):\n",
    "            return True\n",
    "    return False\n",
    "        \n",
    "list_corrupted_columns = []        \n",
    "for col in categorical_columns:\n",
    "    if find_mixed_type_list(prepared_dataset[col].unique().tolist()):\n",
    "        list_corrupted_columns.append(col)\n",
    "        print (col,': ',prepared_dataset[col].unique().tolist())\n",
    "\n",
    "print(len(list_corrupted_columns))"
   ]
  },
  {
   "cell_type": "code",
   "execution_count": null,
   "metadata": {},
   "outputs": [],
   "source": [
    "for col in list_corrupted_columns:\n",
    "    print (prepared_dataset.groupby(col)[col].count())"
   ]
  },
  {
   "cell_type": "code",
   "execution_count": null,
   "metadata": {},
   "outputs": [],
   "source": [
    "# replace notasked and doesnot know values\n",
    "# prepared_dataset[categorical_columns] = prepared_dataset[categorical_columns].replace([8, 9], [np.nan, np.nan])"
   ]
  },
  {
   "cell_type": "code",
   "execution_count": null,
   "metadata": {},
   "outputs": [],
   "source": [
    "prepared_dataset.shape"
   ]
  },
  {
   "cell_type": "code",
   "execution_count": null,
   "metadata": {},
   "outputs": [],
   "source": [
    "prepared_dataset[categorical_columns_final] = prepared_dataset[categorical_columns_final].replace(['Unknown'], [np.nan])"
   ]
  },
  {
   "cell_type": "code",
   "execution_count": null,
   "metadata": {},
   "outputs": [],
   "source": [
    "# # drop rows with maximum number of missing values # drop missing values\n",
    "prepared_dataset = drop_missing_columns(prepared_dataset[prepared_dataset.isna().sum(axis=1)<80], 0.95)\n",
    "prepared_dataset.shape"
   ]
  },
  {
   "cell_type": "code",
   "execution_count": null,
   "metadata": {},
   "outputs": [],
   "source": [
    "# if drop score columns\n",
    "# prepared_dataset = prepared_dataset[prepared_dataset['CAMDEX SCORES: MINI MENTAL SCORE']>=0]"
   ]
  },
  {
   "cell_type": "code",
   "execution_count": null,
   "metadata": {},
   "outputs": [],
   "source": [
    "prepared_dataset.shape"
   ]
  },
  {
   "cell_type": "code",
   "execution_count": null,
   "metadata": {},
   "outputs": [],
   "source": [
    "# feature transforamtion - one-hot encoding\n",
    "\n",
    "prepared_dataset_exp = prepared_dataset\n",
    "\n",
    "# select categorical data columns\n",
    "\n",
    "categorical_columns_final_exp = [col for col in prepared_dataset_exp.columns if col in categorical_columns_final]\n",
    "\n",
    "new_prepared_data = prepared_dataset_exp.drop(categorical_columns_final_exp, axis=1)\n",
    "for i in categorical_columns_final_exp:\n",
    "    x = pd.get_dummies(prepared_dataset_exp[i]).add_prefix(i+'::')\n",
    "    new_prepared_data = pd.concat([new_prepared_data, x], axis=1)\n",
    "    \n",
    "new_prepared_data['dementia_range'] = prepared_dataset_exp['dementia_range']\n",
    "\n",
    "prepared_dataset_exp = new_prepared_data"
   ]
  },
  {
   "cell_type": "code",
   "execution_count": null,
   "metadata": {},
   "outputs": [],
   "source": [
    "prepared_dataset_exp.shape"
   ]
  },
  {
   "cell_type": "code",
   "execution_count": null,
   "metadata": {},
   "outputs": [],
   "source": [
    "# prepared_dataset_exp = prepared_dataset_exp.drop(columns=[col for col in prepared_dataset_exp.columns if '::Unknown' in col])\n",
    "# prepared_dataset_exp.shape"
   ]
  },
  {
   "cell_type": "code",
   "execution_count": null,
   "metadata": {},
   "outputs": [],
   "source": [
    "# drop Nagative Features\n",
    "prepared_dataset_exp= prepared_dataset_exp.drop(columns=[col for col in prepared_dataset_exp.columns if '::Incorrect' in col])"
   ]
  },
  {
   "cell_type": "code",
   "execution_count": null,
   "metadata": {},
   "outputs": [],
   "source": [
    "prepared_dataset_exp = prepared_dataset_exp.dropna()\n",
    "prepared_dataset_exp.shape"
   ]
  },
  {
   "cell_type": "code",
   "execution_count": null,
   "metadata": {},
   "outputs": [],
   "source": [
    "# model training\n",
    "def change_feature_names(feature_name):\n",
    "    p1 = '\\w.*\\d.*-\\d.*:\\s\\(\\d.*\\w\\)\\s'\n",
    "    p2 = '\\w.*:\\s'\n",
    "    feature_name = re.sub(p1, '', feature_name)\n",
    "    #feature_name = re.sub(p2, '', feature_name)\n",
    "    for key, value in score_dict.items():\n",
    "        if feature_name in key:\n",
    "            feature_name = feature_name+'{}'.format(value)\n",
    "    return feature_name\n"
   ]
  },
  {
   "cell_type": "code",
   "execution_count": null,
   "metadata": {},
   "outputs": [],
   "source": [
    "print([change_feature_names(fea) for fea in prepared_dataset_exp.columns.tolist()])"
   ]
  },
  {
   "cell_type": "code",
   "execution_count": null,
   "metadata": {},
   "outputs": [],
   "source": [
    "# training data\n",
    "X_full, y_full = prepared_dataset_exp.drop(columns=['dementia_range']), prepared_dataset_exp['dementia_range']"
   ]
  },
  {
   "cell_type": "code",
   "execution_count": null,
   "metadata": {},
   "outputs": [],
   "source": [
    "X_full.shape, y_full.unique(), y_full[y_full==0].shape, y_full[y_full==1].shape, y_full[y_full==2].shape"
   ]
  },
  {
   "cell_type": "code",
   "execution_count": null,
   "metadata": {},
   "outputs": [],
   "source": [
    "\n",
    "# impute missing values\n",
    "'''knn_estimator = KNeighborsRegressor(n_neighbors=15)\n",
    "imputer = IterativeImputer(random_state=0, estimator=knn_estimator)\n",
    "X_full_imput = imputer.fit_transform(X_full)\n",
    "y_full_imput = y_full.values'''"
   ]
  },
  {
   "cell_type": "code",
   "execution_count": null,
   "metadata": {},
   "outputs": [],
   "source": [
    "X_full_imput, y_full_imput = X_full.values, y_full.values\n",
    "\n",
    "rf_estimator = RandomForestClassifier(max_depth=5, random_state=0)\n",
    "cv = StratifiedShuffleSplit(n_splits=5, test_size=0.3, random_state=123)\n",
    "important_features = set()\n",
    "important_features_size = 50\n",
    "for i, (train, test) in enumerate(cv.split(X_full_imput, y_full_imput)):\n",
    "    rf_estimator.fit(X_full_imput[train], y_full_imput[train])\n",
    "    y_predicted = rf_estimator.predict(X_full_imput[test])\n",
    "    print (classification_report(y_full_imput[test], y_predicted))\n",
    "    \n",
    "    # print important features\n",
    "    # model important feature\n",
    "    fea_importance = rf_estimator.feature_importances_\n",
    "    indices = np.argsort(fea_importance)[::-1]\n",
    "    for f in range(important_features_size):\n",
    "        # print(\"%d. feature: %s (%f)\" % (f + 1, X_full.columns.values[indices[f]], fea_importance[indices[f]]))\n",
    "        important_features.add(X_full.columns.values[indices[f]])\n",
    "    \n",
    "    print(rf_estimator.predict([X_full_imput[test][800]]))\n",
    "    #lime interpretability \n",
    "    \"\"\"explainer = lime.lime_tabular.LimeTabularExplainer(np.array(X_full_imput[train]), \n",
    "                                                       feature_names=[change_feature_names(fea) for fea in X_full.columns.values], \n",
    "                                                       class_names=['No Dem.', 'Min-Mild Dem.', 'Mod-Sev Dem.'],#rf_estimator.classes_, \n",
    "                                                       #discretize_continuous=True, \n",
    "                                                       random_state=123)\n",
    "    exp = explainer.explain_instance(X_full_imput[test][800], rf_estimator.predict_proba, num_features=10, top_labels=2)\n",
    "    #exp.show_in_notebook(show_table=True, show_all=False)\n",
    "    exp.save_to_file('model_4DT_'+str(i)+'.html')\"\"\"\n",
    "    #print (exp.as_list())\n",
    "    #fig = exp.as_pyplot_figure()\n",
    "    #plt.show()\n",
    "    \n",
    "    # shap interpretability\n",
    "    \n",
    "#important feature list\n",
    "print ('important_features: ', list(important_features))"
   ]
  },
  {
   "cell_type": "code",
   "execution_count": null,
   "metadata": {},
   "outputs": [],
   "source": [
    "prepared_dataset_exp_full = prepared_dataset_exp\n",
    "\n",
    "#Taking important features\n",
    "prepared_dataset_exp = prepared_dataset_exp[list(important_features)+['dementia_range']]\n",
    "\n",
    "X_train, X_test, y_train, y_test = train_test_split(prepared_dataset_exp.drop(columns=['dementia_range']).values, prepared_dataset_exp['dementia_range'].values, test_size=0.3, random_state=123, stratify=prepared_dataset_exp['dementia_range'])"
   ]
  },
  {
   "cell_type": "code",
   "execution_count": null,
   "metadata": {},
   "outputs": [],
   "source": [
    "import graphviz\n",
    "from sklearn import tree\n",
    "from six import StringIO  \n",
    "from IPython.display import Image  \n",
    "from sklearn.tree import export_graphviz\n",
    "import pydotplus, joblib\n",
    "from svglib.svglib import svg2rlg\n",
    "from reportlab.graphics import renderPDF, renderPM\n",
    "\n",
    "feature_names = prepared_dataset_exp.drop(columns=['dementia_range']).columns\n",
    "\n",
    "clf = tree.DecisionTreeClassifier(random_state=0, max_depth=5)\n",
    "clf.fit(X_train, y_train) \n",
    "print (X_train.shape, y_train.shape)\n",
    "print(clf.score(X_test, y_test))\n",
    "y_pred = clf.predict(X_test)\n",
    "print (classification_report(y_test, y_pred))\n",
    "\n",
    "dot_data = StringIO()\n",
    "export_graphviz(clf, out_file=dot_data,  \n",
    "                filled=True, rounded=True,\n",
    "                special_characters=True, feature_names=feature_names, \n",
    "               class_names=['No Dementia', 'Minimal or Mild Dementia', 'Moderate or Severe Dementia'])\n",
    "graph = pydotplus.graph_from_dot_data(dot_data.getvalue())  \n",
    "#Image(graph.create_png())"
   ]
  },
  {
   "cell_type": "code",
   "execution_count": null,
   "metadata": {},
   "outputs": [],
   "source": [
    "def change_feature_names(feature_name):\n",
    "    p1 = '\\w.*\\d.*-\\d.*:\\s\\(\\d.*\\w\\)\\s'\n",
    "    p2 = '\\w.*:\\s'\n",
    "    feature_name = re.sub(p1, '', feature_name)\n",
    "    # feature_name = re.sub(p2, '', feature_name)\n",
    "    for key, value in score_dict.items():\n",
    "        if feature_name in key:\n",
    "            feature_name = feature_name+'{}'.format(value)\n",
    "    return feature_name\n",
    "    \n",
    "\n",
    "\n",
    "bool_feature_names_DT = prepared_dataset_exp.select_dtypes(include='uint8').columns\n",
    "feature_names_DT = [change_feature_names(i) for i in feature_names]\n",
    "bool_feature_names_DT = [change_feature_names(i) for i in  bool_feature_names_DT] # Important 0: NO and 1: YES\n",
    "bool_feature_names_true_DT = [i for i in bool_feature_names_DT if '::' in i] #('IDENTIFIES' in i or 'RECALL' in i) and '_1.0' in i ]\n",
    "bool_feature_names_false_DT = [i for i in bool_feature_names_DT if '::' in i] #('IDENTIFIES' in i or 'RECALL' in i) and '_0.0' in i ]\n",
    "feature_names_for_split_DT = [i for i in feature_names_DT if ' SCORE' in i] \n",
    "#print(feature_names_for_split_DT)\n",
    "\n",
    "viz = dtreeviz(clf, \n",
    "               x_data=X_train,\n",
    "               y_data=y_train,\n",
    "               target_name='class',\n",
    "               feature_names=feature_names_DT,\n",
    "               bool_feature_names_true=bool_feature_names_true_DT,\n",
    "               bool_feature_names_false=bool_feature_names_false_DT,\n",
    "               feature_names_for_split=feature_names_for_split_DT,\n",
    "               class_names=['No Dementia', 'Minimal or Mild Dementia', 'Moderate or Severe Dementia'],\n",
    "               fancy=False, label_fontsize=40, ticks_fontsize=2)\n",
    "\n",
    "viz.save('Xmodel_4DT.svg')\n",
    "drawing = svg2rlg(\"./Xmodel_4DT.svg\".format(i))\n",
    "renderPDF.drawToFile(drawing, \"./Xmodel_4DT.pdf\".format(i))"
   ]
  },
  {
   "cell_type": "code",
   "execution_count": null,
   "metadata": {},
   "outputs": [],
   "source": [
    "\"\"\"from reportlab.graphics import renderPDF, renderPM\n",
    "from svglib.svglib import svg2rlg\n",
    "drawing = svg2rlg(\"./method_4DT.svg\")\n",
    "renderPDF.drawToFile(drawing, \"./method_4DT.pdf\")\"\"\""
   ]
  }
 ],
 "metadata": {
  "kernelspec": {
   "display_name": "Python 3",
   "language": "python",
   "name": "python3"
  },
  "language_info": {
   "codemirror_mode": {
    "name": "ipython",
    "version": 3
   },
   "file_extension": ".py",
   "mimetype": "text/x-python",
   "name": "python",
   "nbconvert_exporter": "python",
   "pygments_lexer": "ipython3",
   "version": "3.8.5"
  }
 },
 "nbformat": 4,
 "nbformat_minor": 4
}
