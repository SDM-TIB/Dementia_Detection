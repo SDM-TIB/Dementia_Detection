{
 "cells": [
  {
   "cell_type": "code",
   "execution_count": 1,
   "metadata": {},
   "outputs": [],
   "source": [
    "from utils_int import *\n",
    "from defines_int import *\n",
    "\n",
    "import numpy as np\n",
    "import pandas as pd\n",
    "\n",
    "from collections import Counter\n",
    "\n",
    "from sklearn.svm import SVC\n",
    "from sklearn.naive_bayes import BernoulliNB\n",
    "from sklearn.neural_network import MLPClassifier\n",
    "from sklearn.model_selection import GridSearchCV\n",
    "from sklearn.ensemble import RandomForestClassifier\n",
    "from sklearn.linear_model import LogisticRegression\n",
    "from sklearn.model_selection import train_test_split\n",
    "from sklearn.preprocessing import StandardScaler, OneHotEncoder\n",
    "from sklearn.metrics import classification_report, f1_score, accuracy_score, make_scorer\n",
    "from sklearn.experimental import enable_iterative_imputer\n",
    "from sklearn.impute import IterativeImputer\n",
    "from sklearn.linear_model import BayesianRidge\n",
    "from sklearn.tree import DecisionTreeRegressor\n",
    "from sklearn.ensemble import ExtraTreesRegressor\n",
    "from sklearn.neighbors import KNeighborsRegressor\n",
    "from sklearn.pipeline import make_pipeline\n",
    "from sklearn.model_selection import cross_val_score, StratifiedShuffleSplit, StratifiedKFold\n",
    "import re\n",
    "\n",
    "import pathlib\n",
    "\n",
    "\n",
    "from sklearn.datasets import *\n",
    "from dtreeviz.trees import *\n",
    "from IPython.display import Image, display_svg, SVG\n",
    "\n",
    "\n",
    "# import lime\n",
    "import lime\n",
    "import lime.lime_tabular\n",
    "\n",
    "#pickle\n",
    "import pickle\n",
    "\n",
    "#import shap\n",
    "import shap"
   ]
  },
  {
   "cell_type": "code",
   "execution_count": 2,
   "metadata": {},
   "outputs": [
    {
     "data": {
      "text/plain": [
       "911"
      ]
     },
     "execution_count": 2,
     "metadata": {},
     "output_type": "execute_result"
    }
   ],
   "source": [
    "# data from variable guide\n",
    "data_variable_cat = {}\n",
    "with open(\"data_variable_cat.pkl\", \"rb\") as f:\n",
    "    data_variable_cat = pickle.load(f)\n",
    "\n",
    "len(data_variable_cat)"
   ]
  },
  {
   "cell_type": "code",
   "execution_count": 3,
   "metadata": {},
   "outputs": [],
   "source": [
    "data = pd.read_pickle(orginal_data_path+'Optima_Data_Report_Cases_9584_filled_pickle')"
   ]
  },
  {
   "cell_type": "code",
   "execution_count": 4,
   "metadata": {},
   "outputs": [
    {
     "data": {
      "text/plain": [
       "(9584, 1593)"
      ]
     },
     "execution_count": 4,
     "metadata": {},
     "output_type": "execute_result"
    }
   ],
   "source": [
    "data.shape"
   ]
  },
  {
   "cell_type": "code",
   "execution_count": 5,
   "metadata": {},
   "outputs": [
    {
     "data": {
      "text/plain": [
       "210"
      ]
     },
     "execution_count": 5,
     "metadata": {},
     "output_type": "execute_result"
    }
   ],
   "source": [
    "len(attributes_considered)"
   ]
  },
  {
   "cell_type": "code",
   "execution_count": 6,
   "metadata": {},
   "outputs": [
    {
     "data": {
      "text/plain": [
       "242"
      ]
     },
     "execution_count": 6,
     "metadata": {},
     "output_type": "execute_result"
    }
   ],
   "source": [
    "attributes_considered += george_labels_one_years\n",
    "attributes_considered += george_labels_three_years\n",
    "attributes_considered = list(set(attributes_considered))\n",
    "len(attributes_considered)"
   ]
  },
  {
   "cell_type": "code",
   "execution_count": 7,
   "metadata": {},
   "outputs": [],
   "source": [
    "all_dementia = [['CAMDEX ADMINISTRATION 1-12: EST SEVERITY OF DEMENTIA', [1, 2, 3, 4]],\n",
    "           ['DIAGNOSIS 334-351: DEMENTIA   CLOUDED', [1]],\n",
    "           ['DIAGNOSIS 334-351: CLOUDED   DEMENTIA', [1]],\n",
    "           ['DIAGNOSIS 334-351: SEVERITY OF DEMENTIA', [1, 2, 3, 4]],\n",
    "           [\"OPTIMA DIAGNOSES V 2010: DEMENTIA PRESENT\", [1, 2, 3]],\n",
    "           [\"OPTIMA DIAGNOSES V 2010: MIXED DEMENTIA\", [1]],\n",
    "           [\"GENERAL INFORMATION: SPET SCORE\", [6]],\n",
    "           [\"GENERAL INFORMATION: DSM-IIIR\", [1]],\n",
    "           [\"GENERAL INFORMATION: CLINICAL DIAGNOSIS 1\", [1]]]"
   ]
  },
  {
   "cell_type": "code",
   "execution_count": 8,
   "metadata": {},
   "outputs": [],
   "source": [
    "no_dementia = [['CAMDEX ADMINISTRATION 1-12: EST SEVERITY OF DEMENTIA', [0]],\n",
    "           ['DIAGNOSIS 334-351: SEVERITY OF DEMENTIA', [0]],\n",
    "           [\"OPTIMA DIAGNOSES V 2010: DEMENTIA PRESENT\", [0]],\n",
    "           [\"GENERAL INFORMATION: DSM-IIIR\", [0]],\n",
    "           [\"GENERAL INFORMATION: CLINICAL DIAGNOSIS 1\", [0]]]"
   ]
  },
  {
   "cell_type": "code",
   "execution_count": 9,
   "metadata": {},
   "outputs": [],
   "source": [
    "dementia = [['CAMDEX ADMINISTRATION 1-12: EST SEVERITY OF DEMENTIA', [1, 2, 3, 4]]]\n",
    "#            ['DIAGNOSIS 334-351: SEVERITY OF DEMENTIA', [1, 2, 3, 4]]]"
   ]
  },
  {
   "cell_type": "code",
   "execution_count": 10,
   "metadata": {},
   "outputs": [
    {
     "name": "stdout",
     "output_type": "stream",
     "text": [
      "2552 CAMDEX ADMINISTRATION 1-12: EST SEVERITY OF DEMENTIA\n"
     ]
    }
   ],
   "source": [
    "dem = set()\n",
    "for i, j in dementia:\n",
    "    dem |= extract_values(data, i, j)[0]"
   ]
  },
  {
   "cell_type": "code",
   "execution_count": 11,
   "metadata": {},
   "outputs": [
    {
     "name": "stdout",
     "output_type": "stream",
     "text": [
      "2552 CAMDEX ADMINISTRATION 1-12: EST SEVERITY OF DEMENTIA\n",
      "10 DIAGNOSIS 334-351: DEMENTIA   CLOUDED\n",
      "2 DIAGNOSIS 334-351: CLOUDED   DEMENTIA\n",
      "814 DIAGNOSIS 334-351: SEVERITY OF DEMENTIA\n",
      "951 OPTIMA DIAGNOSES V 2010: DEMENTIA PRESENT\n",
      "172 OPTIMA DIAGNOSES V 2010: MIXED DEMENTIA\n",
      "0 GENERAL INFORMATION: SPET SCORE\n",
      "1 GENERAL INFORMATION: DSM-IIIR\n",
      "876 GENERAL INFORMATION: CLINICAL DIAGNOSIS 1\n"
     ]
    }
   ],
   "source": [
    "all_dem = set()\n",
    "for i, j in all_dementia:\n",
    "    all_dem |= extract_values(data, i, j)[0]"
   ]
  },
  {
   "cell_type": "code",
   "execution_count": 12,
   "metadata": {},
   "outputs": [
    {
     "name": "stdout",
     "output_type": "stream",
     "text": [
      "2084 CAMDEX ADMINISTRATION 1-12: EST SEVERITY OF DEMENTIA\n",
      "985 DIAGNOSIS 334-351: SEVERITY OF DEMENTIA\n",
      "2185 OPTIMA DIAGNOSES V 2010: DEMENTIA PRESENT\n",
      "1 GENERAL INFORMATION: DSM-IIIR\n",
      "965 GENERAL INFORMATION: CLINICAL DIAGNOSIS 1\n"
     ]
    }
   ],
   "source": [
    "no_dem = set()\n",
    "for i, j in no_dementia:\n",
    "    no_dem |= extract_values(data, i, j)[0]"
   ]
  },
  {
   "cell_type": "code",
   "execution_count": 13,
   "metadata": {},
   "outputs": [
    {
     "data": {
      "text/plain": [
       "(2552, 3647, 3420)"
      ]
     },
     "execution_count": 13,
     "metadata": {},
     "output_type": "execute_result"
    }
   ],
   "source": [
    "len(dem), len(no_dem), len(all_dem)"
   ]
  },
  {
   "cell_type": "code",
   "execution_count": 14,
   "metadata": {},
   "outputs": [],
   "source": [
    "data_dem = data.loc[dem]"
   ]
  },
  {
   "cell_type": "code",
   "execution_count": 15,
   "metadata": {},
   "outputs": [],
   "source": [
    "data_dem['dementia_range'] = data['CAMDEX ADMINISTRATION 1-12: EST SEVERITY OF DEMENTIA']"
   ]
  },
  {
   "cell_type": "code",
   "execution_count": 16,
   "metadata": {},
   "outputs": [
    {
     "data": {
      "text/plain": [
       "array([3., 1., 2., 4.])"
      ]
     },
     "execution_count": 16,
     "metadata": {},
     "output_type": "execute_result"
    }
   ],
   "source": [
    "data_dem['dementia_range'].unique()"
   ]
  },
  {
   "cell_type": "code",
   "execution_count": 17,
   "metadata": {},
   "outputs": [],
   "source": [
    "data_dem.loc[data_dem['dementia_range']==2, 'dementia_range'] = 1\n",
    "data_dem.loc[data_dem['dementia_range']>1, 'dementia_range'] = 2"
   ]
  },
  {
   "cell_type": "code",
   "execution_count": 18,
   "metadata": {},
   "outputs": [
    {
     "data": {
      "text/plain": [
       "array([2., 1.])"
      ]
     },
     "execution_count": 18,
     "metadata": {},
     "output_type": "execute_result"
    }
   ],
   "source": [
    "data_dem['dementia_range'].unique()"
   ]
  },
  {
   "cell_type": "code",
   "execution_count": 19,
   "metadata": {},
   "outputs": [
    {
     "data": {
      "text/plain": [
       "3647"
      ]
     },
     "execution_count": 19,
     "metadata": {},
     "output_type": "execute_result"
    }
   ],
   "source": [
    "len(no_dem)"
   ]
  },
  {
   "cell_type": "code",
   "execution_count": 20,
   "metadata": {},
   "outputs": [],
   "source": [
    "no_dem -= all_dem"
   ]
  },
  {
   "cell_type": "code",
   "execution_count": 21,
   "metadata": {},
   "outputs": [
    {
     "data": {
      "text/plain": [
       "3259"
      ]
     },
     "execution_count": 21,
     "metadata": {},
     "output_type": "execute_result"
    }
   ],
   "source": [
    "len(no_dem)"
   ]
  },
  {
   "cell_type": "code",
   "execution_count": 22,
   "metadata": {},
   "outputs": [],
   "source": [
    "dem_patients = set(data.loc[all_dem].GLOBAL_PATIENT_DB_ID.unique())"
   ]
  },
  {
   "cell_type": "code",
   "execution_count": 23,
   "metadata": {},
   "outputs": [],
   "source": [
    "no_dem_patients = set(data.loc[no_dem].GLOBAL_PATIENT_DB_ID.unique())"
   ]
  },
  {
   "cell_type": "code",
   "execution_count": 24,
   "metadata": {},
   "outputs": [],
   "source": [
    "no_dem_patients -= dem_patients"
   ]
  },
  {
   "cell_type": "code",
   "execution_count": 25,
   "metadata": {},
   "outputs": [
    {
     "data": {
      "text/plain": [
       "Counter({2.0: 1095, 1.0: 1457})"
      ]
     },
     "execution_count": 25,
     "metadata": {},
     "output_type": "execute_result"
    }
   ],
   "source": [
    "Counter(data_dem['dementia_range'])"
   ]
  },
  {
   "cell_type": "code",
   "execution_count": 26,
   "metadata": {},
   "outputs": [],
   "source": [
    "data_no_dem = data.loc[no_dem]\n",
    "data_no_dem = data_no_dem[data_no_dem['GLOBAL_PATIENT_DB_ID'].isin(no_dem_patients)]\n",
    "data_no_dem['dementia_range'] = 0"
   ]
  },
  {
   "cell_type": "code",
   "execution_count": 27,
   "metadata": {},
   "outputs": [],
   "source": [
    "prepared_dataset = pd.concat([data_dem, data_no_dem])[attributes_considered]"
   ]
  },
  {
   "cell_type": "code",
   "execution_count": 28,
   "metadata": {},
   "outputs": [
    {
     "name": "stdout",
     "output_type": "stream",
     "text": [
      "PRESENT STATE 13-46: (018) LIVING ARRANGEMENTS\n",
      "DIAGNOSIS 334-351: ANXIETY/PHOBIC\n",
      "DIAGNOSIS 334-351: DEPRESSIVE ILLNESS\n",
      "COGNITIVE EXAM 120-161: (160) SUBTRACTING SEVENS\n",
      "COGNITIVE EXAM 162-187: ACTUAL DURATION OF INTERVIEW\n",
      "GENDER\n",
      "DIAGNOSIS 334-351: SEVERITY OF DEPRESSION\n",
      "COGNITIVE EXAM 120-161: (147) RECOGNISES PICTURES\n"
     ]
    }
   ],
   "source": [
    "for i, j in zip(prepared_dataset, prepared_dataset.dtypes):\n",
    "    if not (j == \"float64\" or j == \"int64\"):\n",
    "        print(i)\n",
    "        prepared_dataset[i] = pd.to_numeric(prepared_dataset[i], errors='coerce')"
   ]
  },
  {
   "cell_type": "code",
   "execution_count": 29,
   "metadata": {},
   "outputs": [
    {
     "data": {
      "text/plain": [
       "(4948, 242)"
      ]
     },
     "execution_count": 29,
     "metadata": {},
     "output_type": "execute_result"
    }
   ],
   "source": [
    "prepared_dataset.shape"
   ]
  },
  {
   "cell_type": "code",
   "execution_count": 30,
   "metadata": {},
   "outputs": [
    {
     "name": "stdout",
     "output_type": "stream",
     "text": [
      "Before dataset.shape (4948, 235)\n",
      "After dataset.shape (4948, 158)\n"
     ]
    }
   ],
   "source": [
    "# drop irrelavent columns\n",
    "prepared_dataset = prepared_dataset.drop(columns=score_columns)\n",
    "prepared_dataset = prepared_dataset.replace([-1], [np.nan])\n",
    "prepared_dataset = drop_missing_columns(prepared_dataset, 0.70)"
   ]
  },
  {
   "cell_type": "code",
   "execution_count": 31,
   "metadata": {},
   "outputs": [
    {
     "data": {
      "text/plain": [
       "\"currupt_categorical_columns = ['COGNITIVE EXAM 120-161: (158) REGISTERS OBJECTS', 'COGNITIVE EXAM 120-161: (137) IDENTIFIES OBJECTS',]\\nconfused_categorical_columns = ['COGNITIVE EXAM 162-187: (174) MIME - BRUSHING TEETH']                               \\ncategorical_columns = [col for col in prepared_dataset.columns if col in data_variable_cat.keys()]\\ncategorical_columns_final = list(set(categorical_columns)-set(currupt_categorical_columns)-set(confused_categorical_columns))\\ndrop_columns = ['DIAGNOSIS 334-351: DEPRESSIVE ILLNESS_0.0',\\n               ]\""
      ]
     },
     "execution_count": 31,
     "metadata": {},
     "output_type": "execute_result"
    }
   ],
   "source": [
    "'''currupt_categorical_columns = ['COGNITIVE EXAM 120-161: (158) REGISTERS OBJECTS', 'COGNITIVE EXAM 120-161: (137) IDENTIFIES OBJECTS',]\n",
    "confused_categorical_columns = ['COGNITIVE EXAM 162-187: (174) MIME - BRUSHING TEETH']                               \n",
    "categorical_columns = [col for col in prepared_dataset.columns if col in data_variable_cat.keys()]\n",
    "categorical_columns_final = list(set(categorical_columns)-set(currupt_categorical_columns)-set(confused_categorical_columns))\n",
    "drop_columns = ['DIAGNOSIS 334-351: DEPRESSIVE ILLNESS_0.0',\n",
    "               ]'''"
   ]
  },
  {
   "cell_type": "code",
   "execution_count": 32,
   "metadata": {},
   "outputs": [
    {
     "data": {
      "text/plain": [
       "'for column in categorical_columns_final:\\n    def replace_numerical_category(column, x):\\n        if x in data_variable_cat[column]:\\n            x = data_variable_cat[column][x]\\n        else:\\n            x = np.nan\\n        return x\\n    prepared_dataset[column]=prepared_dataset[column].apply(lambda x : replace_numerical_category(column, x))'"
      ]
     },
     "execution_count": 32,
     "metadata": {},
     "output_type": "execute_result"
    }
   ],
   "source": [
    "'''for column in categorical_columns_final:\n",
    "    def replace_numerical_category(column, x):\n",
    "        if x in data_variable_cat[column]:\n",
    "            x = data_variable_cat[column][x]\n",
    "        else:\n",
    "            x = np.nan\n",
    "        return x\n",
    "    prepared_dataset[column]=prepared_dataset[column].apply(lambda x : replace_numerical_category(column, x))'''"
   ]
  },
  {
   "cell_type": "code",
   "execution_count": 33,
   "metadata": {},
   "outputs": [],
   "source": [
    "# prepared_dataset[categorical_columns_final] = prepared_dataset[categorical_columns_final].replace([np.nan], ['Unknown'])"
   ]
  },
  {
   "cell_type": "code",
   "execution_count": 34,
   "metadata": {},
   "outputs": [],
   "source": [
    "# Replace not asked and not known to 'Unknown'\n",
    "# prepared_dataset[categorical_columns_final] = prepared_dataset[categorical_columns_final].replace(['Not asked'], ['Unknown'])\n",
    "# prepared_dataset[categorical_columns_final] = prepared_dataset[categorical_columns_final].replace(['Not known'], ['Unknown'])"
   ]
  },
  {
   "cell_type": "code",
   "execution_count": 35,
   "metadata": {},
   "outputs": [
    {
     "data": {
      "text/plain": [
       "\"def find_mixed_type_list(l):\\n    for i in range(0,len(l)-1):\\n        if type(l[i])!=type(l[i+1]):\\n            return True\\n    return False\\n        \\nlist_corrupted_columns = []        \\nfor col in categorical_columns:\\n    if find_mixed_type_list(prepared_dataset[col].unique().tolist()):\\n        list_corrupted_columns.append(col)\\n        print (col,': ',prepared_dataset[col].unique().tolist())\\n\\n# print(len(list_corrupted_columns))\""
      ]
     },
     "execution_count": 35,
     "metadata": {},
     "output_type": "execute_result"
    }
   ],
   "source": [
    "'''def find_mixed_type_list(l):\n",
    "    for i in range(0,len(l)-1):\n",
    "        if type(l[i])!=type(l[i+1]):\n",
    "            return True\n",
    "    return False\n",
    "        \n",
    "list_corrupted_columns = []        \n",
    "for col in categorical_columns:\n",
    "    if find_mixed_type_list(prepared_dataset[col].unique().tolist()):\n",
    "        list_corrupted_columns.append(col)\n",
    "        print (col,': ',prepared_dataset[col].unique().tolist())\n",
    "\n",
    "# print(len(list_corrupted_columns))'''"
   ]
  },
  {
   "cell_type": "code",
   "execution_count": 36,
   "metadata": {},
   "outputs": [
    {
     "data": {
      "text/plain": [
       "'for col in list_corrupted_columns:\\n    print (prepared_dataset.groupby(col)[col].count())'"
      ]
     },
     "execution_count": 36,
     "metadata": {},
     "output_type": "execute_result"
    }
   ],
   "source": [
    "'''for col in list_corrupted_columns:\n",
    "    print (prepared_dataset.groupby(col)[col].count())'''"
   ]
  },
  {
   "cell_type": "code",
   "execution_count": 37,
   "metadata": {},
   "outputs": [],
   "source": [
    "# replace notasked and doesnot know values\n",
    "# prepared_dataset[categorical_columns] = prepared_dataset[categorical_columns].replace([8, 9], [np.nan, np.nan])"
   ]
  },
  {
   "cell_type": "code",
   "execution_count": 38,
   "metadata": {},
   "outputs": [
    {
     "data": {
      "text/plain": [
       "(4948, 158)"
      ]
     },
     "execution_count": 38,
     "metadata": {},
     "output_type": "execute_result"
    }
   ],
   "source": [
    "prepared_dataset.shape"
   ]
  },
  {
   "cell_type": "code",
   "execution_count": 39,
   "metadata": {},
   "outputs": [],
   "source": [
    "# prepared_dataset[categorical_columns_final] = prepared_dataset[categorical_columns_final].replace(['Unknown'], [np.nan])"
   ]
  },
  {
   "cell_type": "code",
   "execution_count": 40,
   "metadata": {},
   "outputs": [
    {
     "name": "stdout",
     "output_type": "stream",
     "text": [
      "Before dataset.shape (4569, 158)\n",
      "After dataset.shape (4569, 88)\n"
     ]
    },
    {
     "data": {
      "text/plain": [
       "(4569, 88)"
      ]
     },
     "execution_count": 40,
     "metadata": {},
     "output_type": "execute_result"
    }
   ],
   "source": [
    "# # drop rows with maximum number of missing values # drop missing values\n",
    "prepared_dataset = drop_missing_columns(prepared_dataset[prepared_dataset.isna().sum(axis=1)<80], 0.95)\n",
    "prepared_dataset.shape"
   ]
  },
  {
   "cell_type": "code",
   "execution_count": 41,
   "metadata": {},
   "outputs": [],
   "source": [
    "# if drop score columns\n",
    "# prepared_dataset = prepared_dataset[prepared_dataset['CAMDEX SCORES: MINI MENTAL SCORE']>=0]"
   ]
  },
  {
   "cell_type": "code",
   "execution_count": 42,
   "metadata": {},
   "outputs": [
    {
     "data": {
      "text/plain": [
       "(4569, 88)"
      ]
     },
     "execution_count": 42,
     "metadata": {},
     "output_type": "execute_result"
    }
   ],
   "source": [
    "prepared_dataset.shape"
   ]
  },
  {
   "cell_type": "code",
   "execution_count": 43,
   "metadata": {},
   "outputs": [
    {
     "data": {
      "text/plain": [
       "\"# select categorical data columns\\n\\ncategorical_columns_final_exp = [col for col in prepared_dataset_exp.columns if col in categorical_columns_final]\\n\\nnew_prepared_data = prepared_dataset_exp.drop(categorical_columns_final_exp, axis=1)\\nfor i in categorical_columns_final_exp:\\n    x = pd.get_dummies(prepared_dataset_exp[i]).add_prefix(i+'::')\\n    new_prepared_data = pd.concat([new_prepared_data, x], axis=1)\\n    \\nnew_prepared_data['dementia_range'] = prepared_dataset_exp['dementia_range']\\n\\nprepared_dataset_exp = new_prepared_data\""
      ]
     },
     "execution_count": 43,
     "metadata": {},
     "output_type": "execute_result"
    }
   ],
   "source": [
    "# feature transforamtion - one-hot encoding\n",
    "\n",
    "prepared_dataset_exp = prepared_dataset\n",
    "\n",
    "'''# select categorical data columns\n",
    "\n",
    "categorical_columns_final_exp = [col for col in prepared_dataset_exp.columns if col in categorical_columns_final]\n",
    "\n",
    "new_prepared_data = prepared_dataset_exp.drop(categorical_columns_final_exp, axis=1)\n",
    "for i in categorical_columns_final_exp:\n",
    "    x = pd.get_dummies(prepared_dataset_exp[i]).add_prefix(i+'::')\n",
    "    new_prepared_data = pd.concat([new_prepared_data, x], axis=1)\n",
    "    \n",
    "new_prepared_data['dementia_range'] = prepared_dataset_exp['dementia_range']\n",
    "\n",
    "prepared_dataset_exp = new_prepared_data'''"
   ]
  },
  {
   "cell_type": "code",
   "execution_count": 44,
   "metadata": {},
   "outputs": [],
   "source": [
    "# prepared_dataset_exp.shape"
   ]
  },
  {
   "cell_type": "code",
   "execution_count": 45,
   "metadata": {},
   "outputs": [],
   "source": [
    "# prepared_dataset_exp = prepared_dataset_exp.drop(columns=[col for col in prepared_dataset_exp.columns if '::Unknown' in col])\n",
    "# prepared_dataset_exp.shape"
   ]
  },
  {
   "cell_type": "code",
   "execution_count": 46,
   "metadata": {},
   "outputs": [],
   "source": [
    "# drop Nagative Features\n",
    "# prepared_dataset_exp= prepared_dataset_exp.drop(columns=[col for col in prepared_dataset_exp.columns if '::Incorrect' in col])"
   ]
  },
  {
   "cell_type": "code",
   "execution_count": 47,
   "metadata": {},
   "outputs": [
    {
     "data": {
      "text/plain": [
       "(4536, 88)"
      ]
     },
     "execution_count": 47,
     "metadata": {},
     "output_type": "execute_result"
    }
   ],
   "source": [
    "prepared_dataset_exp = prepared_dataset_exp.dropna()\n",
    "prepared_dataset_exp.shape"
   ]
  },
  {
   "cell_type": "code",
   "execution_count": 48,
   "metadata": {},
   "outputs": [],
   "source": [
    "# model training\n",
    "def change_feature_names(feature_name):\n",
    "    p1 = '\\w.*\\d.*-\\d.*:\\s\\(\\d.*\\w\\)\\s'\n",
    "    p2 = '\\w.*:\\s'\n",
    "    feature_name = re.sub(p1, '', feature_name)\n",
    "    feature_name = re.sub('COGNITIVE EXAM 162-187: ','',feature_name)\n",
    "    feature_name = re.sub('DIAGNOSIS 334-351: ','',feature_name)\n",
    "    #feature_name = re.sub(p2, '', feature_name)\n",
    "    for key, value in score_dict.items():\n",
    "        if feature_name in key:\n",
    "            feature_name = feature_name+'{}'.format(value)\n",
    "    return feature_name\n"
   ]
  },
  {
   "cell_type": "code",
   "execution_count": 49,
   "metadata": {},
   "outputs": [
    {
     "name": "stdout",
     "output_type": "stream",
     "text": [
      "['NAMES PICTURES: SCALES', 'RECALLS OBJECTS: BAROMETER', 'RECOGNISES OBJECTS: TELEPHONE', 'CLOCK DRAWING: CIRCLE', 'MIME - BRUSHING TEETH', 'NAMES PICTURES: SUITCASE', 'COMPREHENDS HOTEL', 'REMEMBERS HITLER', 'IDENTIFIES DATE', 'dementia_range', 'REGISTERS OBJECTS 3: PENNY', 'RECOGNISES PICTURES: SHOE', 'DRAWS PENTAGON', 'RECALLS ADDRESS: BROWN', 'RECALLS OBJECTS: SUITCASE', 'COGNITIVE EXAM 162-187: HANDED', 'PRAXIS - ENVELOPE', 'ADDS UP MONEY', 'IDENTIFIES STREETS/COUNTRY', 'IDENTIFIES DAY OF WEEK', 'NAMES PICTURES: BAROMETER', 'RECALLS OBJECTS: SCALES', 'IDENTIFIES TOWN', 'RECALLS ADDRESS: WEST', 'RECALLS ADDRESS: D42', 'RECOGNISES PICTURES: BAROMETER', 'CLOCK DRAWING: TIME', 'IDENTIFIES OBJECTS: WATCH', 'OPTIMA DIAGNOSES V 2010: CERBRO-VASCULAR DISEASE PRESENT', 'MIME - WAVE', 'IDENTIFIES PRESENT PLACE', 'RECOGNISES PICTURES: SCALES', 'RECOGNISES OBJECTS: CUP', 'REMEMBERS WW1 DATE', 'IDENTIFIES OBJECTS: PENCIL', 'REMEMBERS STALIN', 'COMPREHENDS NOD', 'IDENTIFIES YEAR', 'PRAXIS - PAPER: FOLDS', 'MIME - SCISSORS', 'COMPREHENDS LOOK', 'READING COMPREHENSION 1', 'DICTATION', 'REMEMBERS LINDBERGH', 'SUBTRACTS MONEY', 'COMPREHENDS VILLAGE', 'NAMES PICTURES: SHOE', 'RECALLS OBJECTS 1: APPLE', 'PRAXIS - PAPER: RIGHT HAND', 'IDENTIFIES COUNTY', 'COUNTING BACKWARDS', 'CLOCK DRAWING: NUMBERS', 'IDENTIFIES MONTH', 'KNOWS MONARCH', 'KNOWS RECENT NEWS ITEM', 'RECOGNISES OBJECTS: PIPE', 'RECALLS OBJECTS 3: PENNY', 'DEFINES HAMMER', 'READING COMPREHENSION 2', 'RECOGNISES OBJECTS: SHOE', 'REMEMBERS MAE WEST', 'RECALLS ADDRESS: JOHN', 'PRAXIS - PAPER: ON LAP', 'RECOGNISES OBJECTS: SPECTACLES', 'DRAWS SPIRAL', 'RECALLS ADDRESS: BEDFORD', 'RECALLS OBJECTS: LAMP', 'NAMES PICTURES: TYPEWRITER', 'RECALLS OBJECTS: SHOE', 'RECOGNISES OBJECTS: PURSE', 'WRITES A SENTENCE', 'COMPREHENDS RADIO', 'COMPREHENDS TAP', 'OPTIMA DIAGNOSES V 2010: COGNITIVE IMPAIRMENT', 'RECOGNISE PERSON', 'Age At Episode', 'KNOWS PRIME MINISTER', 'DRAWS HOUSE', 'REGISTERS OBJECTS 1: APPLE', 'NAMES PICTURES: LAMP', 'IDENTIFIES SEASON', 'RECALLS OBJECTS: TYPEWRITER', 'COMPREHENDS TOUCH', 'REPETITION', 'RECALLS OBJECTS 2: TABLE', 'IDENTIFIES FLOOR', 'KNOWS HEIR TO THRONE', 'REMEMBERS WW2 DATE']\n"
     ]
    }
   ],
   "source": [
    "print([change_feature_names(fea) for fea in prepared_dataset_exp.columns.tolist()])"
   ]
  },
  {
   "cell_type": "code",
   "execution_count": 50,
   "metadata": {},
   "outputs": [],
   "source": [
    "# training data\n",
    "X_full, y_full = prepared_dataset_exp.drop(columns=['dementia_range']), prepared_dataset_exp['dementia_range']"
   ]
  },
  {
   "cell_type": "code",
   "execution_count": 51,
   "metadata": {},
   "outputs": [
    {
     "data": {
      "text/plain": [
       "((4536, 87), array([1., 2., 0.]), (2257,), (1409,), (870,))"
      ]
     },
     "execution_count": 51,
     "metadata": {},
     "output_type": "execute_result"
    }
   ],
   "source": [
    "X_full.shape, y_full.unique(), y_full[y_full==0].shape, y_full[y_full==1].shape, y_full[y_full==2].shape"
   ]
  },
  {
   "cell_type": "code",
   "execution_count": 52,
   "metadata": {},
   "outputs": [
    {
     "data": {
      "text/plain": [
       "'knn_estimator = KNeighborsRegressor(n_neighbors=15)\\nimputer = IterativeImputer(random_state=0, estimator=knn_estimator)\\nX_full_imput = imputer.fit_transform(X_full)\\ny_full_imput = y_full.values'"
      ]
     },
     "execution_count": 52,
     "metadata": {},
     "output_type": "execute_result"
    }
   ],
   "source": [
    "\n",
    "# impute missing values\n",
    "'''knn_estimator = KNeighborsRegressor(n_neighbors=15)\n",
    "imputer = IterativeImputer(random_state=0, estimator=knn_estimator)\n",
    "X_full_imput = imputer.fit_transform(X_full)\n",
    "y_full_imput = y_full.values'''"
   ]
  },
  {
   "cell_type": "code",
   "execution_count": 53,
   "metadata": {},
   "outputs": [
    {
     "name": "stdout",
     "output_type": "stream",
     "text": [
      "              precision    recall  f1-score   support\n",
      "\n",
      "         0.0       0.92      0.96      0.94       677\n",
      "         1.0       0.80      0.75      0.77       423\n",
      "         2.0       0.76      0.73      0.75       261\n",
      "\n",
      "    accuracy                           0.85      1361\n",
      "   macro avg       0.83      0.82      0.82      1361\n",
      "weighted avg       0.85      0.85      0.85      1361\n",
      "\n",
      "              precision    recall  f1-score   support\n",
      "\n",
      "         0.0       0.91      0.97      0.94       677\n",
      "         1.0       0.83      0.77      0.80       423\n",
      "         2.0       0.81      0.77      0.79       261\n",
      "\n",
      "    accuracy                           0.87      1361\n",
      "   macro avg       0.85      0.84      0.84      1361\n",
      "weighted avg       0.87      0.87      0.87      1361\n",
      "\n",
      "              precision    recall  f1-score   support\n",
      "\n",
      "         0.0       0.91      0.96      0.94       677\n",
      "         1.0       0.81      0.78      0.80       423\n",
      "         2.0       0.82      0.73      0.77       261\n",
      "\n",
      "    accuracy                           0.86      1361\n",
      "   macro avg       0.85      0.83      0.84      1361\n",
      "weighted avg       0.86      0.86      0.86      1361\n",
      "\n",
      "              precision    recall  f1-score   support\n",
      "\n",
      "         0.0       0.92      0.97      0.94       677\n",
      "         1.0       0.81      0.77      0.79       423\n",
      "         2.0       0.79      0.73      0.76       261\n",
      "\n",
      "    accuracy                           0.86      1361\n",
      "   macro avg       0.84      0.82      0.83      1361\n",
      "weighted avg       0.86      0.86      0.86      1361\n",
      "\n",
      "              precision    recall  f1-score   support\n",
      "\n",
      "         0.0       0.91      0.97      0.94       677\n",
      "         1.0       0.81      0.77      0.79       423\n",
      "         2.0       0.81      0.72      0.76       261\n",
      "\n",
      "    accuracy                           0.86      1361\n",
      "   macro avg       0.84      0.82      0.83      1361\n",
      "weighted avg       0.86      0.86      0.86      1361\n",
      "\n",
      "important_features:  ['COGNITIVE EXAM 120-161: (147) RECOGNISES PICTURES: BAROMETER', 'COGNITIVE EXAM 120-161: (138) NAMES PICTURES: SCALES', 'COGNITIVE EXAM 162-187: (178) RECALLS ADDRESS: BEDFORD', 'COGNITIVE EXAM 162-187: (167) CLOCK DRAWING: TIME', 'COGNITIVE EXAM 120-161: (146) RECALLS OBJECTS: BAROMETER', 'COGNITIVE EXAM 162-187: (184) RECOGNISES OBJECTS: TELEPHONE', 'COGNITIVE EXAM 120-161: (146) RECALLS OBJECTS: LAMP', 'COGNITIVE EXAM 162-187: (177) SUBTRACTS MONEY', 'COGNITIVE EXAM 162-187: (174) MIME - BRUSHING TEETH', 'COGNITIVE EXAM 162-187: (167) CLOCK DRAWING: CIRCLE', 'COGNITIVE EXAM 120-161: (137) IDENTIFIES OBJECTS: WATCH', 'COGNITIVE EXAM 120-161: (146) RECALLS OBJECTS: SHOE', 'COGNITIVE EXAM 120-161: (138) NAMES PICTURES: TYPEWRITER', 'COGNITIVE EXAM 120-161: (135) COMPREHENDS VILLAGE', 'COGNITIVE EXAM 120-161: (138) NAMES PICTURES: SUITCASE', 'COGNITIVE EXAM 162-187: (168) WRITES A SENTENCE', 'COGNITIVE EXAM 120-161: (150) REMEMBERS HITLER', 'COGNITIVE EXAM 120-161: (138) NAMES PICTURES: SHOE', 'COGNITIVE EXAM 120-161: (129) IDENTIFIES PRESENT PLACE', 'COGNITIVE EXAM 120-161: (155) KNOWS HEIR TO THRONE', 'COGNITIVE EXAM 120-161: (136) COMPREHENDS RADIO', 'COGNITIVE EXAM 120-161: (121) IDENTIFIES DATE', 'COGNITIVE EXAM 120-161: (161) RECALLS OBJECTS 1: APPLE', 'OPTIMA DIAGNOSES V 2010: COGNITIVE IMPAIRMENT', 'COGNITIVE EXAM 162-187: (169) PRAXIS - PAPER: RIGHT HAND', 'COGNITIVE EXAM 162-187: (185) RECOGNISE PERSON', 'COGNITIVE EXAM 120-161: (156) KNOWS PRIME MINISTER', 'COGNITIVE EXAM 120-161: (125) IDENTIFIES COUNTY', 'COGNITIVE EXAM 120-161: (159) COUNTING BACKWARDS', 'COGNITIVE EXAM 120-161: (137) IDENTIFIES OBJECTS: PENCIL', 'COGNITIVE EXAM 162-187: (167) CLOCK DRAWING: NUMBERS', 'COGNITIVE EXAM 120-161: (122) IDENTIFIES MONTH', 'COGNITIVE EXAM 120-161: (151) REMEMBERS STALIN', 'COGNITIVE EXAM 120-161: (154) KNOWS MONARCH', 'COGNITIVE EXAM 120-161: (158) REGISTERS OBJECTS 3: PENNY', 'COGNITIVE EXAM 162-187: (162) READING COMPREHENSION 1', 'COGNITIVE EXAM 120-161: (157) KNOWS RECENT NEWS ITEM', 'COGNITIVE EXAM 162-187: (166) DRAWS HOUSE', 'COGNITIVE EXAM 120-161: (161) RECALLS OBJECTS 3: PENNY', 'COGNITIVE EXAM 120-161: (158) REGISTERS OBJECTS 1: APPLE', 'COGNITIVE EXAM 162-187: (164) DRAWS PENTAGON', 'COGNITIVE EXAM 162-187: (163) READING COMPREHENSION 2', 'COGNITIVE EXAM 120-161: (138) NAMES PICTURES: LAMP', 'COGNITIVE EXAM 120-161: (124) IDENTIFIES SEASON', 'COGNITIVE EXAM 120-161: (140) DEFINES HAMMER', 'COGNITIVE EXAM 120-161: (123) IDENTIFIES YEAR', 'COGNITIVE EXAM 162-187: (178) RECALLS ADDRESS: BROWN', 'COGNITIVE EXAM 162-187: (178) RECALLS ADDRESS: JOHN', 'COGNITIVE EXAM 162-187: (169) PRAXIS - PAPER: FOLDS', 'COGNITIVE EXAM 120-161: (146) RECALLS OBJECTS: SUITCASE', 'COGNITIVE EXAM 162-187: HANDED', 'COGNITIVE EXAM 120-161: (146) RECALLS OBJECTS: TYPEWRITER', 'COGNITIVE EXAM 162-187: (173) MIME - SCISSORS', 'COGNITIVE EXAM 162-187: (169) PRAXIS - PAPER: ON LAP', 'COGNITIVE EXAM 120-161: (144) REPETITION', 'COGNITIVE EXAM 162-187: (184) RECOGNISES OBJECTS: SPECTACLES', 'COGNITIVE EXAM 120-161: (127) IDENTIFIES STREETS/COUNTRY', 'COGNITIVE EXAM 120-161: (120) IDENTIFIES DAY OF WEEK', 'COGNITIVE EXAM 120-161: (161) RECALLS OBJECTS 2: TABLE', 'COGNITIVE EXAM 120-161: (128) IDENTIFIES FLOOR', 'COGNITIVE EXAM 120-161: (126) IDENTIFIES TOWN', 'COGNITIVE EXAM 162-187: (178) RECALLS ADDRESS: WEST', 'COGNITIVE EXAM 120-161: (149) REMEMBERS WW2 DATE', 'COGNITIVE EXAM 162-187: (178) RECALLS ADDRESS: D42', 'COGNITIVE EXAM 162-187: (171) DICTATION']\n"
     ]
    }
   ],
   "source": [
    "X_full_imput, y_full_imput = X_full.values, y_full.values\n",
    "\n",
    "rf_estimator = RandomForestClassifier(max_depth=5, random_state=0)\n",
    "cv = StratifiedShuffleSplit(n_splits=5, test_size=0.3, random_state=123)\n",
    "important_features = set()\n",
    "important_features_size = 50\n",
    "for i, (train, test) in enumerate(cv.split(X_full_imput, y_full_imput)):\n",
    "    rf_estimator.fit(X_full_imput[train], y_full_imput[train])\n",
    "    y_predicted = rf_estimator.predict(X_full_imput[test])\n",
    "    print (classification_report(y_full_imput[test], y_predicted))\n",
    "    \n",
    "    # print important features\n",
    "    # model important feature\n",
    "    fea_importance = rf_estimator.feature_importances_\n",
    "    indices = np.argsort(fea_importance)[::-1]\n",
    "    for f in range(important_features_size):\n",
    "        # print(\"%d. feature: %s (%f)\" % (f + 1, X_full.columns.values[indices[f]], fea_importance[indices[f]]))\n",
    "        important_features.add(X_full.columns.values[indices[f]])\n",
    "    \n",
    "    # print(rf_estimator.predict([X_full_imput[test][800]]))\n",
    "    #lime interpretability \n",
    "    \"\"\"explainer = lime.lime_tabular.LimeTabularExplainer(np.array(X_full_imput[train]), \n",
    "                                                       feature_names=[change_feature_names(fea) for fea in X_full.columns.values], \n",
    "                                                       class_names=['No Dem.', 'Min-Mild Dem.', 'Mod-Sev Dem.'],#rf_estimator.classes_, \n",
    "                                                       #discretize_continuous=True, \n",
    "                                                       random_state=123)\n",
    "    exp = explainer.explain_instance(X_full_imput[test][800], rf_estimator.predict_proba, num_features=10, top_labels=2)\n",
    "    #exp.show_in_notebook(show_table=True, show_all=False)\n",
    "    exp.save_to_file('Xmodel_4DT_nopre_'+str(i)+'.html')\"\"\"\n",
    "    #print (exp.as_list())\n",
    "    #fig = exp.as_pyplot_figure()\n",
    "    #plt.show()\n",
    "    \n",
    "    # shap interpretability\n",
    "    \n",
    "#important feature list\n",
    "print ('important_features: ', list(important_features))"
   ]
  },
  {
   "cell_type": "code",
   "execution_count": 54,
   "metadata": {},
   "outputs": [],
   "source": [
    "prepared_dataset_exp_full = prepared_dataset_exp\n",
    "\n",
    "#Taking important features\n",
    "#prepared_dataset_exp = prepared_dataset_exp[list(important_features)+['dementia_range']]\n",
    "\n",
    "X_train, X_test, y_train, y_test = train_test_split(prepared_dataset_exp.drop(columns=['dementia_range']).values, prepared_dataset_exp['dementia_range'].values, test_size=0.3, random_state=123, stratify=prepared_dataset_exp['dementia_range'])"
   ]
  },
  {
   "cell_type": "code",
   "execution_count": 55,
   "metadata": {},
   "outputs": [
    {
     "name": "stdout",
     "output_type": "stream",
     "text": [
      "(3175, 87) (3175,)\n",
      "0.8449669360764144\n",
      "              precision    recall  f1-score   support\n",
      "\n",
      "         0.0       0.92      0.95      0.94       677\n",
      "         1.0       0.78      0.73      0.76       423\n",
      "         2.0       0.73      0.75      0.74       261\n",
      "\n",
      "    accuracy                           0.84      1361\n",
      "   macro avg       0.81      0.81      0.81      1361\n",
      "weighted avg       0.84      0.84      0.84      1361\n",
      "\n"
     ]
    }
   ],
   "source": [
    "import graphviz\n",
    "from sklearn import tree\n",
    "from six import StringIO  \n",
    "from IPython.display import Image  \n",
    "from sklearn.tree import export_graphviz\n",
    "import pydotplus, joblib\n",
    "from svglib.svglib import svg2rlg\n",
    "from reportlab.graphics import renderPDF, renderPM\n",
    "\n",
    "feature_names = prepared_dataset_exp.drop(columns=['dementia_range']).columns\n",
    "\n",
    "clf = tree.DecisionTreeClassifier(random_state=0, max_depth=5)\n",
    "clf.fit(X_train, y_train) \n",
    "print (X_train.shape, y_train.shape)\n",
    "print(clf.score(X_test, y_test))\n",
    "y_pred = clf.predict(X_test)\n",
    "print (classification_report(y_test, y_pred))\n",
    "\n",
    "dot_data = StringIO()\n",
    "export_graphviz(clf, out_file=dot_data,  \n",
    "                filled=True, rounded=True,\n",
    "                special_characters=True, feature_names=feature_names, \n",
    "               class_names=['No Dementia', 'Minimal or Mild Dementia', 'Moderate or Severe Dementia'])\n",
    "graph = pydotplus.graph_from_dot_data(dot_data.getvalue())  \n",
    "#Image(graph.create_png())"
   ]
  },
  {
   "cell_type": "code",
   "execution_count": 56,
   "metadata": {},
   "outputs": [
    {
     "name": "stderr",
     "output_type": "stream",
     "text": [
      "findfont: Font family ['Arial'] not found. Falling back to DejaVu Sans.\n"
     ]
    }
   ],
   "source": [
    "def change_feature_names(feature_name):\n",
    "    p1 = '\\w.*\\d.*-\\d.*:\\s\\(\\d.*\\w\\)\\s'\n",
    "    p2 = '\\w.*:\\s'\n",
    "    feature_name = re.sub(p1, '', feature_name)\n",
    "    # feature_name = re.sub(p2, '', feature_name)\n",
    "    for key, value in score_dict.items():\n",
    "        if feature_name in key:\n",
    "            feature_name = feature_name+'{}'.format(value)\n",
    "    return feature_name\n",
    "    \n",
    "\n",
    "\n",
    "bool_feature_names_DT = prepared_dataset_exp.select_dtypes(include='uint8').columns\n",
    "feature_names_DT = [change_feature_names(i) for i in feature_names]\n",
    "# bool_feature_names_DT = [change_feature_names(i) for i in  bool_feature_names_DT] # Important 0: NO and 1: YES\n",
    "# bool_feature_names_true_DT = [i for i in bool_feature_names_DT if '::' in i] #('IDENTIFIES' in i or 'RECALL' in i) and '_1.0' in i ]\n",
    "# bool_feature_names_false_DT = [i for i in bool_feature_names_DT if '::' in i] #('IDENTIFIES' in i or 'RECALL' in i) and '_0.0' in i ]\n",
    "feature_names_for_split_DT = [i for i in feature_names_DT if ' SCORE' in i] \n",
    "#print(feature_names_for_split_DT)\n",
    "\n",
    "viz = dtreeviz(clf, \n",
    "               x_data=X_train,\n",
    "               y_data=y_train,\n",
    "               target_name='class',\n",
    "               feature_names=feature_names_DT,\n",
    "               # bool_feature_names_true=bool_feature_names_true_DT,\n",
    "               # bool_feature_names_false=bool_feature_names_false_DT,\n",
    "               feature_names_for_split=feature_names_for_split_DT,\n",
    "               class_names=['No Dementia', 'Minimal or Mild Dementia', 'Moderate or Severe Dementia'],\n",
    "               fancy=False, label_fontsize=40, ticks_fontsize=2)\n",
    "\n",
    "viz.save('Xmodel_4DT_nopre.svg')\n",
    "drawing = svg2rlg(\"./Xmodel_4DT_nopre.svg\".format(i))\n",
    "renderPDF.drawToFile(drawing, \"./Xmodel_4DT_nopre.pdf\".format(i))"
   ]
  }
 ],
 "metadata": {
  "kernelspec": {
   "display_name": "Python 3",
   "language": "python",
   "name": "python3"
  },
  "language_info": {
   "codemirror_mode": {
    "name": "ipython",
    "version": 3
   },
   "file_extension": ".py",
   "mimetype": "text/x-python",
   "name": "python",
   "nbconvert_exporter": "python",
   "pygments_lexer": "ipython3",
   "version": "3.8.5"
  }
 },
 "nbformat": 4,
 "nbformat_minor": 4
}
