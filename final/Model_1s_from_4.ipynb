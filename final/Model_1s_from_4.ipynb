{
 "cells": [
  {
   "cell_type": "code",
   "execution_count": 1,
   "metadata": {},
   "outputs": [],
   "source": [
    "from utils_int import *\n",
    "from defines_int import *\n",
    "\n",
    "import numpy as np\n",
    "import pandas as pd\n",
    "\n",
    "from collections import Counter\n",
    "\n",
    "from sklearn.svm import SVC\n",
    "from sklearn.naive_bayes import BernoulliNB\n",
    "from sklearn.neural_network import MLPClassifier\n",
    "from sklearn.model_selection import GridSearchCV\n",
    "from sklearn.ensemble import RandomForestClassifier\n",
    "from sklearn.linear_model import LogisticRegression\n",
    "from sklearn.model_selection import train_test_split\n",
    "from sklearn.preprocessing import StandardScaler, OneHotEncoder\n",
    "from sklearn.metrics import classification_report, f1_score, accuracy_score, make_scorer\n",
    "from sklearn.experimental import enable_iterative_imputer\n",
    "from sklearn.impute import IterativeImputer\n",
    "from sklearn.linear_model import BayesianRidge\n",
    "from sklearn.tree import DecisionTreeRegressor\n",
    "from sklearn.ensemble import ExtraTreesRegressor\n",
    "from sklearn.neighbors import KNeighborsRegressor\n",
    "from sklearn.pipeline import make_pipeline\n",
    "from sklearn.model_selection import cross_val_score, StratifiedShuffleSplit, StratifiedKFold\n",
    "import re\n",
    "\n",
    "import pathlib\n",
    "\n",
    "\n",
    "from sklearn.datasets import *\n",
    "from dtreeviz.trees import *\n",
    "from IPython.display import Image, display_svg, SVG\n",
    "\n",
    "\n",
    "# import lime\n",
    "import lime\n",
    "import lime.lime_tabular\n",
    "\n",
    "#pickle\n",
    "import pickle\n",
    "\n",
    "#import shap\n",
    "import shap"
   ]
  },
  {
   "cell_type": "code",
   "execution_count": 2,
   "metadata": {},
   "outputs": [
    {
     "data": {
      "text/plain": [
       "911"
      ]
     },
     "execution_count": 2,
     "metadata": {},
     "output_type": "execute_result"
    }
   ],
   "source": [
    "# data from variable guide\n",
    "data_variable_cat = {}\n",
    "with open(\"data_variable_cat.pkl\", \"rb\") as f:\n",
    "    data_variable_cat = pickle.load(f)\n",
    "\n",
    "len(data_variable_cat)"
   ]
  },
  {
   "cell_type": "code",
   "execution_count": 3,
   "metadata": {},
   "outputs": [],
   "source": [
    "data = pd.read_pickle(orginal_data_path+'Optima_Data_Report_Cases_9584_filled_pickle')"
   ]
  },
  {
   "cell_type": "code",
   "execution_count": 4,
   "metadata": {},
   "outputs": [
    {
     "data": {
      "text/plain": [
       "(9584, 1593)"
      ]
     },
     "execution_count": 4,
     "metadata": {},
     "output_type": "execute_result"
    }
   ],
   "source": [
    "data.shape"
   ]
  },
  {
   "cell_type": "code",
   "execution_count": 5,
   "metadata": {},
   "outputs": [
    {
     "data": {
      "text/plain": [
       "210"
      ]
     },
     "execution_count": 5,
     "metadata": {},
     "output_type": "execute_result"
    }
   ],
   "source": [
    "len(attributes_considered)"
   ]
  },
  {
   "cell_type": "code",
   "execution_count": 6,
   "metadata": {},
   "outputs": [
    {
     "data": {
      "text/plain": [
       "242"
      ]
     },
     "execution_count": 6,
     "metadata": {},
     "output_type": "execute_result"
    }
   ],
   "source": [
    "attributes_considered += george_labels_one_years\n",
    "attributes_considered += george_labels_three_years\n",
    "attributes_considered = list(set(attributes_considered))\n",
    "len(attributes_considered)"
   ]
  },
  {
   "cell_type": "code",
   "execution_count": 7,
   "metadata": {},
   "outputs": [],
   "source": [
    "all_dementia = [['CAMDEX ADMINISTRATION 1-12: EST SEVERITY OF DEMENTIA', [1, 2, 3, 4]],\n",
    "           ['DIAGNOSIS 334-351: DEMENTIA   CLOUDED', [1]],\n",
    "           ['DIAGNOSIS 334-351: CLOUDED   DEMENTIA', [1]],\n",
    "           ['DIAGNOSIS 334-351: SEVERITY OF DEMENTIA', [1, 2, 3, 4]],\n",
    "           [\"OPTIMA DIAGNOSES V 2010: DEMENTIA PRESENT\", [1, 2, 3]],\n",
    "           [\"OPTIMA DIAGNOSES V 2010: MIXED DEMENTIA\", [1]],\n",
    "           [\"GENERAL INFORMATION: SPET SCORE\", [6]],\n",
    "           [\"GENERAL INFORMATION: DSM-IIIR\", [1]],\n",
    "           [\"GENERAL INFORMATION: CLINICAL DIAGNOSIS 1\", [1]]]"
   ]
  },
  {
   "cell_type": "code",
   "execution_count": 8,
   "metadata": {},
   "outputs": [],
   "source": [
    "no_dementia = [['CAMDEX ADMINISTRATION 1-12: EST SEVERITY OF DEMENTIA', [0]],\n",
    "           ['DIAGNOSIS 334-351: SEVERITY OF DEMENTIA', [0]],\n",
    "           [\"OPTIMA DIAGNOSES V 2010: DEMENTIA PRESENT\", [0]],\n",
    "           [\"GENERAL INFORMATION: DSM-IIIR\", [0]],\n",
    "           [\"GENERAL INFORMATION: CLINICAL DIAGNOSIS 1\", [0]]]"
   ]
  },
  {
   "cell_type": "code",
   "execution_count": 9,
   "metadata": {},
   "outputs": [],
   "source": [
    "dementia = [['CAMDEX ADMINISTRATION 1-12: EST SEVERITY OF DEMENTIA', [1, 2, 3, 4]]]\n",
    "#            ['DIAGNOSIS 334-351: SEVERITY OF DEMENTIA', [1, 2, 3, 4]]]"
   ]
  },
  {
   "cell_type": "code",
   "execution_count": 10,
   "metadata": {},
   "outputs": [
    {
     "name": "stdout",
     "output_type": "stream",
     "text": [
      "2552 CAMDEX ADMINISTRATION 1-12: EST SEVERITY OF DEMENTIA\n"
     ]
    }
   ],
   "source": [
    "dem = set()\n",
    "for i, j in dementia:\n",
    "    dem |= extract_values(data, i, j)[0]"
   ]
  },
  {
   "cell_type": "code",
   "execution_count": 11,
   "metadata": {},
   "outputs": [
    {
     "name": "stdout",
     "output_type": "stream",
     "text": [
      "2552 CAMDEX ADMINISTRATION 1-12: EST SEVERITY OF DEMENTIA\n",
      "10 DIAGNOSIS 334-351: DEMENTIA   CLOUDED\n",
      "2 DIAGNOSIS 334-351: CLOUDED   DEMENTIA\n",
      "814 DIAGNOSIS 334-351: SEVERITY OF DEMENTIA\n",
      "951 OPTIMA DIAGNOSES V 2010: DEMENTIA PRESENT\n",
      "172 OPTIMA DIAGNOSES V 2010: MIXED DEMENTIA\n",
      "0 GENERAL INFORMATION: SPET SCORE\n",
      "1 GENERAL INFORMATION: DSM-IIIR\n",
      "876 GENERAL INFORMATION: CLINICAL DIAGNOSIS 1\n"
     ]
    }
   ],
   "source": [
    "all_dem = set()\n",
    "for i, j in all_dementia:\n",
    "    all_dem |= extract_values(data, i, j)[0]"
   ]
  },
  {
   "cell_type": "code",
   "execution_count": 12,
   "metadata": {},
   "outputs": [
    {
     "name": "stdout",
     "output_type": "stream",
     "text": [
      "2084 CAMDEX ADMINISTRATION 1-12: EST SEVERITY OF DEMENTIA\n",
      "985 DIAGNOSIS 334-351: SEVERITY OF DEMENTIA\n",
      "2185 OPTIMA DIAGNOSES V 2010: DEMENTIA PRESENT\n",
      "1 GENERAL INFORMATION: DSM-IIIR\n",
      "965 GENERAL INFORMATION: CLINICAL DIAGNOSIS 1\n"
     ]
    }
   ],
   "source": [
    "no_dem = set()\n",
    "for i, j in no_dementia:\n",
    "    no_dem |= extract_values(data, i, j)[0]"
   ]
  },
  {
   "cell_type": "code",
   "execution_count": 13,
   "metadata": {},
   "outputs": [
    {
     "data": {
      "text/plain": [
       "(2552, 3647, 3420)"
      ]
     },
     "execution_count": 13,
     "metadata": {},
     "output_type": "execute_result"
    }
   ],
   "source": [
    "len(dem), len(no_dem), len(all_dem)"
   ]
  },
  {
   "cell_type": "code",
   "execution_count": 14,
   "metadata": {},
   "outputs": [],
   "source": [
    "data_dem = data.loc[dem]"
   ]
  },
  {
   "cell_type": "code",
   "execution_count": 15,
   "metadata": {},
   "outputs": [],
   "source": [
    "data_dem['dementia_range'] = data['CAMDEX ADMINISTRATION 1-12: EST SEVERITY OF DEMENTIA']"
   ]
  },
  {
   "cell_type": "code",
   "execution_count": 16,
   "metadata": {},
   "outputs": [
    {
     "data": {
      "text/plain": [
       "array([3., 1., 2., 4.])"
      ]
     },
     "execution_count": 16,
     "metadata": {},
     "output_type": "execute_result"
    }
   ],
   "source": [
    "data_dem['dementia_range'].unique()"
   ]
  },
  {
   "cell_type": "code",
   "execution_count": 17,
   "metadata": {},
   "outputs": [],
   "source": [
    "data_dem.loc[data_dem['dementia_range']==2, 'dementia_range'] = 1\n",
    "data_dem.loc[data_dem['dementia_range']>1, 'dementia_range'] = 1"
   ]
  },
  {
   "cell_type": "code",
   "execution_count": 18,
   "metadata": {},
   "outputs": [
    {
     "data": {
      "text/plain": [
       "array([1.])"
      ]
     },
     "execution_count": 18,
     "metadata": {},
     "output_type": "execute_result"
    }
   ],
   "source": [
    "data_dem['dementia_range'].unique()"
   ]
  },
  {
   "cell_type": "code",
   "execution_count": 19,
   "metadata": {},
   "outputs": [
    {
     "data": {
      "text/plain": [
       "3647"
      ]
     },
     "execution_count": 19,
     "metadata": {},
     "output_type": "execute_result"
    }
   ],
   "source": [
    "len(no_dem)"
   ]
  },
  {
   "cell_type": "code",
   "execution_count": 20,
   "metadata": {},
   "outputs": [],
   "source": [
    "no_dem -= all_dem"
   ]
  },
  {
   "cell_type": "code",
   "execution_count": 21,
   "metadata": {},
   "outputs": [
    {
     "data": {
      "text/plain": [
       "3259"
      ]
     },
     "execution_count": 21,
     "metadata": {},
     "output_type": "execute_result"
    }
   ],
   "source": [
    "len(no_dem)"
   ]
  },
  {
   "cell_type": "code",
   "execution_count": 22,
   "metadata": {},
   "outputs": [],
   "source": [
    "dem_patients = set(data.loc[all_dem].GLOBAL_PATIENT_DB_ID.unique())"
   ]
  },
  {
   "cell_type": "code",
   "execution_count": 23,
   "metadata": {},
   "outputs": [],
   "source": [
    "no_dem_patients = set(data.loc[no_dem].GLOBAL_PATIENT_DB_ID.unique())"
   ]
  },
  {
   "cell_type": "code",
   "execution_count": 24,
   "metadata": {},
   "outputs": [],
   "source": [
    "no_dem_patients -= dem_patients"
   ]
  },
  {
   "cell_type": "code",
   "execution_count": 25,
   "metadata": {},
   "outputs": [
    {
     "data": {
      "text/plain": [
       "Counter({1.0: 2552})"
      ]
     },
     "execution_count": 25,
     "metadata": {},
     "output_type": "execute_result"
    }
   ],
   "source": [
    "Counter(data_dem['dementia_range'])"
   ]
  },
  {
   "cell_type": "code",
   "execution_count": 26,
   "metadata": {},
   "outputs": [],
   "source": [
    "data_no_dem = data.loc[no_dem]\n",
    "data_no_dem = data_no_dem[data_no_dem['GLOBAL_PATIENT_DB_ID'].isin(no_dem_patients)]\n",
    "data_no_dem['dementia_range'] = 0"
   ]
  },
  {
   "cell_type": "code",
   "execution_count": 27,
   "metadata": {},
   "outputs": [],
   "source": [
    "prepared_dataset = pd.concat([data_dem, data_no_dem])[attributes_considered]"
   ]
  },
  {
   "cell_type": "code",
   "execution_count": 28,
   "metadata": {},
   "outputs": [
    {
     "name": "stdout",
     "output_type": "stream",
     "text": [
      "COGNITIVE EXAM 120-161: (160) SUBTRACTING SEVENS\n",
      "PRESENT STATE 13-46: (018) LIVING ARRANGEMENTS\n",
      "DIAGNOSIS 334-351: SEVERITY OF DEPRESSION\n",
      "DIAGNOSIS 334-351: DEPRESSIVE ILLNESS\n",
      "COGNITIVE EXAM 120-161: (147) RECOGNISES PICTURES\n",
      "DIAGNOSIS 334-351: ANXIETY/PHOBIC\n",
      "COGNITIVE EXAM 162-187: ACTUAL DURATION OF INTERVIEW\n",
      "GENDER\n"
     ]
    }
   ],
   "source": [
    "for i, j in zip(prepared_dataset, prepared_dataset.dtypes):\n",
    "    if not (j == \"float64\" or j == \"int64\"):\n",
    "        print(i)\n",
    "        prepared_dataset[i] = pd.to_numeric(prepared_dataset[i], errors='coerce')"
   ]
  },
  {
   "cell_type": "code",
   "execution_count": 29,
   "metadata": {},
   "outputs": [
    {
     "data": {
      "text/html": [
       "<div>\n",
       "<style scoped>\n",
       "    .dataframe tbody tr th:only-of-type {\n",
       "        vertical-align: middle;\n",
       "    }\n",
       "\n",
       "    .dataframe tbody tr th {\n",
       "        vertical-align: top;\n",
       "    }\n",
       "\n",
       "    .dataframe thead th {\n",
       "        text-align: right;\n",
       "    }\n",
       "</style>\n",
       "<table border=\"1\" class=\"dataframe\">\n",
       "  <thead>\n",
       "    <tr style=\"text-align: right;\">\n",
       "      <th></th>\n",
       "      <th>Interview Duration(Error(%))</th>\n",
       "      <th>COGNITIVE EXAM 162-187: ACTUAL DURATION OF INTERVIEW</th>\n",
       "      <th>COGNITIVE EXAM 162-187: (187) PATIENT</th>\n",
       "    </tr>\n",
       "  </thead>\n",
       "  <tbody>\n",
       "    <tr>\n",
       "      <th>8192</th>\n",
       "      <td>NaN</td>\n",
       "      <td>NaN</td>\n",
       "      <td>NaN</td>\n",
       "    </tr>\n",
       "    <tr>\n",
       "      <th>8203</th>\n",
       "      <td>0.000000</td>\n",
       "      <td>45.0</td>\n",
       "      <td>45.0</td>\n",
       "    </tr>\n",
       "    <tr>\n",
       "      <th>8205</th>\n",
       "      <td>62.500000</td>\n",
       "      <td>40.0</td>\n",
       "      <td>15.0</td>\n",
       "    </tr>\n",
       "    <tr>\n",
       "      <th>8211</th>\n",
       "      <td>45.454545</td>\n",
       "      <td>55.0</td>\n",
       "      <td>30.0</td>\n",
       "    </tr>\n",
       "    <tr>\n",
       "      <th>8214</th>\n",
       "      <td>NaN</td>\n",
       "      <td>60.0</td>\n",
       "      <td>NaN</td>\n",
       "    </tr>\n",
       "    <tr>\n",
       "      <th>8215</th>\n",
       "      <td>100.000000</td>\n",
       "      <td>40.0</td>\n",
       "      <td>0.0</td>\n",
       "    </tr>\n",
       "    <tr>\n",
       "      <th>8217</th>\n",
       "      <td>NaN</td>\n",
       "      <td>0.0</td>\n",
       "      <td>0.0</td>\n",
       "    </tr>\n",
       "    <tr>\n",
       "      <th>26</th>\n",
       "      <td>90.000000</td>\n",
       "      <td>100.0</td>\n",
       "      <td>10.0</td>\n",
       "    </tr>\n",
       "    <tr>\n",
       "      <th>28</th>\n",
       "      <td>14.285714</td>\n",
       "      <td>35.0</td>\n",
       "      <td>30.0</td>\n",
       "    </tr>\n",
       "    <tr>\n",
       "      <th>29</th>\n",
       "      <td>NaN</td>\n",
       "      <td>45.0</td>\n",
       "      <td>NaN</td>\n",
       "    </tr>\n",
       "  </tbody>\n",
       "</table>\n",
       "</div>"
      ],
      "text/plain": [
       "      Interview Duration(Error(%))  \\\n",
       "8192                           NaN   \n",
       "8203                      0.000000   \n",
       "8205                     62.500000   \n",
       "8211                     45.454545   \n",
       "8214                           NaN   \n",
       "8215                    100.000000   \n",
       "8217                           NaN   \n",
       "26                       90.000000   \n",
       "28                       14.285714   \n",
       "29                             NaN   \n",
       "\n",
       "      COGNITIVE EXAM 162-187: ACTUAL DURATION OF INTERVIEW  \\\n",
       "8192                                                NaN      \n",
       "8203                                               45.0      \n",
       "8205                                               40.0      \n",
       "8211                                               55.0      \n",
       "8214                                               60.0      \n",
       "8215                                               40.0      \n",
       "8217                                                0.0      \n",
       "26                                                100.0      \n",
       "28                                                 35.0      \n",
       "29                                                 45.0      \n",
       "\n",
       "      COGNITIVE EXAM 162-187: (187) PATIENT  \n",
       "8192                                    NaN  \n",
       "8203                                   45.0  \n",
       "8205                                   15.0  \n",
       "8211                                   30.0  \n",
       "8214                                    NaN  \n",
       "8215                                    0.0  \n",
       "8217                                    0.0  \n",
       "26                                     10.0  \n",
       "28                                     30.0  \n",
       "29                                      NaN  "
      ]
     },
     "execution_count": 29,
     "metadata": {},
     "output_type": "execute_result"
    }
   ],
   "source": [
    "act_intrvw_dur = prepared_dataset['COGNITIVE EXAM 162-187: ACTUAL DURATION OF INTERVIEW'].replace([999, 888],[np.nan, np.nan])\n",
    "pat_intrvw_dur = prepared_dataset['COGNITIVE EXAM 162-187: (187) PATIENT'].replace([999, 888],[np.nan, np.nan])\n",
    "prepared_dataset['COGNITIVE EXAM 162-187: ACTUAL DURATION OF INTERVIEW'] = act_intrvw_dur\n",
    "prepared_dataset['COGNITIVE EXAM 162-187: (187) PATIENT'] = pat_intrvw_dur\n",
    "\n",
    "max_intrvw_dur = prepared_dataset[['COGNITIVE EXAM 162-187: ACTUAL DURATION OF INTERVIEW', 'COGNITIVE EXAM 162-187: (187) PATIENT']].max(axis=1)\n",
    "prepared_dataset['Interview Duration(Error(%))'] = (act_intrvw_dur-pat_intrvw_dur).abs()*100/max_intrvw_dur\n",
    "\n",
    "prepared_dataset[['Interview Duration(Error(%))', 'COGNITIVE EXAM 162-187: ACTUAL DURATION OF INTERVIEW', 'COGNITIVE EXAM 162-187: (187) PATIENT']].head(10)"
   ]
  },
  {
   "cell_type": "code",
   "execution_count": 30,
   "metadata": {},
   "outputs": [
    {
     "data": {
      "text/plain": [
       "(4948, 243)"
      ]
     },
     "execution_count": 30,
     "metadata": {},
     "output_type": "execute_result"
    }
   ],
   "source": [
    "prepared_dataset.shape"
   ]
  },
  {
   "cell_type": "code",
   "execution_count": 31,
   "metadata": {},
   "outputs": [
    {
     "name": "stdout",
     "output_type": "stream",
     "text": [
      "Before dataset.shape (4948, 236)\n",
      "After dataset.shape (4948, 157)\n"
     ]
    }
   ],
   "source": [
    "# drop irrelavent columns\n",
    "prepared_dataset = prepared_dataset.drop(columns=score_columns)\n",
    "prepared_dataset = prepared_dataset.replace([-1], [np.nan])\n",
    "prepared_dataset = drop_missing_columns(prepared_dataset, 0.70)"
   ]
  },
  {
   "cell_type": "code",
   "execution_count": 32,
   "metadata": {},
   "outputs": [],
   "source": [
    "currupt_categorical_columns = ['COGNITIVE EXAM 120-161: (158) REGISTERS OBJECTS', 'COGNITIVE EXAM 120-161: (137) IDENTIFIES OBJECTS',]\n",
    "confused_categorical_columns = ['COGNITIVE EXAM 162-187: (174) MIME - BRUSHING TEETH']                               \n",
    "categorical_columns = [col for col in prepared_dataset.columns if col in data_variable_cat.keys()]\n",
    "categorical_columns_final = list(set(categorical_columns)-set(currupt_categorical_columns)-set(confused_categorical_columns))\n",
    "drop_columns = ['DIAGNOSIS 334-351: DEPRESSIVE ILLNESS_0.0',\n",
    "               ]"
   ]
  },
  {
   "cell_type": "code",
   "execution_count": 33,
   "metadata": {},
   "outputs": [],
   "source": [
    "for column in categorical_columns_final:\n",
    "    def replace_numerical_category(column, x):\n",
    "        if x in data_variable_cat[column]:\n",
    "            x = data_variable_cat[column][x]\n",
    "        else:\n",
    "            x = np.nan\n",
    "        return x\n",
    "    prepared_dataset[column]=prepared_dataset[column].apply(lambda x : replace_numerical_category(column, x))"
   ]
  },
  {
   "cell_type": "code",
   "execution_count": 34,
   "metadata": {},
   "outputs": [],
   "source": [
    "prepared_dataset[categorical_columns_final] = prepared_dataset[categorical_columns_final].replace([np.nan], ['Unknown'])"
   ]
  },
  {
   "cell_type": "code",
   "execution_count": 35,
   "metadata": {},
   "outputs": [],
   "source": [
    "# Replace not asked and not known to 'Unknown'\n",
    "prepared_dataset[categorical_columns_final] = prepared_dataset[categorical_columns_final].replace(['Not asked'], ['Unknown'])\n",
    "prepared_dataset[categorical_columns_final] = prepared_dataset[categorical_columns_final].replace(['Not known'], ['Unknown'])"
   ]
  },
  {
   "cell_type": "code",
   "execution_count": 36,
   "metadata": {},
   "outputs": [
    {
     "name": "stdout",
     "output_type": "stream",
     "text": [
      "0\n"
     ]
    }
   ],
   "source": [
    "def find_mixed_type_list(l):\n",
    "    for i in range(0,len(l)-1):\n",
    "        if type(l[i])!=type(l[i+1]):\n",
    "            return True\n",
    "    return False\n",
    "        \n",
    "list_corrupted_columns = []        \n",
    "for col in categorical_columns:\n",
    "    if find_mixed_type_list(prepared_dataset[col].unique().tolist()):\n",
    "        list_corrupted_columns.append(col)\n",
    "        print (col,': ',prepared_dataset[col].unique().tolist())\n",
    "\n",
    "print(len(list_corrupted_columns))"
   ]
  },
  {
   "cell_type": "code",
   "execution_count": 37,
   "metadata": {},
   "outputs": [],
   "source": [
    "for col in list_corrupted_columns:\n",
    "    print (prepared_dataset.groupby(col)[col].count())"
   ]
  },
  {
   "cell_type": "code",
   "execution_count": 38,
   "metadata": {},
   "outputs": [],
   "source": [
    "# replace notasked and doesnot know values\n",
    "# prepared_dataset[categorical_columns] = prepared_dataset[categorical_columns].replace([8, 9], [np.nan, np.nan])"
   ]
  },
  {
   "cell_type": "code",
   "execution_count": 39,
   "metadata": {},
   "outputs": [
    {
     "data": {
      "text/plain": [
       "(4948, 157)"
      ]
     },
     "execution_count": 39,
     "metadata": {},
     "output_type": "execute_result"
    }
   ],
   "source": [
    "prepared_dataset.shape"
   ]
  },
  {
   "cell_type": "code",
   "execution_count": 40,
   "metadata": {},
   "outputs": [],
   "source": [
    "prepared_dataset[categorical_columns_final] = prepared_dataset[categorical_columns_final].replace(['Unknown'], [np.nan])"
   ]
  },
  {
   "cell_type": "code",
   "execution_count": 41,
   "metadata": {},
   "outputs": [
    {
     "name": "stdout",
     "output_type": "stream",
     "text": [
      "Before dataset.shape (3688, 157)\n",
      "After dataset.shape (3688, 105)\n"
     ]
    },
    {
     "data": {
      "text/plain": [
       "(3688, 105)"
      ]
     },
     "execution_count": 41,
     "metadata": {},
     "output_type": "execute_result"
    }
   ],
   "source": [
    "# # drop rows with maximum number of missing values # drop missing values\n",
    "prepared_dataset = drop_missing_columns(prepared_dataset[prepared_dataset.isna().sum(axis=1)<80], 0.95)\n",
    "prepared_dataset.shape"
   ]
  },
  {
   "cell_type": "code",
   "execution_count": 42,
   "metadata": {},
   "outputs": [],
   "source": [
    "# if drop score columns\n",
    "# prepared_dataset = prepared_dataset[prepared_dataset['CAMDEX SCORES: MINI MENTAL SCORE']>=0]"
   ]
  },
  {
   "cell_type": "code",
   "execution_count": 43,
   "metadata": {},
   "outputs": [
    {
     "data": {
      "text/plain": [
       "(3688, 105)"
      ]
     },
     "execution_count": 43,
     "metadata": {},
     "output_type": "execute_result"
    }
   ],
   "source": [
    "prepared_dataset.shape"
   ]
  },
  {
   "cell_type": "code",
   "execution_count": 44,
   "metadata": {},
   "outputs": [],
   "source": [
    "# feature transforamtion - one-hot encoding\n",
    "\n",
    "prepared_dataset_exp = prepared_dataset\n",
    "\n",
    "# select categorical data columns\n",
    "\n",
    "categorical_columns_final_exp = [col for col in prepared_dataset_exp.columns if col in categorical_columns_final]\n",
    "\n",
    "new_prepared_data = prepared_dataset_exp.drop(categorical_columns_final_exp, axis=1)\n",
    "for i in categorical_columns_final_exp:\n",
    "    x = pd.get_dummies(prepared_dataset_exp[i]).add_prefix(i+'::')\n",
    "    new_prepared_data = pd.concat([new_prepared_data, x], axis=1)\n",
    "    \n",
    "new_prepared_data['dementia_range'] = prepared_dataset_exp['dementia_range']\n",
    "\n",
    "prepared_dataset_exp = new_prepared_data"
   ]
  },
  {
   "cell_type": "code",
   "execution_count": 45,
   "metadata": {},
   "outputs": [
    {
     "data": {
      "text/plain": [
       "(3688, 192)"
      ]
     },
     "execution_count": 45,
     "metadata": {},
     "output_type": "execute_result"
    }
   ],
   "source": [
    "prepared_dataset_exp.shape"
   ]
  },
  {
   "cell_type": "code",
   "execution_count": 46,
   "metadata": {},
   "outputs": [],
   "source": [
    "# prepared_dataset_exp = prepared_dataset_exp.drop(columns=[col for col in prepared_dataset_exp.columns if '::Unknown' in col])\n",
    "# prepared_dataset_exp.shape"
   ]
  },
  {
   "cell_type": "code",
   "execution_count": 47,
   "metadata": {},
   "outputs": [],
   "source": [
    "# drop Nagative Features\n",
    "prepared_dataset_exp= prepared_dataset_exp.drop(columns=[col for col in prepared_dataset_exp.columns if '::Incorrect' in col])"
   ]
  },
  {
   "cell_type": "code",
   "execution_count": 48,
   "metadata": {},
   "outputs": [
    {
     "data": {
      "text/plain": [
       "(3579, 111)"
      ]
     },
     "execution_count": 48,
     "metadata": {},
     "output_type": "execute_result"
    }
   ],
   "source": [
    "prepared_dataset_exp = prepared_dataset_exp.dropna()\n",
    "prepared_dataset_exp.shape"
   ]
  },
  {
   "cell_type": "code",
   "execution_count": 49,
   "metadata": {},
   "outputs": [],
   "source": [
    "# model training\n",
    "def change_feature_names(feature_name):\n",
    "    p1 = '\\w.*\\d.*-\\d.*:\\s\\(\\d.*\\w\\)\\s'\n",
    "    p2 = '\\w.*:\\s'\n",
    "    feature_name = re.sub(p1, '', feature_name)\n",
    "    #feature_name = re.sub(p2, '', feature_name)\n",
    "    for key, value in score_dict.items():\n",
    "        if feature_name in key:\n",
    "            feature_name = feature_name+'{}'.format(value)\n",
    "    return feature_name\n"
   ]
  },
  {
   "cell_type": "code",
   "execution_count": 50,
   "metadata": {},
   "outputs": [
    {
     "name": "stdout",
     "output_type": "stream",
     "text": [
      "['SIMILARITIES - FURNITURE', 'Age At Episode', 'SIMILARITIES - CLOTHING', 'SUBTRACTING SEVENS', 'IDENTIFIES COIN', 'NUMBER OF ANIMALS LISTED: SCORE', 'IDENTIFIES OBJECTS', 'RECALLS OBJECTS', 'RECOGNISES OBJECTS', 'SIMILARITIES - FRUIT', 'MIME - BRUSHING TEETH', 'NUMBER OF ANIMALS LISTED', 'SIMILARITIES - LIFE', 'CLOCK DRAWING', 'RECALLS ADDRESS', 'RECOGNISES FAMOUS PEOPLE', 'COGNITIVE EXAM 162-187: ACTUAL DURATION OF INTERVIEW', 'PRAXIS - PAPER', 'dementia_range', 'RECALLS OBJECTS', 'REGISTERS OBJECTS', 'NAMES PICTURES: BAROMETER::Correct', 'COUNTING BACKWARDS::> two errors', 'COUNTING BACKWARDS::Correct', 'COUNTING BACKWARDS::One error', 'IDENTIFIES SEASON::Correct', 'NAMES PICTURES: TYPEWRITER::Correct', 'KNOWS MONARCH::Correct', 'RECALLS OBJECTS: TYPEWRITER::Correct', 'RECALLS OBJECTS 2: TABLE::Correct', 'PRAXIS - PAPER: FOLDS::Correct', 'REGISTERS OBJECTS 1: APPLE::Correct', 'READING COMPREHENSION 2::Correct', 'IDENTIFIES OBJECTS: WATCH::Correct', 'DRAWS HOUSE::Correct', 'WRITES A SENTENCE::Correct', 'COMPREHENDS RADIO::Correct', 'IDENTIFIES MONTH::Correct', 'MIME - WAVE::Correct', 'REMEMBERS WW1 DATE::Correct', 'COMPREHENDS HOTEL::Correct', 'RECALLS ADDRESS: WEST::Correct', 'REMEMBERS MAE WEST::Correct', 'IDENTIFIES STREETS/COUNTRY::Correct', 'RECALLS OBJECTS: LAMP::Correct', 'RECOGNISES PICTURES: SCALES::Correct', 'DICTATION::Correct', 'DICTATION::Poor', 'RECALLS ADDRESS: JOHN::Correct', 'READING COMPREHENSION 1::Correct', 'COMPREHENDS VILLAGE::Correct', 'DRAWS SPIRAL::Correct', 'RECOGNISES OBJECTS: SHOE::Correct', 'RECOGNISE PERSON::Correct', 'NAMES PICTURES: LAMP::Correct', 'COMPREHENDS TAP::Correct', 'RECOGNISES PICTURES: BAROMETER::Correct', 'RECALLS OBJECTS: SUITCASE::Correct', 'RECOGNISES PICTURES: SHOE::Correct', 'NAMES PICTURES: SHOE::Correct', 'REMEMBERS STALIN::Correct', 'RECOGNISES OBJECTS: CUP::Correct', 'CLOCK DRAWING: CIRCLE::Correct', 'COMPREHENDS TOUCH::Correct', 'DRAWS PENTAGON::Correct', 'REMEMBERS HITLER::Correct', 'IDENTIFIES COUNTY::Correct', 'IDENTIFIES TOWN::Correct', 'KNOWS PRIME MINISTER::Correct', 'REPETITION::Correct', 'REMEMBERS WW2 DATE::Correct', 'MIME - SCISSORS::Correct', 'MIME - SCISSORS::Poor', 'RECOGNISES OBJECTS: PURSE::Correct', 'CLOCK DRAWING: TIME::Correct', 'IDENTIFIES FLOOR::Correct', 'RECALLS OBJECTS 1: APPLE::Correct', 'RECOGNISES OBJECTS: SPECTACLES::Correct', 'IDENTIFIES OBJECTS: PENCIL::Correct', 'REGISTERS OBJECTS 3: PENNY::Correct', 'RECALLS ADDRESS: D42::Correct', 'IDENTIFIES PRESENT PLACE::Correct', 'DIAGNOSIS 334-351: DEPRESSIVE ILLNESS::Absent', 'DIAGNOSIS 334-351: DEPRESSIVE ILLNESS::Present', 'RECOGNISES OBJECTS: PIPE::Correct', 'COMPREHENDS LOOK::Correct', 'DEFINES HAMMER::Correct', 'COMPREHENDS NOD::Correct', 'REMEMBERS LINDBERGH::Correct', 'RECALLS ADDRESS: BEDFORD::Correct', 'IDENTIFIES DATE::Correct', 'ADDS UP MONEY::Correct', 'DIAGNOSIS 334-351: ANXIETY/PHOBIC::Absent', 'DIAGNOSIS 334-351: ANXIETY/PHOBIC::Present', 'RECALLS OBJECTS: BAROMETER::Correct', 'CLOCK DRAWING: NUMBERS::Correct', 'RECALLS OBJECTS 3: PENNY::Correct', 'KNOWS HEIR TO THRONE::Correct', 'RECALLS OBJECTS: SHOE::Correct', 'RECOGNISES OBJECTS: TELEPHONE::Correct', 'PRAXIS - PAPER: ON LAP::Correct', 'RECALLS ADDRESS: BROWN::Correct', 'RECALLS OBJECTS: SCALES::Correct', 'IDENTIFIES YEAR::Correct', 'PRAXIS - ENVELOPE::Correct', 'IDENTIFIES DAY OF WEEK::Correct', 'PRAXIS - PAPER: RIGHT HAND::Correct', 'KNOWS RECENT NEWS ITEM::Correct', 'SUBTRACTS MONEY::Correct', 'NAMES PICTURES: SCALES::Correct', 'NAMES PICTURES: SUITCASE::Correct']\n"
     ]
    }
   ],
   "source": [
    "print([change_feature_names(fea) for fea in prepared_dataset_exp.columns.tolist()])"
   ]
  },
  {
   "cell_type": "code",
   "execution_count": 51,
   "metadata": {},
   "outputs": [],
   "source": [
    "# training data\n",
    "X_full, y_full = prepared_dataset_exp.drop(columns=['dementia_range']), prepared_dataset_exp['dementia_range']"
   ]
  },
  {
   "cell_type": "code",
   "execution_count": 52,
   "metadata": {},
   "outputs": [
    {
     "data": {
      "text/plain": [
       "((3579, 110), array([1., 0.]), (1829,), (1750,), (0,))"
      ]
     },
     "execution_count": 52,
     "metadata": {},
     "output_type": "execute_result"
    }
   ],
   "source": [
    "X_full.shape, y_full.unique(), y_full[y_full==0].shape, y_full[y_full==1].shape, y_full[y_full==2].shape"
   ]
  },
  {
   "cell_type": "code",
   "execution_count": 53,
   "metadata": {},
   "outputs": [
    {
     "data": {
      "text/plain": [
       "'knn_estimator = KNeighborsRegressor(n_neighbors=15)\\nimputer = IterativeImputer(random_state=0, estimator=knn_estimator)\\nX_full_imput = imputer.fit_transform(X_full)\\ny_full_imput = y_full.values'"
      ]
     },
     "execution_count": 53,
     "metadata": {},
     "output_type": "execute_result"
    }
   ],
   "source": [
    "\n",
    "# impute missing values\n",
    "'''knn_estimator = KNeighborsRegressor(n_neighbors=15)\n",
    "imputer = IterativeImputer(random_state=0, estimator=knn_estimator)\n",
    "X_full_imput = imputer.fit_transform(X_full)\n",
    "y_full_imput = y_full.values'''"
   ]
  },
  {
   "cell_type": "code",
   "execution_count": 54,
   "metadata": {},
   "outputs": [
    {
     "name": "stdout",
     "output_type": "stream",
     "text": [
      "              precision    recall  f1-score   support\n",
      "\n",
      "         0.0       0.94      0.98      0.96       549\n",
      "         1.0       0.98      0.94      0.96       525\n",
      "\n",
      "    accuracy                           0.96      1074\n",
      "   macro avg       0.96      0.96      0.96      1074\n",
      "weighted avg       0.96      0.96      0.96      1074\n",
      "\n",
      "[0.]\n",
      "              precision    recall  f1-score   support\n",
      "\n",
      "         0.0       0.95      0.98      0.97       549\n",
      "         1.0       0.98      0.95      0.96       525\n",
      "\n",
      "    accuracy                           0.97      1074\n",
      "   macro avg       0.97      0.97      0.97      1074\n",
      "weighted avg       0.97      0.97      0.97      1074\n",
      "\n",
      "[0.]\n",
      "              precision    recall  f1-score   support\n",
      "\n",
      "         0.0       0.95      0.98      0.96       549\n",
      "         1.0       0.98      0.95      0.96       525\n",
      "\n",
      "    accuracy                           0.96      1074\n",
      "   macro avg       0.96      0.96      0.96      1074\n",
      "weighted avg       0.96      0.96      0.96      1074\n",
      "\n",
      "[0.]\n",
      "              precision    recall  f1-score   support\n",
      "\n",
      "         0.0       0.93      0.97      0.95       549\n",
      "         1.0       0.97      0.92      0.95       525\n",
      "\n",
      "    accuracy                           0.95      1074\n",
      "   macro avg       0.95      0.95      0.95      1074\n",
      "weighted avg       0.95      0.95      0.95      1074\n",
      "\n",
      "[1.]\n",
      "              precision    recall  f1-score   support\n",
      "\n",
      "         0.0       0.92      0.97      0.94       549\n",
      "         1.0       0.96      0.92      0.94       525\n",
      "\n",
      "    accuracy                           0.94      1074\n",
      "   macro avg       0.94      0.94      0.94      1074\n",
      "weighted avg       0.94      0.94      0.94      1074\n",
      "\n",
      "[0.]\n",
      "important_features:  ['COGNITIVE EXAM 120-161: (149) REMEMBERS WW2 DATE::Correct', 'COGNITIVE EXAM 120-161: (121) IDENTIFIES DATE::Correct', 'COGNITIVE EXAM 120-161: (161) RECALLS OBJECTS', 'COGNITIVE EXAM 162-187: (184) RECOGNISES OBJECTS', 'COGNITIVE EXAM 162-187: (184) RECOGNISES OBJECTS: PURSE::Correct', 'COGNITIVE EXAM 120-161: (146) RECALLS OBJECTS: SCALES::Correct', 'COGNITIVE EXAM 120-161: (139) NUMBER OF ANIMALS LISTED', 'COGNITIVE EXAM 162-187: (181) SIMILARITIES - FURNITURE', 'COGNITIVE EXAM 120-161: (146) RECALLS OBJECTS: TYPEWRITER::Correct', 'COGNITIVE EXAM 120-161: (146) RECALLS OBJECTS: BAROMETER::Correct', 'Age At Episode', 'COGNITIVE EXAM 120-161: (155) KNOWS HEIR TO THRONE::Correct', 'COGNITIVE EXAM 120-161: (148) REMEMBERS WW1 DATE::Correct', 'DIAGNOSIS 334-351: DEPRESSIVE ILLNESS::Present', 'COGNITIVE EXAM 162-187: (182) SIMILARITIES - LIFE', 'COGNITIVE EXAM 162-187: (171) DICTATION::Correct', 'COGNITIVE EXAM 120-161: (157) KNOWS RECENT NEWS ITEM::Correct', 'COGNITIVE EXAM 162-187: (178) RECALLS ADDRESS: D42::Correct', 'COGNITIVE EXAM 120-161: (146) RECALLS OBJECTS: SHOE::Correct', 'COGNITIVE EXAM 162-187: (166) DRAWS HOUSE::Correct', 'COGNITIVE EXAM 162-187: (164) DRAWS PENTAGON::Correct', 'COGNITIVE EXAM 162-187: (180) SIMILARITIES - CLOTHING', 'COGNITIVE EXAM 120-161: (160) SUBTRACTING SEVENS', 'COGNITIVE EXAM 120-161: (161) RECALLS OBJECTS 3: PENNY::Correct', 'COGNITIVE EXAM 162-187: (184) RECOGNISES OBJECTS: CUP::Correct', 'COGNITIVE EXAM 162-187: (167) CLOCK DRAWING', 'COGNITIVE EXAM 120-161: (147) RECOGNISES PICTURES: BAROMETER::Correct', 'COGNITIVE EXAM 162-187: (178) RECALLS ADDRESS: BROWN::Correct', 'COGNITIVE EXAM 162-187: (178) RECALLS ADDRESS: JOHN::Correct', 'COGNITIVE EXAM 120-161: (127) IDENTIFIES STREETS/COUNTRY::Correct', 'COGNITIVE EXAM 120-161: (138) NAMES PICTURES: BAROMETER::Correct', 'COGNITIVE EXAM 120-161: (120) IDENTIFIES DAY OF WEEK::Correct', 'COGNITIVE EXAM 162-187: (178) RECALLS ADDRESS', 'COGNITIVE EXAM 162-187: (178) RECALLS ADDRESS: WEST::Correct', 'COGNITIVE EXAM 162-187: (175) IDENTIFIES COIN', 'COGNITIVE EXAM 162-187: (167) CLOCK DRAWING: NUMBERS::Correct', 'COGNITIVE EXAM 162-187: (185) RECOGNISE PERSON::Correct', 'COGNITIVE EXAM 162-187: (177) SUBTRACTS MONEY::Correct', 'COGNITIVE EXAM 120-161: (123) IDENTIFIES YEAR::Correct', 'COGNITIVE EXAM 120-161: (151) REMEMBERS STALIN::Correct', 'COGNITIVE EXAM 120-161: (139) NUMBER OF ANIMALS LISTED: SCORE', 'COGNITIVE EXAM 120-161: (133) COMPREHENDS TAP::Correct', 'COGNITIVE EXAM 162-187: (178) RECALLS ADDRESS: BEDFORD::Correct', 'COGNITIVE EXAM 120-161: (147) RECOGNISES PICTURES: SCALES::Correct', 'COGNITIVE EXAM 162-187: ACTUAL DURATION OF INTERVIEW', 'COGNITIVE EXAM 162-187: (167) CLOCK DRAWING: TIME::Correct', 'COGNITIVE EXAM 120-161: (146) RECALLS OBJECTS', 'COGNITIVE EXAM 120-161: (161) RECALLS OBJECTS 2: TABLE::Correct', 'COGNITIVE EXAM 120-161: (129) IDENTIFIES PRESENT PLACE::Correct', 'COGNITIVE EXAM 120-161: (161) RECALLS OBJECTS 1: APPLE::Correct', 'COGNITIVE EXAM 120-161: (156) KNOWS PRIME MINISTER::Correct', 'COGNITIVE EXAM 120-161: (122) IDENTIFIES MONTH::Correct', 'COGNITIVE EXAM 162-187: (184) RECOGNISES OBJECTS: TELEPHONE::Correct', 'COGNITIVE EXAM 162-187: (179) SIMILARITIES - FRUIT', 'COGNITIVE EXAM 120-161: (146) RECALLS OBJECTS: SUITCASE::Correct', 'COGNITIVE EXAM 162-187: (165) DRAWS SPIRAL::Correct', 'COGNITIVE EXAM 120-161: (146) RECALLS OBJECTS: LAMP::Correct']\n"
     ]
    }
   ],
   "source": [
    "X_full_imput, y_full_imput = X_full.values, y_full.values\n",
    "\n",
    "rf_estimator = RandomForestClassifier(max_depth=5, random_state=0)\n",
    "cv = StratifiedShuffleSplit(n_splits=5, test_size=0.3, random_state=123)\n",
    "important_features = set()\n",
    "important_features_size = 50\n",
    "for i, (train, test) in enumerate(cv.split(X_full_imput, y_full_imput)):\n",
    "    rf_estimator.fit(X_full_imput[train], y_full_imput[train])\n",
    "    y_predicted = rf_estimator.predict(X_full_imput[test])\n",
    "    print (classification_report(y_full_imput[test], y_predicted))\n",
    "    \n",
    "    # print important features\n",
    "    # model important feature\n",
    "    fea_importance = rf_estimator.feature_importances_\n",
    "    indices = np.argsort(fea_importance)[::-1]\n",
    "    for f in range(important_features_size):\n",
    "        # print(\"%d. feature: %s (%f)\" % (f + 1, X_full.columns.values[indices[f]], fea_importance[indices[f]]))\n",
    "        important_features.add(X_full.columns.values[indices[f]])\n",
    "    \n",
    "    print(rf_estimator.predict([X_full_imput[test][800]]))\n",
    "    #lime interpretability \n",
    "    \"\"\"explainer = lime.lime_tabular.LimeTabularExplainer(np.array(X_full_imput[train]), \n",
    "                                                       feature_names=[change_feature_names(fea) for fea in X_full.columns.values], \n",
    "                                                       class_names=['No Dementia', 'Dementia'],#rf_estimator.classes_, \n",
    "                                                       #discretize_continuous=True, \n",
    "                                                       random_state=123)\n",
    "    exp = explainer.explain_instance(X_full_imput[test][800], rf_estimator.predict_proba, num_features=10, top_labels=2)\n",
    "    #exp.show_in_notebook(show_table=True, show_all=False)\n",
    "    exp.save_to_file('Xmodel_1DT_4'+str(i)+'.html')\"\"\"\n",
    "    #print (exp.as_list())\n",
    "    #fig = exp.as_pyplot_figure()\n",
    "    #plt.show()\n",
    "    \n",
    "    # shap interpretability\n",
    "    \n",
    "#important feature list\n",
    "print ('important_features: ', list(important_features))"
   ]
  },
  {
   "cell_type": "code",
   "execution_count": 55,
   "metadata": {},
   "outputs": [],
   "source": [
    "prepared_dataset_exp_full = prepared_dataset_exp\n",
    "\n",
    "#Taking important features\n",
    "prepared_dataset_exp = prepared_dataset_exp[list(important_features)+['dementia_range']]\n",
    "\n",
    "X_train, X_test, y_train, y_test = train_test_split(prepared_dataset_exp.drop(columns=['dementia_range']).values, prepared_dataset_exp['dementia_range'].values, test_size=0.3, random_state=123, stratify=prepared_dataset_exp['dementia_range'])"
   ]
  },
  {
   "cell_type": "code",
   "execution_count": 56,
   "metadata": {},
   "outputs": [
    {
     "name": "stdout",
     "output_type": "stream",
     "text": [
      "(2505, 57) (2505,)\n",
      "0.9329608938547486\n",
      "              precision    recall  f1-score   support\n",
      "\n",
      "         0.0       0.91      0.97      0.94       549\n",
      "         1.0       0.96      0.90      0.93       525\n",
      "\n",
      "    accuracy                           0.93      1074\n",
      "   macro avg       0.94      0.93      0.93      1074\n",
      "weighted avg       0.93      0.93      0.93      1074\n",
      "\n"
     ]
    }
   ],
   "source": [
    "import graphviz\n",
    "from sklearn import tree\n",
    "from six import StringIO  \n",
    "from IPython.display import Image  \n",
    "from sklearn.tree import export_graphviz\n",
    "import pydotplus, joblib\n",
    "from svglib.svglib import svg2rlg\n",
    "from reportlab.graphics import renderPDF, renderPM\n",
    "\n",
    "feature_names = prepared_dataset_exp.drop(columns=['dementia_range']).columns\n",
    "\n",
    "clf = tree.DecisionTreeClassifier(random_state=0, max_depth=5)\n",
    "clf.fit(X_train, y_train) \n",
    "print (X_train.shape, y_train.shape)\n",
    "print(clf.score(X_test, y_test))\n",
    "y_pred = clf.predict(X_test)\n",
    "print (classification_report(y_test, y_pred))\n",
    "\n",
    "dot_data = StringIO()\n",
    "export_graphviz(clf, out_file=dot_data,  \n",
    "                filled=True, rounded=True,\n",
    "                special_characters=True, feature_names=feature_names, \n",
    "               class_names=['No Dementia', 'Dementia'])\n",
    "graph = pydotplus.graph_from_dot_data(dot_data.getvalue())  \n",
    "#Image(graph.create_png())"
   ]
  },
  {
   "cell_type": "code",
   "execution_count": 57,
   "metadata": {},
   "outputs": [
    {
     "name": "stderr",
     "output_type": "stream",
     "text": [
      "findfont: Font family ['Arial'] not found. Falling back to DejaVu Sans.\n"
     ]
    }
   ],
   "source": [
    "def change_feature_names(feature_name):\n",
    "    p1 = '\\w.*\\d.*-\\d.*:\\s\\(\\d.*\\w\\)\\s'\n",
    "    p2 = '\\w.*:\\s'\n",
    "    feature_name = re.sub(p1, '', feature_name)\n",
    "    feature_name = re.sub('COGNITIVE EXAM 162-187: ','',feature_name)\n",
    "    feature_name = re.sub('DIAGNOSIS 334-351: ','',feature_name)\n",
    "    # feature_name = re.sub(p2, '', feature_name)\n",
    "    for key, value in score_dict.items():\n",
    "        if feature_name in key:\n",
    "            feature_name = feature_name+'{}'.format(value)\n",
    "    return feature_name\n",
    "    \n",
    "\n",
    "\n",
    "bool_feature_names_DT = prepared_dataset_exp.select_dtypes(include='uint8').columns\n",
    "feature_names_DT = [change_feature_names(i) for i in feature_names]\n",
    "bool_feature_names_DT = [change_feature_names(i) for i in  bool_feature_names_DT] # Important 0: NO and 1: YES\n",
    "bool_feature_names_true_DT = [i for i in bool_feature_names_DT if '::' in i] #('IDENTIFIES' in i or 'RECALL' in i) and '_1.0' in i ]\n",
    "bool_feature_names_false_DT = [i for i in bool_feature_names_DT if '::' in i] #('IDENTIFIES' in i or 'RECALL' in i) and '_0.0' in i ]\n",
    "feature_names_for_split_DT = [i for i in feature_names_DT if ' SCORE' in i] \n",
    "#print(feature_names_for_split_DT)\n",
    "\n",
    "viz = dtreeviz(clf, \n",
    "               x_data=X_train,\n",
    "               y_data=y_train,\n",
    "               target_name='class',\n",
    "               feature_names=feature_names_DT,\n",
    "               bool_feature_names_true=bool_feature_names_true_DT,\n",
    "               bool_feature_names_false=bool_feature_names_false_DT,\n",
    "               feature_names_for_split=feature_names_for_split_DT,\n",
    "               class_names=['No Dementia', 'Dementia'],\n",
    "               fancy=False, label_fontsize=40, ticks_fontsize=2)\n",
    "\n",
    "viz.save('Xmodel_1DT_4.svg')\n",
    "drawing = svg2rlg(\"./Xmodel_1DT_4.svg\".format(i))\n",
    "renderPDF.drawToFile(drawing, \"./Xmodel_1DT_4.pdf\".format(i))"
   ]
  },
  {
   "cell_type": "code",
   "execution_count": 58,
   "metadata": {},
   "outputs": [
    {
     "data": {
      "text/plain": [
       "'from reportlab.graphics import renderPDF, renderPM\\nfrom svglib.svglib import svg2rlg\\ndrawing = svg2rlg(\"./method_4DT.svg\")\\nrenderPDF.drawToFile(drawing, \"./method_4DT.pdf\")'"
      ]
     },
     "execution_count": 58,
     "metadata": {},
     "output_type": "execute_result"
    }
   ],
   "source": [
    "\"\"\"from reportlab.graphics import renderPDF, renderPM\n",
    "from svglib.svglib import svg2rlg\n",
    "drawing = svg2rlg(\"./method_4DT.svg\")\n",
    "renderPDF.drawToFile(drawing, \"./method_4DT.pdf\")\"\"\""
   ]
  }
 ],
 "metadata": {
  "kernelspec": {
   "display_name": "Python 3",
   "language": "python",
   "name": "python3"
  },
  "language_info": {
   "codemirror_mode": {
    "name": "ipython",
    "version": 3
   },
   "file_extension": ".py",
   "mimetype": "text/x-python",
   "name": "python",
   "nbconvert_exporter": "python",
   "pygments_lexer": "ipython3",
   "version": "3.8.5"
  }
 },
 "nbformat": 4,
 "nbformat_minor": 4
}
