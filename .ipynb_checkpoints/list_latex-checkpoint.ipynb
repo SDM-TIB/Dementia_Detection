{
 "cells": [
  {
   "cell_type": "code",
   "execution_count": 1,
   "metadata": {},
   "outputs": [],
   "source": [
    "l = ['IDENTIFIES OBJECTS', 'RECALLS ADDRESS', 'SIMILARITIES - CLOTHING', 'RECOGNISES FAMOUS PEOPLE', 'RECOGNISES OBJECTS', 'RECALLS OBJECTS', 'NUMBER OF ANIMALS LISTED', 'SIMILARITIES - LIFE', 'PATIENT', 'SIMILARITIES - FURNITURE', 'REGISTERS OBJECTS', 'IDENTIFIES COIN', 'Age At Episode', 'SUBTRACTING SEVENS', 'CLOCK DRAWING', 'COGNITIVE EXAM 162-187: ACTUAL DURATION OF INTERVIEW', 'MIME - BRUSHING TEETH', 'RECALLS OBJECTS', 'PRAXIS - PAPER', 'NUMBER OF ANIMALS LISTED: SCORE', 'SIMILARITIES - FRUIT', 'dementia_range', 'RECALLS ADDRESS: BROWN::Correct', 'DEAFNESS::Needs aid', 'DEAFNESS::Needs person', 'DEAFNESS::Normal', 'TREMOR::Needs aid', 'TREMOR::Needs person', 'TREMOR::Normal', 'CLOCK DRAWING: CIRCLE::Correct', 'RECOGNISES OBJECTS: PIPE::Correct', 'NAMES PICTURES: SUITCASE::Correct', 'KNOWS RECENT NEWS ITEM::Correct', 'RECALLS OBJECTS 2: TABLE::Correct', 'DIAGNOSIS 334-351: DEPRESSIVE ILLNESS::Absent', 'DIAGNOSIS 334-351: DEPRESSIVE ILLNESS::Present', 'PRAXIS - PAPER: RIGHT HAND::Correct', 'PLANTAR REFLEXES::Both extensor', 'PLANTAR REFLEXES::Extensor l', 'PLANTAR REFLEXES::Extensor r', 'PLANTAR REFLEXES::Normal', 'RECOGNISES OBJECTS: CUP::Correct', 'NAMES PICTURES: BAROMETER::Correct', 'HEMIPARESIS::Both', 'HEMIPARESIS::Left', 'HEMIPARESIS::None', 'HEMIPARESIS::Right', 'DIAGNOSIS 334-351: ANXIETY/PHOBIC::Absent', 'DIAGNOSIS 334-351: ANXIETY/PHOBIC::Present', 'REGISTERS OBJECTS 3: PENNY::Correct', 'COMPREHENDS TOUCH::Correct', 'REMEMBERS WW2 DATE::Correct', 'MANUAL DIFFICULTY::Correct', 'RECALLS OBJECTS 3: PENNY::Correct', 'RECALLS OBJECTS: SUITCASE::Correct', 'IDENTIFIES YEAR::Correct', 'RECOGNISES OBJECTS: PURSE::Correct', 'RECOGNISES OBJECTS: SPECTACLES::Correct', 'RECOGNISES OBJECTS: SHOE::Correct', 'RECALLS OBJECTS: LAMP::Correct', 'REMEMBERS MAE WEST::Correct', 'SHORTNESS OF BREATH::Correct', 'RECALLS OBJECTS: TYPEWRITER::Correct', 'READING COMPREHENSION 2::Correct', 'KNOWS PRIME MINISTER::Correct', 'COMPREHENDS NOD::Correct', 'DRAWS SPIRAL::Correct', 'CLOCK DRAWING: NUMBERS::Correct', 'IDENTIFIES STREETS/COUNTRY::Correct', 'GAIT::Normal', 'GAIT::Other', 'GAIT::Wide based',  'COMPREHENDS LOOK::Correct', 'READING COMPREHENSION 1::Correct', 'COMPREHENDS VILLAGE::Correct', 'KNOWS MONARCH::Correct', 'RECALLS OBJECTS 1: APPLE::Correct', 'KNOWS HEIR TO THRONE::Correct', 'IDENTIFIES OBJECTS: PENCIL::Correct', 'REMEMBERS WW1 DATE::Correct', 'NAMES PICTURES: SHOE::Correct', 'DEFINES HAMMER::Correct', 'SUBTRACTS MONEY::Correct', 'MOBILITY::Needs aid', 'MOBILITY::Needs person', 'MOBILITY::Normal', 'RECALLS OBJECTS: SCALES::Correct', 'RECALLS OBJECTS: BAROMETER::Correct', 'RECOGNISES OBJECTS: TELEPHONE::Correct', 'NAMES PICTURES: LAMP::Correct', 'RECALLS ADDRESS: BEDFORD::Correct', 'ABNORMAL EYE MOVEMENTS::Correct', 'IDENTIFIES COUNTY::Correct', 'WRITES A SENTENCE::Correct', 'PRAXIS - PAPER: ON LAP::Correct', 'RECALLS ADDRESS: D42::Correct', 'DRAWS HOUSE::Correct', 'VISUAL DEFECT::Needs aid', 'VISUAL DEFECT::Needs person', 'VISUAL DEFECT::Normal', 'IDENTIFIES SEASON::Correct', 'TENDON REFLEXES::Correct', 'IDENTIFIES OBJECTS: WATCH::Correct', 'IDENTIFIES DATE::Correct', 'COMPREHENDS TAP::Correct', 'IDENTIFIES TOWN::Correct', 'BLOOD PRESSURE::Abnormal', 'BLOOD PRESSURE::Normal', 'IDENTIFIES FLOOR::Correct', 'RECALLS OBJECTS: SHOE::Correct', 'ADDS UP MONEY::Correct', 'COUNTING BACKWARDS::> two errors', 'COUNTING BACKWARDS::Correct', 'COUNTING BACKWARDS::One error', 'MIME - WAVE::Correct', 'REPETITION::Correct', 'IDENTIFIES MONTH::Correct', 'REGISTERS OBJECTS 1: APPLE::Correct', 'CLOCK DRAWING: TIME::Correct', 'REMEMBERS HITLER::Correct', 'MIME - SCISSORS::Correct', 'MIME - SCISSORS::Poor', 'RECALLS ADDRESS: JOHN::Correct', 'RECOGNISES PICTURES: SCALES::Correct', 'REMEMBERS STALIN::Correct', 'COMPREHENDS HOTEL::Correct', 'RECALLS ADDRESS: WEST::Correct', 'DICTATION::Correct', 'DICTATION::Poor', 'NAMES PICTURES: SCALES::Correct', 'IDENTIFIES DAY OF WEEK::Correct', 'PRAXIS - ENVELOPE::Correct', 'REMEMBERS LINDBERGH::Correct', 'IDENTIFIES PRESENT PLACE::Correct', 'DRAWS PENTAGON::Correct', 'COMPREHENDS RADIO::Correct', 'RECOGNISES PICTURES: BAROMETER::Correct', 'PRAXIS - PAPER: FOLDS::Correct', 'NAMES PICTURES: TYPEWRITER::Correct', 'RECOGNISES PICTURES: SHOE::Correct']"
   ]
  },
  {
   "cell_type": "code",
   "execution_count": 32,
   "metadata": {
    "scrolled": true
   },
   "outputs": [
    {
     "name": "stdout",
     "output_type": "stream",
     "text": [
      "IDENTIFIES OBJECTS &  RECALLS ADDRESS &  SIMILARITIES - CLOTHING &  \\\\\n",
      "RECOGNISES FAMOUS PEOPLE &  RECOGNISES OBJECTS &  RECALLS OBJECTS &  \\\\\n",
      "NUMBER OF ANIMALS LISTED &  SIMILARITIES - LIFE &  PATIENT &  \\\\\n",
      "SIMILARITIES - FURNITURE &  REGISTERS OBJECTS &  IDENTIFIES COIN &  \\\\\n",
      "Age At Episode &  SUBTRACTING SEVENS &  CLOCK DRAWING &  \\\\\n",
      "COGNITIVE EXAM 162-187: ACTUAL DURATION OF INTERVIEW &  MIME - BRUSHING TEETH &  RECALLS OBJECTS &  \\\\\n",
      "PRAXIS - PAPER &  NUMBER OF ANIMALS LISTED: SCORE &  SIMILARITIES - FRUIT &  \\\\\n",
      "dementia_range &  RECALLS ADDRESS: BROWN::Correct &  DEAFNESS::Needs aid &  \\\\\n",
      "DEAFNESS::Needs person &  DEAFNESS::Normal &  TREMOR::Needs aid &  \\\\\n",
      "TREMOR::Needs person &  TREMOR::Normal &  CLOCK DRAWING: CIRCLE::Correct &  \\\\\n",
      "RECOGNISES OBJECTS: PIPE::Correct &  NAMES PICTURES: SUITCASE::Correct &  KNOWS RECENT NEWS ITEM::Correct &  \\\\\n",
      "RECALLS OBJECTS 2: TABLE::Correct &  DIAGNOSIS 334-351: DEPRESSIVE ILLNESS::Absent &  DIAGNOSIS 334-351: DEPRESSIVE ILLNESS::Present &  \\\\\n",
      "PRAXIS - PAPER: RIGHT HAND::Correct &  PLANTAR REFLEXES::Both extensor &  PLANTAR REFLEXES::Extensor l &  \\\\\n",
      "PLANTAR REFLEXES::Extensor r &  PLANTAR REFLEXES::Normal &  RECOGNISES OBJECTS: CUP::Correct &  \\\\\n",
      "NAMES PICTURES: BAROMETER::Correct &  HEMIPARESIS::Both &  HEMIPARESIS::Left &  \\\\\n",
      "HEMIPARESIS::None &  HEMIPARESIS::Right &  DIAGNOSIS 334-351: ANXIETY/PHOBIC::Absent &  \\\\\n",
      "DIAGNOSIS 334-351: ANXIETY/PHOBIC::Present &  REGISTERS OBJECTS 3: PENNY::Correct &  COMPREHENDS TOUCH::Correct &  \\\\\n",
      "REMEMBERS WW2 DATE::Correct &  MANUAL DIFFICULTY::Correct &  RECALLS OBJECTS 3: PENNY::Correct &  \\\\\n",
      "RECALLS OBJECTS: SUITCASE::Correct &  IDENTIFIES YEAR::Correct &  RECOGNISES OBJECTS: PURSE::Correct &  \\\\\n",
      "RECOGNISES OBJECTS: SPECTACLES::Correct &  RECOGNISES OBJECTS: SHOE::Correct &  RECALLS OBJECTS: LAMP::Correct &  \\\\\n",
      "REMEMBERS MAE WEST::Correct &  SHORTNESS OF BREATH::Correct &  RECALLS OBJECTS: TYPEWRITER::Correct &  \\\\\n",
      "READING COMPREHENSION 2::Correct &  KNOWS PRIME MINISTER::Correct &  COMPREHENDS NOD::Correct &  \\\\\n",
      "DRAWS SPIRAL::Correct &  CLOCK DRAWING: NUMBERS::Correct &  IDENTIFIES STREETS/COUNTRY::Correct &  \\\\\n",
      "GAIT::Normal &  GAIT::Other &  GAIT::Wide based &  \\\\\n",
      "COMPREHENDS LOOK::Correct &  READING COMPREHENSION 1::Correct &  COMPREHENDS VILLAGE::Correct &  \\\\\n",
      "KNOWS MONARCH::Correct &  RECALLS OBJECTS 1: APPLE::Correct &  KNOWS HEIR TO THRONE::Correct &  \\\\\n",
      "IDENTIFIES OBJECTS: PENCIL::Correct &  REMEMBERS WW1 DATE::Correct &  NAMES PICTURES: SHOE::Correct &  \\\\\n",
      "DEFINES HAMMER::Correct &  SUBTRACTS MONEY::Correct &  MOBILITY::Needs aid &  \\\\\n",
      "MOBILITY::Needs person &  MOBILITY::Normal &  RECALLS OBJECTS: SCALES::Correct &  \\\\\n",
      "RECALLS OBJECTS: BAROMETER::Correct &  RECOGNISES OBJECTS: TELEPHONE::Correct &  NAMES PICTURES: LAMP::Correct &  \\\\\n",
      "RECALLS ADDRESS: BEDFORD::Correct &  ABNORMAL EYE MOVEMENTS::Correct &  IDENTIFIES COUNTY::Correct &  \\\\\n",
      "WRITES A SENTENCE::Correct &  PRAXIS - PAPER: ON LAP::Correct &  RECALLS ADDRESS: D42::Correct &  \\\\\n",
      "DRAWS HOUSE::Correct &  VISUAL DEFECT::Needs aid &  VISUAL DEFECT::Needs person &  \\\\\n",
      "VISUAL DEFECT::Normal &  IDENTIFIES SEASON::Correct &  TENDON REFLEXES::Correct &  \\\\\n",
      "IDENTIFIES OBJECTS: WATCH::Correct &  IDENTIFIES DATE::Correct &  COMPREHENDS TAP::Correct &  \\\\\n",
      "IDENTIFIES TOWN::Correct &  BLOOD PRESSURE::Abnormal &  BLOOD PRESSURE::Normal &  \\\\\n",
      "IDENTIFIES FLOOR::Correct &  RECALLS OBJECTS: SHOE::Correct &  ADDS UP MONEY::Correct &  \\\\\n",
      "COUNTING BACKWARDS::> two errors &  COUNTING BACKWARDS::Correct &  COUNTING BACKWARDS::One error &  \\\\\n",
      "MIME - WAVE::Correct &  REPETITION::Correct &  IDENTIFIES MONTH::Correct &  \\\\\n",
      "REGISTERS OBJECTS 1: APPLE::Correct &  CLOCK DRAWING: TIME::Correct &  REMEMBERS HITLER::Correct &  \\\\\n",
      "MIME - SCISSORS::Correct &  MIME - SCISSORS::Poor &  RECALLS ADDRESS: JOHN::Correct &  \\\\\n",
      "RECOGNISES PICTURES: SCALES::Correct &  REMEMBERS STALIN::Correct &  COMPREHENDS HOTEL::Correct &  \\\\\n",
      "RECALLS ADDRESS: WEST::Correct &  DICTATION::Correct &  DICTATION::Poor &  \\\\\n",
      "NAMES PICTURES: SCALES::Correct &  IDENTIFIES DAY OF WEEK::Correct &  PRAXIS - ENVELOPE::Correct &  \\\\\n",
      "REMEMBERS LINDBERGH::Correct &  IDENTIFIES PRESENT PLACE::Correct &  DRAWS PENTAGON::Correct &  \\\\\n",
      "COMPREHENDS RADIO::Correct &  RECOGNISES PICTURES: BAROMETER::Correct &  PRAXIS - PAPER: FOLDS::Correct &  \\\\\n",
      "NAMES PICTURES: TYPEWRITER::Correct &  RECOGNISES PICTURES: SHOE::Correct &  "
     ]
    }
   ],
   "source": [
    "for i, f in enumerate(l):\n",
    "    print(f, '& ', end=' ')\n",
    "    if (i+1)%3==0:\n",
    "        print(f, end=' ')\n",
    "        print ('\\\\\\\\')"
   ]
  },
  {
   "cell_type": "code",
   "execution_count": 19,
   "metadata": {},
   "outputs": [
    {
     "data": {
      "text/plain": [
       "0"
      ]
     },
     "execution_count": 19,
     "metadata": {},
     "output_type": "execute_result"
    }
   ],
   "source": [
    "50%5"
   ]
  },
  {
   "cell_type": "code",
   "execution_count": null,
   "metadata": {},
   "outputs": [],
   "source": []
  }
 ],
 "metadata": {
  "kernelspec": {
   "display_name": "Python 3",
   "language": "python",
   "name": "python3"
  },
  "language_info": {
   "codemirror_mode": {
    "name": "ipython",
    "version": 3
   },
   "file_extension": ".py",
   "mimetype": "text/x-python",
   "name": "python",
   "nbconvert_exporter": "python",
   "pygments_lexer": "ipython3",
   "version": "3.8.5"
  }
 },
 "nbformat": 4,
 "nbformat_minor": 4
}
