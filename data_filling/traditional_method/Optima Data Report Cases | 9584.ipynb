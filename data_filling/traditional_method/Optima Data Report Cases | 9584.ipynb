{
 "cells": [
  {
   "cell_type": "markdown",
   "metadata": {},
   "source": [
    "# Optima Data Report Cases | 9584"
   ]
  },
  {
   "cell_type": "code",
   "execution_count": 1,
   "metadata": {},
   "outputs": [],
   "source": [
    "import pandas as pd\n",
    "from collections import Counter"
   ]
  },
  {
   "cell_type": "code",
   "execution_count": 2,
   "metadata": {},
   "outputs": [],
   "source": [
    "def extract_values(df, column, values):\n",
    "    d = df[df[column].isin(values)]\n",
    "    print(len(set(d.index)))\n",
    "    return set(d.index), d "
   ]
  },
  {
   "cell_type": "code",
   "execution_count": 3,
   "metadata": {},
   "outputs": [],
   "source": [
    "def scan_unique(df, column):\n",
    "    return df[column].unique()"
   ]
  },
  {
   "cell_type": "code",
   "execution_count": 4,
   "metadata": {},
   "outputs": [],
   "source": [
    "def col_name(name):\n",
    "    name = name.lower()\n",
    "    return data.columns[[name in i.lower() for i in data.columns]]"
   ]
  },
  {
   "cell_type": "code",
   "execution_count": 5,
   "metadata": {},
   "outputs": [],
   "source": [
    "def get_missing_datasets(column):\n",
    "    print(\"null:\", data[data[column].isna()].shape)\n",
    "    print(\"not asked:\", data[data[column].isin([9])].shape)\n",
    "    print(\"not known:\", data[data[column].isin([8])].shape)\n",
    "    return data[data[column].isna()], data[data[column].isin([8])], pd.concat([data[data[column].isna()], data[data[column].isin([8, 9])]])"
   ]
  },
  {
   "cell_type": "code",
   "execution_count": 6,
   "metadata": {},
   "outputs": [],
   "source": [
    "current_treatment = [\"CURRENT MEDICATION: TREATMENT \"+str(i) for i in range(1, 21)]"
   ]
  },
  {
   "cell_type": "code",
   "execution_count": null,
   "metadata": {},
   "outputs": [],
   "source": []
  },
  {
   "cell_type": "code",
   "execution_count": 7,
   "metadata": {},
   "outputs": [],
   "source": [
    "data = pd.read_excel(\"Data Request Jan 2019 (Optima, Lead, Challenge)_final (1).xlsx\")"
   ]
  },
  {
   "cell_type": "code",
   "execution_count": 8,
   "metadata": {},
   "outputs": [],
   "source": [
    "data = data.drop_duplicates(['GLOBAL_PATIENT_DB_ID','EPISODE_DATE'])"
   ]
  },
  {
   "cell_type": "code",
   "execution_count": 9,
   "metadata": {},
   "outputs": [
    {
     "data": {
      "text/plain": [
       "(9584, 1593)"
      ]
     },
     "execution_count": 9,
     "metadata": {},
     "output_type": "execute_result"
    }
   ],
   "source": [
    "data.shape"
   ]
  },
  {
   "cell_type": "code",
   "execution_count": null,
   "metadata": {},
   "outputs": [],
   "source": []
  },
  {
   "cell_type": "code",
   "execution_count": 10,
   "metadata": {},
   "outputs": [
    {
     "data": {
      "text/plain": [
       "Index(['CAMDEX ADMINISTRATION 1-12: EST OF SEVERITY OF DEPRESSION',\n",
       "       'PRESENT STATE 13-46: (037) DURATION OF DEPRESSION',\n",
       "       'PRESENT STATE 13-46: (038) REASON FOR DEPRESSION',\n",
       "       'PRESENT STATE 13-46: (038) REASON FOR DEPRESSION: TEXT',\n",
       "       'DIAGNOSIS 334-351: SEVERITY OF DEPRESSION',\n",
       "       'CAMDEX SCORES: DEPRESSION SCALE',\n",
       "       'CAMDEX SCORES: GERIATRIC DEPRESSION SCORE',\n",
       "       'MEDICAL ASSESSMENT V 2010: DEPRESSION',\n",
       "       'MEDICAL ASSESSMENT V 2010: DEPRESSION TREATED BY DOCTOR',\n",
       "       'NPI: DEPRESSION/DYSPHORIA: FREQUENCY',\n",
       "       'NPI: DEPRESSION/DYSPHORIA: SEVERITY',\n",
       "       'NPI: DEPRESSION/DYSPHORIA: F X S',\n",
       "       'NPI: DEPRESSION/DYSPHORIA: DISTRESS'],\n",
       "      dtype='object')"
      ]
     },
     "execution_count": 10,
     "metadata": {},
     "output_type": "execute_result"
    }
   ],
   "source": [
    "col_name(\"depression\")"
   ]
  },
  {
   "cell_type": "code",
   "execution_count": null,
   "metadata": {},
   "outputs": [],
   "source": []
  },
  {
   "cell_type": "code",
   "execution_count": 12,
   "metadata": {},
   "outputs": [
    {
     "data": {
      "text/plain": [
       "array([nan,  0.,  1.,  4.,  8.,  3.,  2., 12.,  5.,  6.,  9.])"
      ]
     },
     "execution_count": 12,
     "metadata": {},
     "output_type": "execute_result"
    }
   ],
   "source": [
    "data[].unique()"
   ]
  },
  {
   "cell_type": "code",
   "execution_count": 13,
   "metadata": {},
   "outputs": [
    {
     "data": {
      "text/plain": [
       "array([nan,  2.,  1.,  0.,  4.,  3.,  8.,  9.])"
      ]
     },
     "execution_count": 13,
     "metadata": {},
     "output_type": "execute_result"
    }
   ],
   "source": [
    "data['NPI: DEPRESSION/DYSPHORIA: FREQUENCY'].unique()"
   ]
  },
  {
   "cell_type": "code",
   "execution_count": 13,
   "metadata": {},
   "outputs": [
    {
     "data": {
      "text/plain": [
       "array([nan,  2.,  1.,  0.,  4.,  3.,  8.,  9.])"
      ]
     },
     "execution_count": 13,
     "metadata": {},
     "output_type": "execute_result"
    }
   ],
   "source": [
    "data['NPI: DEPRESSION/DYSPHORIA: FREQUENCY'].unique()"
   ]
  },
  {
   "cell_type": "code",
   "execution_count": 14,
   "metadata": {},
   "outputs": [],
   "source": [
    "columns = ['NPI: DEPRESSION/DYSPHORIA: FREQUENCY', 'NPI: DEPRESSION/DYSPHORIA: SEVERITY', 'NPI: DEPRESSION/DYSPHORIA: F X S']"
   ]
  },
  {
   "cell_type": "code",
   "execution_count": 16,
   "metadata": {},
   "outputs": [
    {
     "data": {
      "text/plain": [
       "NPI: DEPRESSION/DYSPHORIA: FREQUENCY    8433\n",
       "NPI: DEPRESSION/DYSPHORIA: SEVERITY     8434\n",
       "NPI: DEPRESSION/DYSPHORIA: F X S        8436\n",
       "dtype: int64"
      ]
     },
     "execution_count": 16,
     "metadata": {},
     "output_type": "execute_result"
    }
   ],
   "source": [
    "data[columns].isna().sum()"
   ]
  },
  {
   "cell_type": "code",
   "execution_count": 20,
   "metadata": {},
   "outputs": [
    {
     "data": {
      "text/plain": [
       "897"
      ]
     },
     "execution_count": 20,
     "metadata": {},
     "output_type": "execute_result"
    }
   ],
   "source": [
    "(data['NPI: DEPRESSION/DYSPHORIA: FREQUENCY']*data['NPI: DEPRESSION/DYSPHORIA: SEVERITY']==data['NPI: DEPRESSION/DYSPHORIA: F X S']).sum()"
   ]
  },
  {
   "cell_type": "code",
   "execution_count": null,
   "metadata": {},
   "outputs": [],
   "source": []
  },
  {
   "cell_type": "code",
   "execution_count": 23,
   "metadata": {
    "scrolled": true
   },
   "outputs": [
    {
     "name": "stdout",
     "output_type": "stream",
     "text": [
      "2.0 8.0 0.0\n",
      "1.0 3.0 4.0\n",
      "1.0 2.0 0.0\n",
      "2.0 8.0 4.0\n",
      "0.0 0.0 8.0\n",
      "2.0 4.0 3.0\n",
      "1.0 4.0 2.0\n",
      "0.0 0.0 8.0\n",
      "0.0 0.0 8.0\n",
      "0.0 0.0 8.0\n",
      "0.0 0.0 8.0\n",
      "0.0 0.0 8.0\n",
      "0.0 0.0 8.0\n",
      "0.0 0.0 8.0\n",
      "0.0 0.0 8.0\n",
      "1.0 2.0 1.0\n",
      "0.0 0.0 8.0\n",
      "0.0 0.0 8.0\n",
      "0.0 0.0 8.0\n",
      "0.0 0.0 8.0\n",
      "0.0 0.0 8.0\n",
      "1.0 1.0 0.0\n",
      "3.0 12.0 5.0\n",
      "2.0 8.0 4.0\n",
      "2.0 6.0 3.0\n",
      "1.0 1.0 2.0\n",
      "1.0 1.0 3.0\n",
      "1.0 2.0 1.0\n",
      "0.0 0.0 8.0\n",
      "0.0 0.0 8.0\n",
      "1.0 1.0 0.0\n",
      "0.0 0.0 8.0\n",
      "1.0 3.0 1.0\n",
      "0.0 0.0 8.0\n",
      "3.0 12.0 5.0\n",
      "0.0 0.0 8.0\n",
      "0.0 0.0 8.0\n",
      "1.0 1.0 3.0\n",
      "1.0 1.0 3.0\n",
      "2.0 8.0 2.0\n",
      "1.0 2.0 3.0\n",
      "2.0 8.0 3.0\n",
      "2.0 4.0 3.0\n",
      "1.0 2.0 1.0\n",
      "2.0 8.0 2.0\n",
      "2.0 4.0 2.0\n",
      "3.0 12.0 2.0\n",
      "3.0 6.0 5.0\n",
      "2.0 6.0 3.0\n",
      "0.0 0.0 8.0\n",
      "0.0 0.0 8.0\n",
      "1.0 1.0 0.0\n",
      "1.0 2.0 1.0\n",
      "1.0 2.0 1.0\n",
      "0.0 0.0 8.0\n",
      "1.0 2.0 9.0\n",
      "0.0 0.0 8.0\n",
      "1.0 1.0 3.0\n",
      "0.0 0.0 8.0\n",
      "0.0 0.0 8.0\n",
      "1.0 1.0 2.0\n",
      "0.0 0.0 8.0\n",
      "1.0 1.0 2.0\n",
      "0.0 0.0 8.0\n",
      "0.0 0.0 8.0\n",
      "0.0 0.0 8.0\n",
      "0.0 0.0 8.0\n",
      "0.0 0.0 8.0\n",
      "0.0 0.0 8.0\n",
      "0.0 0.0 8.0\n",
      "0.0 0.0 8.0\n",
      "0.0 0.0 8.0\n",
      "0.0 0.0 8.0\n",
      "0.0 0.0 8.0\n",
      "0.0 0.0 8.0\n",
      "0.0 0.0 8.0\n",
      "1.0 1.0 3.0\n",
      "2.0 4.0 2.0\n",
      "2.0 4.0 4.0\n",
      "0.0 0.0 8.0\n",
      "0.0 0.0 8.0\n",
      "0.0 0.0 8.0\n",
      "2.0 8.0 2.0\n",
      "0.0 0.0 8.0\n",
      "1.0 1.0 2.0\n",
      "0.0 0.0 8.0\n",
      "0.0 0.0 8.0\n",
      "1.0 2.0 1.0\n",
      "1.0 1.0 0.0\n",
      "1.0 2.0 1.0\n",
      "0.0 0.0 8.0\n",
      "1.0 1.0 0.0\n",
      "3.0 12.0 3.0\n",
      "1.0 4.0 2.0\n",
      "1.0 4.0 2.0\n",
      "1.0 3.0 1.0\n",
      "1.0 1.0 2.0\n",
      "0.0 0.0 8.0\n",
      "0.0 0.0 8.0\n",
      "0.0 0.0 8.0\n",
      "0.0 0.0 8.0\n",
      "0.0 0.0 8.0\n",
      "1.0 1.0 2.0\n",
      "2.0 2.0 2.0\n",
      "1.0 1.0 2.0\n",
      "0.0 0.0 8.0\n",
      "1.0 1.0 0.0\n",
      "1.0 3.0 9.0\n",
      "0.0 0.0 8.0\n",
      "0.0 0.0 8.0\n",
      "1.0 2.0 1.0\n",
      "1.0 1.0 0.0\n",
      "0.0 0.0 8.0\n",
      "1.0 1.0 3.0\n",
      "1.0 1.0 4.0\n",
      "1.0 3.0 1.0\n",
      "0.0 0.0 8.0\n",
      "0.0 0.0 8.0\n",
      "0.0 0.0 8.0\n",
      "1.0 2.0 1.0\n",
      "1.0 2.0 1.0\n",
      "1.0 3.0 0.0\n",
      "3.0 3.0 5.0\n",
      "0.0 0.0 8.0\n",
      "0.0 0.0 8.0\n",
      "0.0 0.0 8.0\n",
      "1.0 2.0 1.0\n",
      "0.0 0.0 8.0\n",
      "2.0 8.0 9.0\n",
      "1.0 4.0 3.0\n",
      "0.0 0.0 8.0\n",
      "0.0 0.0 8.0\n",
      "0.0 0.0 8.0\n",
      "0.0 0.0 8.0\n",
      "2.0 6.0 3.0\n",
      "1.0 4.0 3.0\n",
      "0.0 0.0 8.0\n",
      "0.0 0.0 8.0\n",
      "0.0 0.0 8.0\n",
      "1.0 2.0 1.0\n",
      "2.0 6.0 3.0\n",
      "1.0 2.0 3.0\n",
      "0.0 0.0 8.0\n",
      "3.0 9.0 3.0\n",
      "0.0 0.0 8.0\n",
      "0.0 0.0 8.0\n",
      "1.0 3.0 0.0\n",
      "1.0 1.0 0.0\n",
      "1.0 1.0 0.0\n",
      "1.0 1.0 0.0\n",
      "0.0 0.0 8.0\n",
      "0.0 0.0 8.0\n",
      "1.0 2.0 3.0\n",
      "0.0 0.0 8.0\n",
      "0.0 0.0 8.0\n",
      "0.0 0.0 8.0\n",
      "2.0 6.0 3.0\n",
      "1.0 3.0 1.0\n",
      "1.0 3.0 1.0\n",
      "0.0 0.0 8.0\n",
      "1.0 3.0 2.0\n",
      "0.0 0.0 8.0\n",
      "1.0 3.0 1.0\n",
      "1.0 3.0 1.0\n",
      "1.0 1.0 2.0\n",
      "2.0 6.0 2.0\n",
      "0.0 0.0 8.0\n",
      "0.0 0.0 8.0\n",
      "0.0 0.0 8.0\n",
      "0.0 0.0 8.0\n",
      "0.0 0.0 8.0\n",
      "2.0 8.0 3.0\n",
      "1.0 2.0 3.0\n",
      "1.0 3.0 0.0\n",
      "0.0 0.0 8.0\n",
      "1.0 1.0 2.0\n",
      "1.0 1.0 3.0\n",
      "1.0 3.0 2.0\n",
      "0.0 0.0 8.0\n",
      "0.0 0.0 8.0\n",
      "0.0 0.0 8.0\n",
      "2.0 6.0 3.0\n",
      "2.0 4.0 3.0\n",
      "1.0 2.0 1.0\n",
      "2.0 6.0 2.0\n",
      "1.0 2.0 3.0\n",
      "2.0 6.0 4.0\n",
      "1.0 3.0 4.0\n",
      "2.0 4.0 5.0\n",
      "0.0 0.0 8.0\n",
      "0.0 0.0 8.0\n",
      "1.0 4.0 2.0\n",
      "1.0 3.0 2.0\n",
      "3.0 12.0 8.0\n",
      "0.0 0.0 8.0\n",
      "2.0 8.0 3.0\n",
      "2.0 4.0 3.0\n",
      "1.0 1.0 3.0\n",
      "0.0 0.0 8.0\n",
      "1.0 1.0 3.0\n",
      "1.0 1.0 0.0\n",
      "0.0 0.0 8.0\n",
      "0.0 0.0 8.0\n",
      "1.0 1.0 2.0\n",
      "1.0 1.0 0.0\n",
      "1.0 1.0 0.0\n",
      "1.0 4.0 3.0\n",
      "2.0 4.0 2.0\n",
      "2.0 6.0 3.0\n",
      "2.0 4.0 4.0\n",
      "3.0 3.0 4.0\n",
      "2.0 8.0 4.0\n",
      "0.0 0.0 8.0\n",
      "0.0 0.0 8.0\n",
      "0.0 0.0 8.0\n",
      "0.0 0.0 8.0\n",
      "2.0 6.0 2.0\n",
      "1.0 1.0 2.0\n",
      "2.0 8.0 3.0\n",
      "1.0 3.0 2.0\n",
      "1.0 2.0 3.0\n",
      "1.0 1.0 3.0\n",
      "0.0 0.0 8.0\n",
      "0.0 0.0 8.0\n",
      "1.0 1.0 2.0\n",
      "1.0 1.0 2.0\n",
      "0.0 0.0 8.0\n",
      "2.0 8.0 2.0\n",
      "2.0 6.0 2.0\n",
      "2.0 4.0 2.0\n",
      "2.0 8.0 4.0\n",
      "2.0 4.0 4.0\n",
      "1.0 2.0 1.0\n",
      "0.0 0.0 8.0\n",
      "0.0 0.0 8.0\n",
      "0.0 0.0 8.0\n",
      "1.0 4.0 0.0\n",
      "0.0 0.0 8.0\n",
      "0.0 0.0 8.0\n",
      "2.0 6.0 3.0\n",
      "2.0 6.0 3.0\n",
      "2.0 6.0 3.0\n",
      "1.0 3.0 1.0\n",
      "2.0 6.0 2.0\n",
      "0.0 0.0 8.0\n",
      "1.0 4.0 3.0\n",
      "0.0 0.0 8.0\n",
      "0.0 0.0 8.0\n",
      "0.0 0.0 8.0\n",
      "0.0 0.0 8.0\n"
     ]
    }
   ],
   "source": [
    "for i, j, k in data[columns].dropna().values:\n",
    "    if(i*j != k):\n",
    "        print(i, j, k)"
   ]
  },
  {
   "cell_type": "code",
   "execution_count": null,
   "metadata": {},
   "outputs": [],
   "source": []
  },
  {
   "cell_type": "code",
   "execution_count": 25,
   "metadata": {},
   "outputs": [
    {
     "data": {
      "text/plain": [
       "Index(['PHYSICAL EXAM 213-234: (230) SKULL XRAY OR SPECT SCAN',\n",
       "       'PHYSICAL EXAM 213-234: (232) CT OR MRI SCAN',\n",
       "       'SPECT SCAN: SPECT SCAN DONE / NOT DONE',\n",
       "       'SPECT SCAN: SPECT SCAN: DATE', 'SPECT SCAN: SPECT SCAN: TIME',\n",
       "       'SPECT SCAN: SPECT SCAN: SCAN NUMBER', 'SPECT SCAN: INJECTION',\n",
       "       'SPECT SCAN: INJECTION: METHOD', 'SPECT SCAN: SEDATION',\n",
       "       'SPECT SCAN: SEDATION: REVERSAL',\n",
       "       'SPECT SCAN: SEDATION: DRUGS USED AND AMOUNT',\n",
       "       'SPECT SCAN: OUTCOME OF SCAN', 'SPECT SCAN: PARIETO-OCCIPITAL DEFECT',\n",
       "       'SPECT SCAN: PARIETO-OCCIPITAL DEFECT: LEFT GRADE',\n",
       "       'SPECT SCAN: PARIETO-OCCIPITAL DEFECT: RIGHT GRADE',\n",
       "       'SPECT SCAN: FRONTAL DEFECT', 'SPECT SCAN: FRONTAL DEFECT: LEFT GRADE',\n",
       "       'SPECT SCAN: FRONTAL DEFECT: MIDDLE GRADE',\n",
       "       'SPECT SCAN: FRONTAL DEFECT: RIGHT GRADE', 'SPECT SCAN: CENTRAL DEFECT',\n",
       "       'SPECT SCAN: CENTRAL DEFECT: GRADE',\n",
       "       'SPECT SCAN: DIAGNOSTIC ASSESSMENT',\n",
       "       'SPECT SCAN: DIAGNOSTIC ASSESSMENT: TEXT', 'SPECT SCAN: COMMENTS',\n",
       "       'SPECT SCAN: COMMENTS: TEXT',\n",
       "       'CT SCAN ASSESSMENT: CT SCAN DONE / NOT DONE',\n",
       "       'CT SCAN ASSESSMENT: DATE OF SCAN', 'CT SCAN ASSESSMENT: SCAN NUMBER',\n",
       "       'CT SCAN ASSESSMENT: CT SCAN MEASURED BY: DATE MEASURED',\n",
       "       'CT SCAN ASSESSMENT: CT SCAN MEASURED BY: SCAN FRAME NUMBER',\n",
       "       'CT SCAN ASSESSMENT: CT SCAN MEASURED BY: RIGHT SCAN FRAME NUMBER',\n",
       "       'CT SCAN ASSESSMENT: CT SCAN MEASURED BY: ORIENTATION',\n",
       "       'CT SCAN ASSESSMENT: GENERAL ATROPHY',\n",
       "       'CT SCAN ASSESSMENT: LEFT FRONTAL ATROPHY',\n",
       "       'CT SCAN ASSESSMENT: RIGHT FRONTAL ATROPHY',\n",
       "       'CT SCAN ASSESSMENT: LEFT MEDIAL TEMPORAL ATROPHY',\n",
       "       'CT SCAN ASSESSMENT: RIGHT MEDIAL TEMPORAL ATROPHY',\n",
       "       'CT SCAN ASSESSMENT: LEFT LATERAL TEMPORAL ATROPHY',\n",
       "       'CT SCAN ASSESSMENT: RIGHT LATERAL TEMPORAL ATROPHY',\n",
       "       'CT SCAN ASSESSMENT: LEFT PARIETAL ATROPHY',\n",
       "       'CT SCAN ASSESSMENT: RIGHT PARIETAL ATROPHY',\n",
       "       'CT SCAN ASSESSMENT: LEFT OCCIPITAL ATROPHY',\n",
       "       'CT SCAN ASSESSMENT: RIGHT OCCIPITAL ATROPHY',\n",
       "       'CT SCAN ASSESSMENT: CEREBRAL INFARCT',\n",
       "       'CT SCAN ASSESSMENT: WHITE MATTER LOW DENSITY',\n",
       "       'CT SCAN ASSESSMENT: CAROTID VESSELS',\n",
       "       'CT SCAN ASSESSMENT: VERTEBRAL (BASILAR) VESSELS',\n",
       "       'CT SCAN ASSESSMENT: ANTERIOR INTERHEMISPHERIC FISS',\n",
       "       'CT SCAN ASSESSMENT: R. SYLVIAN REL INTERHEMI. FISS',\n",
       "       'CT SCAN ASSESSMENT: L. SYLVIAN REL INTERHEMI. FISS',\n",
       "       'CT SCAN ASSESSMENT: RIGHT CHOROIDAL ABSOLUTE',\n",
       "       'CT SCAN ASSESSMENT: LEFT CHOROIDAL ABSOLUTE',\n",
       "       'CT SCAN ASSESSMENT: RIGHT MED. TEMP. LOBE ANT.',\n",
       "       'CT SCAN ASSESSMENT: RIGHT MED. TEMP. LOBE MID.',\n",
       "       'CT SCAN ASSESSMENT: RIGHT MED. TEMP. LOBE POST.',\n",
       "       'CT SCAN ASSESSMENT: MIN. RIGHT MED. TEMP. LOBE (X)',\n",
       "       'CT SCAN ASSESSMENT: I.R.',\n",
       "       'CT SCAN ASSESSMENT: R LATERAL TEMPORAL LOBE (B)',\n",
       "       'CT SCAN ASSESSMENT: RIGHT TEMPORAL LOBE SIZE (C)',\n",
       "       'CT SCAN ASSESSMENT: LEFT MED. TEMP. LOBE ANT.',\n",
       "       'CT SCAN ASSESSMENT: LEFT MED. TEMP. LOBE MID.',\n",
       "       'CT SCAN ASSESSMENT: LEFT MED. TEMP. LOBE POST.',\n",
       "       'CT SCAN ASSESSMENT: MIN. LEFT MEDIAL TEMP LOBE (Y)',\n",
       "       'CT SCAN ASSESSMENT: LEFT LAT TEMP LOBE SIZE (E)',\n",
       "       'CT SCAN ASSESSMENT: LEFT TEMPORAL LOBE SIZE (F)',\n",
       "       'CT SCAN ASSESSMENT: INTERFRONTAL HORN (G)',\n",
       "       'CT SCAN ASSESSMENT: RIGHT HEMICRANIAL WIDTH (M)',\n",
       "       'CT SCAN ASSESSMENT: LEFT HEMICRANIAL WIDTH (N)',\n",
       "       'CT SCAN ASSESSMENT: COMMENTS', 'CT SCAN ASSESSMENT: COMMENTS: TEXT',\n",
       "       'MRI SCAN REPORT: MRI EXAMINATION DATE',\n",
       "       'MRI SCAN REPORT: EVENT NUMBER', 'MRI SCAN REPORT: MRI FINDINGS'],\n",
       "      dtype='object')"
      ]
     },
     "execution_count": 25,
     "metadata": {},
     "output_type": "execute_result"
    }
   ],
   "source": [
    "col_name('scan')"
   ]
  },
  {
   "cell_type": "code",
   "execution_count": null,
   "metadata": {},
   "outputs": [],
   "source": []
  },
  {
   "cell_type": "code",
   "execution_count": null,
   "metadata": {},
   "outputs": [],
   "source": []
  },
  {
   "cell_type": "markdown",
   "metadata": {},
   "source": [
    "## Petersen_MCI"
   ]
  },
  {
   "cell_type": "code",
   "execution_count": 10,
   "metadata": {},
   "outputs": [],
   "source": [
    "petersen_mci, petersen_mci_type = col_name(\"petersen\")"
   ]
  },
  {
   "cell_type": "code",
   "execution_count": 11,
   "metadata": {},
   "outputs": [
    {
     "data": {
      "text/plain": [
       "('OPTIMA DIAGNOSES V 2010: PETERSEN MCI',\n",
       " 'OPTIMA DIAGNOSES V 2010: PETERSEN MCI TYPE')"
      ]
     },
     "execution_count": 11,
     "metadata": {},
     "output_type": "execute_result"
    }
   ],
   "source": [
    "petersen_mci, petersen_mci_type"
   ]
  },
  {
   "cell_type": "code",
   "execution_count": null,
   "metadata": {},
   "outputs": [],
   "source": []
  },
  {
   "cell_type": "code",
   "execution_count": 12,
   "metadata": {},
   "outputs": [],
   "source": [
    "cdr_score = col_name(\"cdr\")[1]"
   ]
  },
  {
   "cell_type": "code",
   "execution_count": 13,
   "metadata": {},
   "outputs": [
    {
     "data": {
      "text/plain": [
       "'CLINICAL DEMENTIA RATING: OVERALL CDR SCORE'"
      ]
     },
     "execution_count": 13,
     "metadata": {},
     "output_type": "execute_result"
    }
   ],
   "source": [
    "cdr_score"
   ]
  },
  {
   "cell_type": "code",
   "execution_count": null,
   "metadata": {},
   "outputs": [],
   "source": []
  },
  {
   "cell_type": "code",
   "execution_count": 14,
   "metadata": {},
   "outputs": [
    {
     "name": "stdout",
     "output_type": "stream",
     "text": [
      "null: (774, 1593)\n",
      "not asked: (5696, 1593)\n",
      "not known: (5, 1593)\n"
     ]
    }
   ],
   "source": [
    "_, _, petersen_data = get_missing_datasets(petersen_mci)"
   ]
  },
  {
   "cell_type": "code",
   "execution_count": 15,
   "metadata": {},
   "outputs": [
    {
     "data": {
      "text/plain": [
       "(6475, 1593)"
      ]
     },
     "execution_count": 15,
     "metadata": {},
     "output_type": "execute_result"
    }
   ],
   "source": [
    "petersen_data.shape"
   ]
  },
  {
   "cell_type": "markdown",
   "metadata": {},
   "source": [
    "### Petersen | Extraction"
   ]
  },
  {
   "cell_type": "code",
   "execution_count": 16,
   "metadata": {},
   "outputs": [],
   "source": [
    "# scan_unique(petersen_data, cdr_score) #cdr score not in range"
   ]
  },
  {
   "cell_type": "code",
   "execution_count": 17,
   "metadata": {},
   "outputs": [],
   "source": [
    "# scan_unique(petersen_data, petersen_mci_type)"
   ]
  },
  {
   "cell_type": "code",
   "execution_count": null,
   "metadata": {},
   "outputs": [],
   "source": []
  },
  {
   "cell_type": "code",
   "execution_count": 18,
   "metadata": {},
   "outputs": [
    {
     "name": "stdout",
     "output_type": "stream",
     "text": [
      "19\n"
     ]
    }
   ],
   "source": [
    "p_0, _ = extract_values(petersen_data, cdr_score, [1, 2])"
   ]
  },
  {
   "cell_type": "code",
   "execution_count": 19,
   "metadata": {},
   "outputs": [
    {
     "name": "stdout",
     "output_type": "stream",
     "text": [
      "0\n"
     ]
    }
   ],
   "source": [
    "p_1, _ = extract_values(petersen_data, petersen_mci_type, [1, 2, 3, 4])"
   ]
  },
  {
   "cell_type": "code",
   "execution_count": null,
   "metadata": {},
   "outputs": [],
   "source": []
  },
  {
   "cell_type": "code",
   "execution_count": 20,
   "metadata": {},
   "outputs": [],
   "source": [
    "petersen_update = p_0 | p_1"
   ]
  },
  {
   "cell_type": "code",
   "execution_count": null,
   "metadata": {},
   "outputs": [],
   "source": []
  },
  {
   "cell_type": "code",
   "execution_count": 21,
   "metadata": {},
   "outputs": [
    {
     "name": "stdout",
     "output_type": "stream",
     "text": [
      "9\n"
     ]
    }
   ],
   "source": [
    "no_petersen_update, _ = extract_values(petersen_data, cdr_score, [0])"
   ]
  },
  {
   "cell_type": "code",
   "execution_count": null,
   "metadata": {},
   "outputs": [],
   "source": []
  },
  {
   "cell_type": "code",
   "execution_count": 22,
   "metadata": {},
   "outputs": [
    {
     "data": {
      "text/plain": [
       "(19, 9)"
      ]
     },
     "execution_count": 22,
     "metadata": {},
     "output_type": "execute_result"
    }
   ],
   "source": [
    "len(petersen_update), len(no_petersen_update)"
   ]
  },
  {
   "cell_type": "code",
   "execution_count": null,
   "metadata": {},
   "outputs": [],
   "source": []
  },
  {
   "cell_type": "code",
   "execution_count": 23,
   "metadata": {},
   "outputs": [
    {
     "data": {
      "text/plain": [
       "Counter({9.0: 26, nan: 1, nan: 1})"
      ]
     },
     "execution_count": 23,
     "metadata": {},
     "output_type": "execute_result"
    }
   ],
   "source": [
    "Counter(data.loc[petersen_update | no_petersen_update, petersen_mci])"
   ]
  },
  {
   "cell_type": "code",
   "execution_count": 24,
   "metadata": {},
   "outputs": [],
   "source": [
    "data.loc[no_petersen_update, petersen_mci] = 0"
   ]
  },
  {
   "cell_type": "code",
   "execution_count": 25,
   "metadata": {},
   "outputs": [],
   "source": [
    "data.loc[petersen_update, petersen_mci] = 1"
   ]
  },
  {
   "cell_type": "code",
   "execution_count": 26,
   "metadata": {},
   "outputs": [
    {
     "data": {
      "text/plain": [
       "Counter({1.0: 19, 0.0: 9})"
      ]
     },
     "execution_count": 26,
     "metadata": {},
     "output_type": "execute_result"
    }
   ],
   "source": [
    "Counter(data.loc[petersen_update | no_petersen_update, petersen_mci])"
   ]
  },
  {
   "cell_type": "markdown",
   "metadata": {},
   "source": [
    "## DEPRESSIVE_ILLNESS"
   ]
  },
  {
   "cell_type": "markdown",
   "metadata": {},
   "source": [
    "#### To be confirmed:\n",
    "- \"PRESENT STATE 13-46: (038) REASON FOR DEPRESSION\" Values to consider\n",
    "- \"PRESENT STATE 13-46: (037) DURATION OF DEPRESSION\" Values to Consider\n",
    "- \"CAMDEX SCORES: DEPRESSION SCALE\" Numeric Value\n",
    "- \"CAMDEX SCORES: GERIATRIC DEPRESSION SCORE\" Numeric Value\n",
    "- \"NPI: DEPRESSION/DYSPHORIA: F X S\" Numeric Value"
   ]
  },
  {
   "cell_type": "code",
   "execution_count": 27,
   "metadata": {},
   "outputs": [
    {
     "data": {
      "text/plain": [
       "Index(['CAMDEX ADMINISTRATION 1-12: EST OF SEVERITY OF DEPRESSION',\n",
       "       'PRESENT STATE 13-46: (036) FEELING DEPRESSED',\n",
       "       'PRESENT STATE 13-46: (037) DURATION OF DEPRESSION',\n",
       "       'PRESENT STATE 13-46: (038) REASON FOR DEPRESSION',\n",
       "       'PRESENT STATE 13-46: (038) REASON FOR DEPRESSION: TEXT',\n",
       "       'INTERVIEWER OBS 188-212: (196) DEPRESSED MOOD',\n",
       "       'DIAGNOSIS 334-351: DEPRESSIVE ILLNESS',\n",
       "       'DIAGNOSIS 334-351: SEVERITY OF DEPRESSION',\n",
       "       'CAMDEX SCORES: DEPRESSION SCALE',\n",
       "       'CAMDEX SCORES: GERIATRIC DEPRESSION SCORE',\n",
       "       'MEDICAL ASSESSMENT V 2010: DEPRESSION',\n",
       "       'MEDICAL ASSESSMENT V 2010: DEPRESSION TREATED BY DOCTOR',\n",
       "       'HACHINSKI ISCHAEMIC: DEPRESSIVE SYMPTOMATOLOGY',\n",
       "       'NPI: DEPRESSION/DYSPHORIA: FREQUENCY',\n",
       "       'NPI: DEPRESSION/DYSPHORIA: SEVERITY',\n",
       "       'NPI: DEPRESSION/DYSPHORIA: F X S',\n",
       "       'NPI: DEPRESSION/DYSPHORIA: DISTRESS'],\n",
       "      dtype='object')"
      ]
     },
     "execution_count": 27,
     "metadata": {},
     "output_type": "execute_result"
    }
   ],
   "source": [
    "col_name(\"depress\")"
   ]
  },
  {
   "cell_type": "code",
   "execution_count": 28,
   "metadata": {},
   "outputs": [],
   "source": [
    "depressive_illness = 'DIAGNOSIS 334-351: DEPRESSIVE ILLNESS'"
   ]
  },
  {
   "cell_type": "code",
   "execution_count": null,
   "metadata": {},
   "outputs": [],
   "source": []
  },
  {
   "cell_type": "code",
   "execution_count": 29,
   "metadata": {},
   "outputs": [],
   "source": [
    "depression_columns = [['CAMDEX ADMINISTRATION 1-12: EST OF SEVERITY OF DEPRESSION', [1, 2, 3, 4]],\n",
    "                      ['PRESENT STATE 13-46: (036) FEELING DEPRESSED', [1, 2]],\n",
    "                      ['INTERVIEWER OBS 188-212: (196) DEPRESSED MOOD', [1]],\n",
    "                      ['DIAGNOSIS 334-351: SEVERITY OF DEPRESSION', [1, 2, 3, 4]],\n",
    "                      ['MEDICAL ASSESSMENT V 2010: DEPRESSION', [1]],\n",
    "                      ['MEDICAL ASSESSMENT V 2010: DEPRESSION TREATED BY DOCTOR', [1]],\n",
    "                      ['HACHINSKI ISCHAEMIC: DEPRESSIVE SYMPTOMATOLOGY', [1]],\n",
    "                      ['NPI: DEPRESSION/DYSPHORIA: FREQUENCY', [1, 2, 3, 4]],\n",
    "                      ['NPI: DEPRESSION/DYSPHORIA: SEVERITY', [1, 2, 3]],\n",
    "                      ['NPI: DEPRESSION/DYSPHORIA: DISTRESS', [1, 2, 3, 4, 5]],\n",
    "                      ['SPECT SCAN: DIAGNOSTIC ASSESSMENT', [8]]]"
   ]
  },
  {
   "cell_type": "code",
   "execution_count": 30,
   "metadata": {},
   "outputs": [],
   "source": [
    "for t in current_treatment:\n",
    "    depression_columns.append([t, [80]])"
   ]
  },
  {
   "cell_type": "code",
   "execution_count": null,
   "metadata": {},
   "outputs": [],
   "source": []
  },
  {
   "cell_type": "code",
   "execution_count": 31,
   "metadata": {},
   "outputs": [],
   "source": [
    "no_depression_columns = [['CAMDEX ADMINISTRATION 1-12: EST OF SEVERITY OF DEPRESSION', [0]],\n",
    "                      ['PRESENT STATE 13-46: (036) FEELING DEPRESSED', [0]],\n",
    "                      ['INTERVIEWER OBS 188-212: (196) DEPRESSED MOOD', [0]],\n",
    "                      ['DIAGNOSIS 334-351: SEVERITY OF DEPRESSION', [0]],\n",
    "                      ['MEDICAL ASSESSMENT V 2010: DEPRESSION', [0]],\n",
    "                      ['MEDICAL ASSESSMENT V 2010: DEPRESSION TREATED BY DOCTOR', [0]],\n",
    "                      ['HACHINSKI ISCHAEMIC: DEPRESSIVE SYMPTOMATOLOGY', [0]],\n",
    "                      ['NPI: DEPRESSION/DYSPHORIA: FREQUENCY', [0]],\n",
    "                      ['NPI: DEPRESSION/DYSPHORIA: SEVERITY', [0]],\n",
    "                      ['NPI: DEPRESSION/DYSPHORIA: DISTRESS', [0]]]"
   ]
  },
  {
   "cell_type": "code",
   "execution_count": null,
   "metadata": {},
   "outputs": [],
   "source": []
  },
  {
   "cell_type": "code",
   "execution_count": 32,
   "metadata": {},
   "outputs": [
    {
     "name": "stdout",
     "output_type": "stream",
     "text": [
      "null: (5553, 1593)\n",
      "not asked: (3975, 1593)\n",
      "not known: (0, 1593)\n"
     ]
    }
   ],
   "source": [
    "_, _, depressive_illness_data = get_missing_datasets(depressive_illness)"
   ]
  },
  {
   "cell_type": "code",
   "execution_count": 33,
   "metadata": {},
   "outputs": [
    {
     "data": {
      "text/plain": [
       "(9528, 1593)"
      ]
     },
     "execution_count": 33,
     "metadata": {},
     "output_type": "execute_result"
    }
   ],
   "source": [
    "depressive_illness_data.shape"
   ]
  },
  {
   "cell_type": "markdown",
   "metadata": {},
   "source": [
    "### Depressive Illness | Extraction"
   ]
  },
  {
   "cell_type": "code",
   "execution_count": 34,
   "metadata": {},
   "outputs": [],
   "source": [
    "dil_update = set()"
   ]
  },
  {
   "cell_type": "code",
   "execution_count": 35,
   "metadata": {
    "scrolled": true
   },
   "outputs": [
    {
     "name": "stdout",
     "output_type": "stream",
     "text": [
      "column: CAMDEX ADMINISTRATION 1-12: EST OF SEVERITY OF DEPRESSION\n",
      "1279\n",
      "column: PRESENT STATE 13-46: (036) FEELING DEPRESSED\n",
      "1190\n",
      "column: INTERVIEWER OBS 188-212: (196) DEPRESSED MOOD\n",
      "451\n",
      "column: DIAGNOSIS 334-351: SEVERITY OF DEPRESSION\n",
      "571\n",
      "column: MEDICAL ASSESSMENT V 2010: DEPRESSION\n",
      "72\n",
      "column: MEDICAL ASSESSMENT V 2010: DEPRESSION TREATED BY DOCTOR\n",
      "71\n",
      "column: HACHINSKI ISCHAEMIC: DEPRESSIVE SYMPTOMATOLOGY\n",
      "33\n",
      "column: NPI: DEPRESSION/DYSPHORIA: FREQUENCY\n",
      "396\n",
      "column: NPI: DEPRESSION/DYSPHORIA: SEVERITY\n",
      "338\n",
      "column: NPI: DEPRESSION/DYSPHORIA: DISTRESS\n",
      "346\n",
      "column: SPECT SCAN: DIAGNOSTIC ASSESSMENT\n",
      "7\n",
      "column: CURRENT MEDICATION: TREATMENT 1\n",
      "309\n",
      "column: CURRENT MEDICATION: TREATMENT 2\n",
      "180\n",
      "column: CURRENT MEDICATION: TREATMENT 3\n",
      "109\n",
      "column: CURRENT MEDICATION: TREATMENT 4\n",
      "75\n",
      "column: CURRENT MEDICATION: TREATMENT 5\n",
      "47\n",
      "column: CURRENT MEDICATION: TREATMENT 6\n",
      "24\n",
      "column: CURRENT MEDICATION: TREATMENT 7\n",
      "15\n",
      "column: CURRENT MEDICATION: TREATMENT 8\n",
      "9\n",
      "column: CURRENT MEDICATION: TREATMENT 9\n",
      "2\n",
      "column: CURRENT MEDICATION: TREATMENT 10\n",
      "0\n",
      "column: CURRENT MEDICATION: TREATMENT 11\n",
      "1\n",
      "column: CURRENT MEDICATION: TREATMENT 12\n",
      "2\n",
      "column: CURRENT MEDICATION: TREATMENT 13\n",
      "0\n",
      "column: CURRENT MEDICATION: TREATMENT 14\n",
      "0\n",
      "column: CURRENT MEDICATION: TREATMENT 15\n",
      "0\n",
      "column: CURRENT MEDICATION: TREATMENT 16\n",
      "0\n",
      "column: CURRENT MEDICATION: TREATMENT 17\n",
      "0\n",
      "column: CURRENT MEDICATION: TREATMENT 18\n",
      "0\n",
      "column: CURRENT MEDICATION: TREATMENT 19\n",
      "0\n",
      "column: CURRENT MEDICATION: TREATMENT 20\n",
      "0\n"
     ]
    }
   ],
   "source": [
    "for idx, a in enumerate(depression_columns):\n",
    "    print(\"column:\", a[0])\n",
    "    dil_update |= extract_values(depressive_illness_data, a[0], a[1])[0]"
   ]
  },
  {
   "cell_type": "code",
   "execution_count": 36,
   "metadata": {},
   "outputs": [],
   "source": [
    "no_dil_update = set()"
   ]
  },
  {
   "cell_type": "code",
   "execution_count": 37,
   "metadata": {},
   "outputs": [
    {
     "name": "stdout",
     "output_type": "stream",
     "text": [
      "column: CAMDEX ADMINISTRATION 1-12: EST OF SEVERITY OF DEPRESSION\n",
      "3271\n",
      "column: PRESENT STATE 13-46: (036) FEELING DEPRESSED\n",
      "2236\n",
      "column: INTERVIEWER OBS 188-212: (196) DEPRESSED MOOD\n",
      "4238\n",
      "column: DIAGNOSIS 334-351: SEVERITY OF DEPRESSION\n",
      "1174\n",
      "column: MEDICAL ASSESSMENT V 2010: DEPRESSION\n",
      "277\n",
      "column: MEDICAL ASSESSMENT V 2010: DEPRESSION TREATED BY DOCTOR\n",
      "309\n",
      "column: HACHINSKI ISCHAEMIC: DEPRESSIVE SYMPTOMATOLOGY\n",
      "134\n",
      "column: NPI: DEPRESSION/DYSPHORIA: FREQUENCY\n",
      "751\n",
      "column: NPI: DEPRESSION/DYSPHORIA: SEVERITY\n",
      "751\n",
      "column: NPI: DEPRESSION/DYSPHORIA: DISTRESS\n",
      "668\n"
     ]
    }
   ],
   "source": [
    "for idx, a in enumerate(no_depression_columns):\n",
    "    print(\"column:\", a[0])\n",
    "    no_dil_update |= extract_values(depressive_illness_data, a[0], a[1])[0]"
   ]
  },
  {
   "cell_type": "code",
   "execution_count": 38,
   "metadata": {
    "scrolled": true
   },
   "outputs": [
    {
     "data": {
      "text/plain": [
       "(2903, 5461)"
      ]
     },
     "execution_count": 38,
     "metadata": {},
     "output_type": "execute_result"
    }
   ],
   "source": [
    "len(dil_update), len(no_dil_update)"
   ]
  },
  {
   "cell_type": "code",
   "execution_count": 39,
   "metadata": {},
   "outputs": [
    {
     "data": {
      "text/plain": [
       "Counter({9: 3716, nan: 2477})"
      ]
     },
     "execution_count": 39,
     "metadata": {},
     "output_type": "execute_result"
    }
   ],
   "source": [
    "Counter(data.loc[dil_update | no_dil_update, depressive_illness])"
   ]
  },
  {
   "cell_type": "code",
   "execution_count": 40,
   "metadata": {},
   "outputs": [],
   "source": [
    "data.loc[no_dil_update, depressive_illness] = 0"
   ]
  },
  {
   "cell_type": "code",
   "execution_count": 41,
   "metadata": {},
   "outputs": [],
   "source": [
    "data.loc[dil_update, depressive_illness] = 1"
   ]
  },
  {
   "cell_type": "code",
   "execution_count": 42,
   "metadata": {},
   "outputs": [
    {
     "data": {
      "text/plain": [
       "Counter({0: 3290, 1: 2903})"
      ]
     },
     "execution_count": 42,
     "metadata": {},
     "output_type": "execute_result"
    }
   ],
   "source": [
    "Counter(data.loc[dil_update | no_dil_update, depressive_illness])"
   ]
  },
  {
   "cell_type": "code",
   "execution_count": 43,
   "metadata": {},
   "outputs": [
    {
     "data": {
      "text/plain": [
       "6193"
      ]
     },
     "execution_count": 43,
     "metadata": {},
     "output_type": "execute_result"
    }
   ],
   "source": [
    "len(dil_update | no_dil_update)"
   ]
  },
  {
   "cell_type": "markdown",
   "metadata": {},
   "source": [
    "## CERBRO-VASCULAR_DISEASE_PRESENT"
   ]
  },
  {
   "cell_type": "code",
   "execution_count": 44,
   "metadata": {},
   "outputs": [],
   "source": [
    "cerbro_vascular = col_name(\"cerbro\")[0]"
   ]
  },
  {
   "cell_type": "code",
   "execution_count": 45,
   "metadata": {},
   "outputs": [
    {
     "data": {
      "text/plain": [
       "'OPTIMA DIAGNOSES V 2010: CERBRO-VASCULAR DISEASE PRESENT'"
      ]
     },
     "execution_count": 45,
     "metadata": {},
     "output_type": "execute_result"
    }
   ],
   "source": [
    "cerbro_vascular"
   ]
  },
  {
   "cell_type": "code",
   "execution_count": null,
   "metadata": {},
   "outputs": [],
   "source": []
  },
  {
   "cell_type": "code",
   "execution_count": 46,
   "metadata": {},
   "outputs": [
    {
     "data": {
      "text/plain": [
       "Index(['HISTORY PATIENT 74-119: (076) HISTORY OF STROKE',\n",
       "       'HISTORY PATIENT 74-119: (099) FAMILY HISTORY OF STROKE',\n",
       "       'HISTORY PATIENT 74-119: (099) FAMILY HISTORY OF STROKE: FEMALES',\n",
       "       'HISTORY PATIENT 74-119: (099) FAMILY HISTORY OF STROKE: MALES',\n",
       "       'HISTORY PATIENT 74-119: (099) FAMILY HISTORY OF STROKE: TEXT',\n",
       "       'MEDICAL ASSESSMENT V 2010: STROKE',\n",
       "       'HACHINSKI ISCHAEMIC: HISTORY OF STROKE'],\n",
       "      dtype='object')"
      ]
     },
     "execution_count": 46,
     "metadata": {},
     "output_type": "execute_result"
    }
   ],
   "source": [
    "col_name(\"strok\")"
   ]
  },
  {
   "cell_type": "code",
   "execution_count": 47,
   "metadata": {},
   "outputs": [],
   "source": [
    "stroke_columns = ['HISTORY PATIENT 74-119: (076) HISTORY OF STROKE',\n",
    "                  'MEDICAL ASSESSMENT V 2010: STROKE',\n",
    "                  'HACHINSKI ISCHAEMIC: HISTORY OF STROKE']"
   ]
  },
  {
   "cell_type": "code",
   "execution_count": 48,
   "metadata": {},
   "outputs": [
    {
     "name": "stdout",
     "output_type": "stream",
     "text": [
      "null: (774, 1593)\n",
      "not asked: (6064, 1593)\n",
      "not known: (600, 1593)\n"
     ]
    }
   ],
   "source": [
    "_, _, cerbro_vascular_data = get_missing_datasets(cerbro_vascular)"
   ]
  },
  {
   "cell_type": "code",
   "execution_count": 49,
   "metadata": {},
   "outputs": [
    {
     "data": {
      "text/plain": [
       "(7438, 1593)"
      ]
     },
     "execution_count": 49,
     "metadata": {},
     "output_type": "execute_result"
    }
   ],
   "source": [
    "cerbro_vascular_data.shape"
   ]
  },
  {
   "cell_type": "markdown",
   "metadata": {},
   "source": [
    "### Cerbro Vascular | Extraction"
   ]
  },
  {
   "cell_type": "code",
   "execution_count": 50,
   "metadata": {},
   "outputs": [
    {
     "name": "stdout",
     "output_type": "stream",
     "text": [
      "257\n"
     ]
    }
   ],
   "source": [
    "str_1, _ = extract_values(cerbro_vascular_data, stroke_columns[0], [1, 2, 3])"
   ]
  },
  {
   "cell_type": "code",
   "execution_count": 51,
   "metadata": {},
   "outputs": [
    {
     "name": "stdout",
     "output_type": "stream",
     "text": [
      "0\n"
     ]
    }
   ],
   "source": [
    "str_2, _ = extract_values(cerbro_vascular_data, stroke_columns[1], [1])"
   ]
  },
  {
   "cell_type": "code",
   "execution_count": 52,
   "metadata": {},
   "outputs": [
    {
     "name": "stdout",
     "output_type": "stream",
     "text": [
      "1\n"
     ]
    }
   ],
   "source": [
    "str_3, _ = extract_values(cerbro_vascular_data, stroke_columns[2], [1])"
   ]
  },
  {
   "cell_type": "code",
   "execution_count": null,
   "metadata": {},
   "outputs": [],
   "source": []
  },
  {
   "cell_type": "code",
   "execution_count": 53,
   "metadata": {},
   "outputs": [
    {
     "name": "stdout",
     "output_type": "stream",
     "text": [
      "2809\n"
     ]
    }
   ],
   "source": [
    "no_str_1, _ = extract_values(cerbro_vascular_data, stroke_columns[0], [0])"
   ]
  },
  {
   "cell_type": "code",
   "execution_count": 54,
   "metadata": {},
   "outputs": [
    {
     "name": "stdout",
     "output_type": "stream",
     "text": [
      "11\n"
     ]
    }
   ],
   "source": [
    "no_str_2, _ = extract_values(cerbro_vascular_data, stroke_columns[1], [0])"
   ]
  },
  {
   "cell_type": "code",
   "execution_count": 55,
   "metadata": {},
   "outputs": [
    {
     "name": "stdout",
     "output_type": "stream",
     "text": [
      "4\n"
     ]
    }
   ],
   "source": [
    "no_str_3, _ = extract_values(cerbro_vascular_data, stroke_columns[2], [0])"
   ]
  },
  {
   "cell_type": "code",
   "execution_count": null,
   "metadata": {},
   "outputs": [],
   "source": []
  },
  {
   "cell_type": "code",
   "execution_count": 56,
   "metadata": {},
   "outputs": [],
   "source": [
    "str_update = str_1 | str_2 | str_3"
   ]
  },
  {
   "cell_type": "code",
   "execution_count": 57,
   "metadata": {},
   "outputs": [],
   "source": [
    "no_str_update = no_str_1 | no_str_2 | no_str_3"
   ]
  },
  {
   "cell_type": "code",
   "execution_count": 58,
   "metadata": {
    "scrolled": true
   },
   "outputs": [
    {
     "data": {
      "text/plain": [
       "Counter({9.0: 2839,\n",
       "         8.0: 227,\n",
       "         nan: 1,\n",
       "         nan: 1,\n",
       "         nan: 1,\n",
       "         nan: 1,\n",
       "         nan: 1,\n",
       "         nan: 1,\n",
       "         nan: 1,\n",
       "         nan: 1})"
      ]
     },
     "execution_count": 58,
     "metadata": {},
     "output_type": "execute_result"
    }
   ],
   "source": [
    "Counter(data.loc[str_update | no_str_update, cerbro_vascular])"
   ]
  },
  {
   "cell_type": "code",
   "execution_count": 59,
   "metadata": {},
   "outputs": [],
   "source": [
    "data.loc[no_str_update, cerbro_vascular] = 0"
   ]
  },
  {
   "cell_type": "code",
   "execution_count": 60,
   "metadata": {},
   "outputs": [],
   "source": [
    "data.loc[str_update, cerbro_vascular] = 1"
   ]
  },
  {
   "cell_type": "code",
   "execution_count": 61,
   "metadata": {},
   "outputs": [
    {
     "data": {
      "text/plain": [
       "(258, 2817, 3074)"
      ]
     },
     "execution_count": 61,
     "metadata": {},
     "output_type": "execute_result"
    }
   ],
   "source": [
    "len(str_update), len(no_str_update), len(str_update | no_str_update)"
   ]
  },
  {
   "cell_type": "code",
   "execution_count": 62,
   "metadata": {},
   "outputs": [
    {
     "data": {
      "text/plain": [
       "Counter({0.0: 2816, 1.0: 258})"
      ]
     },
     "execution_count": 62,
     "metadata": {},
     "output_type": "execute_result"
    }
   ],
   "source": [
    "Counter(data.loc[str_update | no_str_update, cerbro_vascular])"
   ]
  },
  {
   "cell_type": "markdown",
   "metadata": {},
   "source": [
    "## ANXIETY/PHOBIC"
   ]
  },
  {
   "cell_type": "code",
   "execution_count": 63,
   "metadata": {},
   "outputs": [
    {
     "data": {
      "text/plain": [
       "Index(['PRESENT STATE 47-73: (049) ANXIOUS',\n",
       "       'PRESENT STATE 47-73: (051) ANXIOUS SITUATIONS',\n",
       "       'PRESENT STATE 47-73: (051) ANXIOUS SITUATIONS: TEXT',\n",
       "       'INTERVIEWER OBS 188-212: (195) ANXIOUS OR FEARFUL',\n",
       "       'DIAGNOSIS 334-351: ANXIETY/PHOBIC',\n",
       "       'MEDICAL ASSESSMENT V 2010: ANXIETY', 'NPI: ANXIETY: FREQUENCY',\n",
       "       'NPI: ANXIETY: SEVERITY', 'NPI: ANXIETY: F X S',\n",
       "       'NPI: ANXIETY: DISTRESS'],\n",
       "      dtype='object')"
      ]
     },
     "execution_count": 63,
     "metadata": {},
     "output_type": "execute_result"
    }
   ],
   "source": [
    "col_name(\"anxi\")"
   ]
  },
  {
   "cell_type": "code",
   "execution_count": 64,
   "metadata": {},
   "outputs": [],
   "source": [
    "anxiety_phobic = \"DIAGNOSIS 334-351: ANXIETY/PHOBIC\""
   ]
  },
  {
   "cell_type": "code",
   "execution_count": null,
   "metadata": {},
   "outputs": [],
   "source": []
  },
  {
   "cell_type": "code",
   "execution_count": 65,
   "metadata": {},
   "outputs": [],
   "source": [
    "anxiety_columns = [['PRESENT STATE 47-73: (049) ANXIOUS', [1]],\n",
    "                   ['PRESENT STATE 47-73: (051) ANXIOUS SITUATIONS', [1]],\n",
    "                   ['INTERVIEWER OBS 188-212: (195) ANXIOUS OR FEARFUL', [1]],\n",
    "                   ['MEDICAL ASSESSMENT V 2010: ANXIETY', [1]],\n",
    "                   ['NPI: ANXIETY: FREQUENCY', [1, 2, 3, 4]],\n",
    "                   ['NPI: ANXIETY: SEVERITY', [1, 2, 3]],\n",
    "                   ['NPI: ANXIETY: F X S', [2.,  8.,  3.,  1.,  4.,  6., 12.,  9.,  5.]],\n",
    "                   ['NPI: ANXIETY: DISTRESS', [1, 2, 3, 4, 5]]]"
   ]
  },
  {
   "cell_type": "code",
   "execution_count": 66,
   "metadata": {},
   "outputs": [],
   "source": [
    "no_anxiety_columns = [['PRESENT STATE 47-73: (049) ANXIOUS', [0]],\n",
    "                   ['PRESENT STATE 47-73: (051) ANXIOUS SITUATIONS', [0]],\n",
    "                   ['INTERVIEWER OBS 188-212: (195) ANXIOUS OR FEARFUL', [0]],\n",
    "                   ['MEDICAL ASSESSMENT V 2010: ANXIETY', [0]],\n",
    "                   ['NPI: ANXIETY: FREQUENCY', [0]],\n",
    "                   ['NPI: ANXIETY: SEVERITY', [0]],\n",
    "                   ['NPI: ANXIETY: F X S', [0]],\n",
    "                   ['NPI: ANXIETY: DISTRESS', [0]]]"
   ]
  },
  {
   "cell_type": "code",
   "execution_count": 67,
   "metadata": {},
   "outputs": [],
   "source": [
    "for t in current_treatment:\n",
    "    anxiety_columns.append([t, [85]])"
   ]
  },
  {
   "cell_type": "code",
   "execution_count": 68,
   "metadata": {},
   "outputs": [
    {
     "name": "stdout",
     "output_type": "stream",
     "text": [
      "null: (5563, 1593)\n",
      "not asked: (4005, 1593)\n",
      "not known: (0, 1593)\n"
     ]
    }
   ],
   "source": [
    "_, _, anxiety_phobic_data = get_missing_datasets(anxiety_phobic)"
   ]
  },
  {
   "cell_type": "code",
   "execution_count": 69,
   "metadata": {},
   "outputs": [
    {
     "data": {
      "text/plain": [
       "(9568, 1593)"
      ]
     },
     "execution_count": 69,
     "metadata": {},
     "output_type": "execute_result"
    }
   ],
   "source": [
    "anxiety_phobic_data.shape"
   ]
  },
  {
   "cell_type": "code",
   "execution_count": 70,
   "metadata": {},
   "outputs": [],
   "source": [
    "# anxiety_phobic_null[anxiety_columns[7][0]].unique() # should be modified above"
   ]
  },
  {
   "cell_type": "code",
   "execution_count": 71,
   "metadata": {},
   "outputs": [],
   "source": [
    "# anxiety_phobic_9[anxiety_columns[7][0]].unique() # should be modified above"
   ]
  },
  {
   "cell_type": "code",
   "execution_count": 72,
   "metadata": {
    "scrolled": true
   },
   "outputs": [],
   "source": [
    "# for i, _ in anxiety_columns:\n",
    "#     print(i)\n",
    "#     print(scan_unique(data, i))"
   ]
  },
  {
   "cell_type": "markdown",
   "metadata": {},
   "source": [
    "### Anxiety Phobic | Extraction"
   ]
  },
  {
   "cell_type": "code",
   "execution_count": 73,
   "metadata": {},
   "outputs": [],
   "source": [
    "anx_update = set()"
   ]
  },
  {
   "cell_type": "code",
   "execution_count": 74,
   "metadata": {
    "scrolled": true
   },
   "outputs": [
    {
     "name": "stdout",
     "output_type": "stream",
     "text": [
      "column: PRESENT STATE 47-73: (049) ANXIOUS\n",
      "748\n",
      "column: PRESENT STATE 47-73: (051) ANXIOUS SITUATIONS\n",
      "696\n",
      "column: INTERVIEWER OBS 188-212: (195) ANXIOUS OR FEARFUL\n",
      "687\n",
      "column: MEDICAL ASSESSMENT V 2010: ANXIETY\n",
      "82\n",
      "column: NPI: ANXIETY: FREQUENCY\n",
      "302\n",
      "column: NPI: ANXIETY: SEVERITY\n",
      "248\n",
      "column: NPI: ANXIETY: F X S\n",
      "410\n",
      "column: NPI: ANXIETY: DISTRESS\n",
      "173\n",
      "column: CURRENT MEDICATION: TREATMENT 1\n",
      "55\n",
      "column: CURRENT MEDICATION: TREATMENT 2\n",
      "40\n",
      "column: CURRENT MEDICATION: TREATMENT 3\n",
      "29\n",
      "column: CURRENT MEDICATION: TREATMENT 4\n",
      "19\n",
      "column: CURRENT MEDICATION: TREATMENT 5\n",
      "14\n",
      "column: CURRENT MEDICATION: TREATMENT 6\n",
      "6\n",
      "column: CURRENT MEDICATION: TREATMENT 7\n",
      "4\n",
      "column: CURRENT MEDICATION: TREATMENT 8\n",
      "2\n",
      "column: CURRENT MEDICATION: TREATMENT 9\n",
      "3\n",
      "column: CURRENT MEDICATION: TREATMENT 10\n",
      "1\n",
      "column: CURRENT MEDICATION: TREATMENT 11\n",
      "0\n",
      "column: CURRENT MEDICATION: TREATMENT 12\n",
      "0\n",
      "column: CURRENT MEDICATION: TREATMENT 13\n",
      "0\n",
      "column: CURRENT MEDICATION: TREATMENT 14\n",
      "0\n",
      "column: CURRENT MEDICATION: TREATMENT 15\n",
      "0\n",
      "column: CURRENT MEDICATION: TREATMENT 16\n",
      "0\n",
      "column: CURRENT MEDICATION: TREATMENT 17\n",
      "0\n",
      "column: CURRENT MEDICATION: TREATMENT 18\n",
      "0\n",
      "column: CURRENT MEDICATION: TREATMENT 19\n",
      "0\n",
      "column: CURRENT MEDICATION: TREATMENT 20\n",
      "0\n"
     ]
    }
   ],
   "source": [
    "for idx, a in enumerate(anxiety_columns):\n",
    "    print(\"column:\", a[0])\n",
    "    anx_update |= extract_values(anxiety_phobic_data, a[0], a[1])[0]"
   ]
  },
  {
   "cell_type": "code",
   "execution_count": null,
   "metadata": {},
   "outputs": [],
   "source": []
  },
  {
   "cell_type": "code",
   "execution_count": 75,
   "metadata": {},
   "outputs": [],
   "source": [
    "no_anx_update = set()"
   ]
  },
  {
   "cell_type": "code",
   "execution_count": 76,
   "metadata": {
    "scrolled": true
   },
   "outputs": [
    {
     "name": "stdout",
     "output_type": "stream",
     "text": [
      "column: PRESENT STATE 47-73: (049) ANXIOUS\n",
      "2674\n",
      "column: PRESENT STATE 47-73: (051) ANXIOUS SITUATIONS\n",
      "2691\n",
      "column: INTERVIEWER OBS 188-212: (195) ANXIOUS OR FEARFUL\n",
      "4041\n",
      "column: MEDICAL ASSESSMENT V 2010: ANXIETY\n",
      "267\n",
      "column: NPI: ANXIETY: FREQUENCY\n",
      "840\n",
      "column: NPI: ANXIETY: SEVERITY\n",
      "840\n",
      "column: NPI: ANXIETY: F X S\n",
      "735\n",
      "column: NPI: ANXIETY: DISTRESS\n",
      "828\n"
     ]
    }
   ],
   "source": [
    "for idx, a in enumerate(no_anxiety_columns):\n",
    "    print(\"column:\", a[0])\n",
    "    no_anx_update |= extract_values(anxiety_phobic_data, a[0], a[1])[0]"
   ]
  },
  {
   "cell_type": "code",
   "execution_count": null,
   "metadata": {},
   "outputs": [],
   "source": []
  },
  {
   "cell_type": "code",
   "execution_count": 77,
   "metadata": {},
   "outputs": [
    {
     "data": {
      "text/plain": [
       "Counter({9: 3611, nan: 2299})"
      ]
     },
     "execution_count": 77,
     "metadata": {},
     "output_type": "execute_result"
    }
   ],
   "source": [
    "Counter(data.loc[anx_update | no_anx_update, anxiety_phobic])"
   ]
  },
  {
   "cell_type": "code",
   "execution_count": 78,
   "metadata": {},
   "outputs": [],
   "source": [
    "data.loc[no_anx_update, anxiety_phobic] = 0"
   ]
  },
  {
   "cell_type": "code",
   "execution_count": 79,
   "metadata": {},
   "outputs": [],
   "source": [
    "data.loc[anx_update, anxiety_phobic] = 1"
   ]
  },
  {
   "cell_type": "code",
   "execution_count": 80,
   "metadata": {},
   "outputs": [
    {
     "data": {
      "text/plain": [
       "Counter({1: 2108, 0: 3802})"
      ]
     },
     "execution_count": 80,
     "metadata": {},
     "output_type": "execute_result"
    }
   ],
   "source": [
    "Counter(data.loc[anx_update | no_anx_update, anxiety_phobic])"
   ]
  },
  {
   "cell_type": "code",
   "execution_count": 81,
   "metadata": {},
   "outputs": [
    {
     "data": {
      "text/plain": [
       "(2108, 5334, 5910)"
      ]
     },
     "execution_count": 81,
     "metadata": {},
     "output_type": "execute_result"
    }
   ],
   "source": [
    "len(anx_update), len(no_anx_update), len(anx_update | no_anx_update)"
   ]
  },
  {
   "cell_type": "code",
   "execution_count": null,
   "metadata": {},
   "outputs": [],
   "source": []
  },
  {
   "cell_type": "code",
   "execution_count": 82,
   "metadata": {},
   "outputs": [],
   "source": [
    "data.to_excel(\"Optima_Data_Report_Cases_9584_filled.xlsx\")"
   ]
  },
  {
   "cell_type": "code",
   "execution_count": 83,
   "metadata": {},
   "outputs": [],
   "source": [
    "data.to_pickle(\"Optima_Data_Report_Cases_9584_filled_pickle\")"
   ]
  },
  {
   "cell_type": "code",
   "execution_count": null,
   "metadata": {},
   "outputs": [],
   "source": []
  },
  {
   "cell_type": "code",
   "execution_count": null,
   "metadata": {},
   "outputs": [],
   "source": []
  },
  {
   "cell_type": "code",
   "execution_count": null,
   "metadata": {},
   "outputs": [],
   "source": []
  }
 ],
 "metadata": {
  "kernelspec": {
   "display_name": "Python 3",
   "language": "python",
   "name": "python3"
  },
  "language_info": {
   "codemirror_mode": {
    "name": "ipython",
    "version": 3
   },
   "file_extension": ".py",
   "mimetype": "text/x-python",
   "name": "python",
   "nbconvert_exporter": "python",
   "pygments_lexer": "ipython3",
   "version": "3.7.4"
  }
 },
 "nbformat": 4,
 "nbformat_minor": 2
}
