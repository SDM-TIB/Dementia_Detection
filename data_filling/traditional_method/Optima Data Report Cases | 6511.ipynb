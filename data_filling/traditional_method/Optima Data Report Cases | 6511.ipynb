{
 "cells": [
  {
   "cell_type": "markdown",
   "metadata": {},
   "source": [
    "# Optima Data Report Cases | 6511"
   ]
  },
  {
   "cell_type": "code",
   "execution_count": 1,
   "metadata": {},
   "outputs": [],
   "source": [
    "import pandas as pd\n",
    "from collections import Counter"
   ]
  },
  {
   "cell_type": "code",
   "execution_count": 2,
   "metadata": {},
   "outputs": [],
   "source": [
    "def extract_values(df, column, values):\n",
    "    d = df[df[column].isin(values)]\n",
    "    print(len(set(d.index)))\n",
    "    return set(d.index), d "
   ]
  },
  {
   "cell_type": "code",
   "execution_count": 3,
   "metadata": {},
   "outputs": [],
   "source": [
    "def scan_unique(df, column):\n",
    "    return df[column].unique()"
   ]
  },
  {
   "cell_type": "code",
   "execution_count": 4,
   "metadata": {},
   "outputs": [],
   "source": [
    "def col_name(name):\n",
    "    name = name.lower()\n",
    "    return data.columns[[name in i.lower() for i in data.columns]]"
   ]
  },
  {
   "cell_type": "code",
   "execution_count": 5,
   "metadata": {},
   "outputs": [],
   "source": [
    "def get_missing_datasets(column):\n",
    "    print(\"null:\", data[data[column].isna()].shape)\n",
    "    print(\"not asked:\", data[data[column].isin([9])].shape)\n",
    "    print(\"not known:\", data[data[column].isin([8])].shape)\n",
    "    return data[data[column].isna()], data[data[column].isin([8])], pd.concat([data[data[column].isna()], data[data[column].isin([8, 9])]])"
   ]
  },
  {
   "cell_type": "code",
   "execution_count": 6,
   "metadata": {},
   "outputs": [],
   "source": [
    "current_treatment = [\"CURRENT MEDICATION: TREATMENT \"+str(i) for i in range(1, 21)]"
   ]
  },
  {
   "cell_type": "code",
   "execution_count": null,
   "metadata": {},
   "outputs": [],
   "source": []
  },
  {
   "cell_type": "code",
   "execution_count": 7,
   "metadata": {},
   "outputs": [],
   "source": [
    "data = pd.read_excel(\"Data Request Jan 2019 (Optima, Lead, Challenge)_final (1).xlsx\")"
   ]
  },
  {
   "cell_type": "code",
   "execution_count": null,
   "metadata": {},
   "outputs": [],
   "source": []
  },
  {
   "cell_type": "code",
   "execution_count": 8,
   "metadata": {},
   "outputs": [],
   "source": [
    "data = data.drop_duplicates(['GLOBAL_PATIENT_DB_ID','EPISODE_DATE'])"
   ]
  },
  {
   "cell_type": "code",
   "execution_count": 9,
   "metadata": {},
   "outputs": [],
   "source": [
    "minimental = \"CAMDEX SCORES: MINI MENTAL SCORE\""
   ]
  },
  {
   "cell_type": "code",
   "execution_count": 10,
   "metadata": {},
   "outputs": [],
   "source": [
    "data = data[data[minimental].between(0, 30, inclusive=True)]"
   ]
  },
  {
   "cell_type": "code",
   "execution_count": 11,
   "metadata": {},
   "outputs": [
    {
     "data": {
      "text/plain": [
       "(6511, 1593)"
      ]
     },
     "execution_count": 11,
     "metadata": {},
     "output_type": "execute_result"
    }
   ],
   "source": [
    "data.shape"
   ]
  },
  {
   "cell_type": "code",
   "execution_count": 12,
   "metadata": {},
   "outputs": [
    {
     "data": {
      "text/plain": [
       "(6511, 1593)"
      ]
     },
     "execution_count": 12,
     "metadata": {},
     "output_type": "execute_result"
    }
   ],
   "source": [
    "data.shape"
   ]
  },
  {
   "cell_type": "markdown",
   "metadata": {},
   "source": [
    "## Petersen_MCI"
   ]
  },
  {
   "cell_type": "code",
   "execution_count": 13,
   "metadata": {},
   "outputs": [],
   "source": [
    "petersen_mci, petersen_mci_type = col_name(\"petersen\")"
   ]
  },
  {
   "cell_type": "code",
   "execution_count": 14,
   "metadata": {},
   "outputs": [
    {
     "data": {
      "text/plain": [
       "('OPTIMA DIAGNOSES V 2010: PETERSEN MCI',\n",
       " 'OPTIMA DIAGNOSES V 2010: PETERSEN MCI TYPE')"
      ]
     },
     "execution_count": 14,
     "metadata": {},
     "output_type": "execute_result"
    }
   ],
   "source": [
    "petersen_mci, petersen_mci_type"
   ]
  },
  {
   "cell_type": "code",
   "execution_count": null,
   "metadata": {},
   "outputs": [],
   "source": []
  },
  {
   "cell_type": "code",
   "execution_count": 15,
   "metadata": {},
   "outputs": [],
   "source": [
    "cdr_score = col_name(\"cdr\")[1]"
   ]
  },
  {
   "cell_type": "code",
   "execution_count": 16,
   "metadata": {},
   "outputs": [
    {
     "data": {
      "text/plain": [
       "'CLINICAL DEMENTIA RATING: OVERALL CDR SCORE'"
      ]
     },
     "execution_count": 16,
     "metadata": {},
     "output_type": "execute_result"
    }
   ],
   "source": [
    "cdr_score"
   ]
  },
  {
   "cell_type": "code",
   "execution_count": null,
   "metadata": {},
   "outputs": [],
   "source": []
  },
  {
   "cell_type": "code",
   "execution_count": 17,
   "metadata": {},
   "outputs": [
    {
     "name": "stdout",
     "output_type": "stream",
     "text": [
      "null: (22, 1593)\n",
      "not asked: (3859, 1593)\n",
      "not known: (4, 1593)\n"
     ]
    }
   ],
   "source": [
    "_, _, petersen_data = get_missing_datasets(petersen_mci)"
   ]
  },
  {
   "cell_type": "code",
   "execution_count": 18,
   "metadata": {},
   "outputs": [
    {
     "data": {
      "text/plain": [
       "(3885, 1593)"
      ]
     },
     "execution_count": 18,
     "metadata": {},
     "output_type": "execute_result"
    }
   ],
   "source": [
    "petersen_data.shape"
   ]
  },
  {
   "cell_type": "markdown",
   "metadata": {},
   "source": [
    "### Petersen | Extraction"
   ]
  },
  {
   "cell_type": "code",
   "execution_count": 19,
   "metadata": {},
   "outputs": [],
   "source": [
    "# scan_unique(petersen_data, cdr_score) #cdr score not in range"
   ]
  },
  {
   "cell_type": "code",
   "execution_count": 20,
   "metadata": {},
   "outputs": [],
   "source": [
    "# scan_unique(petersen_data, petersen_mci_type)"
   ]
  },
  {
   "cell_type": "code",
   "execution_count": null,
   "metadata": {},
   "outputs": [],
   "source": []
  },
  {
   "cell_type": "code",
   "execution_count": 21,
   "metadata": {},
   "outputs": [
    {
     "name": "stdout",
     "output_type": "stream",
     "text": [
      "19\n"
     ]
    }
   ],
   "source": [
    "p_0, _ = extract_values(petersen_data, cdr_score, [1, 2])"
   ]
  },
  {
   "cell_type": "code",
   "execution_count": 22,
   "metadata": {},
   "outputs": [
    {
     "name": "stdout",
     "output_type": "stream",
     "text": [
      "0\n"
     ]
    }
   ],
   "source": [
    "p_1, _ = extract_values(petersen_data, petersen_mci_type, [1, 2, 3, 4])"
   ]
  },
  {
   "cell_type": "code",
   "execution_count": null,
   "metadata": {},
   "outputs": [],
   "source": []
  },
  {
   "cell_type": "code",
   "execution_count": 23,
   "metadata": {},
   "outputs": [],
   "source": [
    "petersen_update = p_0 | p_1"
   ]
  },
  {
   "cell_type": "code",
   "execution_count": null,
   "metadata": {},
   "outputs": [],
   "source": []
  },
  {
   "cell_type": "code",
   "execution_count": 24,
   "metadata": {},
   "outputs": [
    {
     "name": "stdout",
     "output_type": "stream",
     "text": [
      "8\n"
     ]
    }
   ],
   "source": [
    "no_petersen_update, _ = extract_values(petersen_data, cdr_score, [0])"
   ]
  },
  {
   "cell_type": "code",
   "execution_count": null,
   "metadata": {},
   "outputs": [],
   "source": []
  },
  {
   "cell_type": "code",
   "execution_count": 25,
   "metadata": {},
   "outputs": [
    {
     "data": {
      "text/plain": [
       "(19, 8)"
      ]
     },
     "execution_count": 25,
     "metadata": {},
     "output_type": "execute_result"
    }
   ],
   "source": [
    "len(petersen_update), len(no_petersen_update)"
   ]
  },
  {
   "cell_type": "code",
   "execution_count": null,
   "metadata": {},
   "outputs": [],
   "source": []
  },
  {
   "cell_type": "code",
   "execution_count": 26,
   "metadata": {},
   "outputs": [
    {
     "data": {
      "text/plain": [
       "Counter({9.0: 26, nan: 1})"
      ]
     },
     "execution_count": 26,
     "metadata": {},
     "output_type": "execute_result"
    }
   ],
   "source": [
    "Counter(data.loc[petersen_update | no_petersen_update, petersen_mci])"
   ]
  },
  {
   "cell_type": "code",
   "execution_count": 27,
   "metadata": {},
   "outputs": [],
   "source": [
    "data.loc[no_petersen_update, petersen_mci] = 0"
   ]
  },
  {
   "cell_type": "code",
   "execution_count": 28,
   "metadata": {},
   "outputs": [],
   "source": [
    "data.loc[petersen_update, petersen_mci] = 1"
   ]
  },
  {
   "cell_type": "code",
   "execution_count": 29,
   "metadata": {},
   "outputs": [
    {
     "data": {
      "text/plain": [
       "Counter({1.0: 19, 0.0: 8})"
      ]
     },
     "execution_count": 29,
     "metadata": {},
     "output_type": "execute_result"
    }
   ],
   "source": [
    "Counter(data.loc[petersen_update | no_petersen_update, petersen_mci])"
   ]
  },
  {
   "cell_type": "code",
   "execution_count": 30,
   "metadata": {},
   "outputs": [
    {
     "data": {
      "text/plain": [
       "27"
      ]
     },
     "execution_count": 30,
     "metadata": {},
     "output_type": "execute_result"
    }
   ],
   "source": [
    "len(petersen_update | no_petersen_update)"
   ]
  },
  {
   "cell_type": "markdown",
   "metadata": {},
   "source": [
    "## DEPRESSIVE_ILLNESS"
   ]
  },
  {
   "cell_type": "markdown",
   "metadata": {},
   "source": [
    "#### To be confirmed:\n",
    "- \"PRESENT STATE 13-46: (038) REASON FOR DEPRESSION\" Values to consider\n",
    "- \"PRESENT STATE 13-46: (037) DURATION OF DEPRESSION\" Values to Consider\n",
    "- \"CAMDEX SCORES: DEPRESSION SCALE\" Numeric Value\n",
    "- \"CAMDEX SCORES: GERIATRIC DEPRESSION SCORE\" Numeric Value\n",
    "- \"NPI: DEPRESSION/DYSPHORIA: F X S\" Numeric Value"
   ]
  },
  {
   "cell_type": "code",
   "execution_count": 31,
   "metadata": {},
   "outputs": [
    {
     "data": {
      "text/plain": [
       "Index(['CAMDEX ADMINISTRATION 1-12: EST OF SEVERITY OF DEPRESSION',\n",
       "       'PRESENT STATE 13-46: (036) FEELING DEPRESSED',\n",
       "       'PRESENT STATE 13-46: (037) DURATION OF DEPRESSION',\n",
       "       'PRESENT STATE 13-46: (038) REASON FOR DEPRESSION',\n",
       "       'PRESENT STATE 13-46: (038) REASON FOR DEPRESSION: TEXT',\n",
       "       'INTERVIEWER OBS 188-212: (196) DEPRESSED MOOD',\n",
       "       'DIAGNOSIS 334-351: DEPRESSIVE ILLNESS',\n",
       "       'DIAGNOSIS 334-351: SEVERITY OF DEPRESSION',\n",
       "       'CAMDEX SCORES: DEPRESSION SCALE',\n",
       "       'CAMDEX SCORES: GERIATRIC DEPRESSION SCORE',\n",
       "       'MEDICAL ASSESSMENT V 2010: DEPRESSION',\n",
       "       'MEDICAL ASSESSMENT V 2010: DEPRESSION TREATED BY DOCTOR',\n",
       "       'HACHINSKI ISCHAEMIC: DEPRESSIVE SYMPTOMATOLOGY',\n",
       "       'NPI: DEPRESSION/DYSPHORIA: FREQUENCY',\n",
       "       'NPI: DEPRESSION/DYSPHORIA: SEVERITY',\n",
       "       'NPI: DEPRESSION/DYSPHORIA: F X S',\n",
       "       'NPI: DEPRESSION/DYSPHORIA: DISTRESS'],\n",
       "      dtype='object')"
      ]
     },
     "execution_count": 31,
     "metadata": {},
     "output_type": "execute_result"
    }
   ],
   "source": [
    "col_name(\"depress\")"
   ]
  },
  {
   "cell_type": "code",
   "execution_count": 32,
   "metadata": {},
   "outputs": [],
   "source": [
    "depressive_illness = 'DIAGNOSIS 334-351: DEPRESSIVE ILLNESS'"
   ]
  },
  {
   "cell_type": "code",
   "execution_count": null,
   "metadata": {},
   "outputs": [],
   "source": []
  },
  {
   "cell_type": "code",
   "execution_count": 33,
   "metadata": {},
   "outputs": [],
   "source": [
    "depression_columns = [['CAMDEX ADMINISTRATION 1-12: EST OF SEVERITY OF DEPRESSION', [1, 2, 3, 4]],\n",
    "                      ['PRESENT STATE 13-46: (036) FEELING DEPRESSED', [1, 2]],\n",
    "                      ['INTERVIEWER OBS 188-212: (196) DEPRESSED MOOD', [1]],\n",
    "                      ['DIAGNOSIS 334-351: SEVERITY OF DEPRESSION', [1, 2, 3, 4]],\n",
    "                      ['MEDICAL ASSESSMENT V 2010: DEPRESSION', [1]],\n",
    "                      ['MEDICAL ASSESSMENT V 2010: DEPRESSION TREATED BY DOCTOR', [1]],\n",
    "                      ['HACHINSKI ISCHAEMIC: DEPRESSIVE SYMPTOMATOLOGY', [1]],\n",
    "                      ['NPI: DEPRESSION/DYSPHORIA: FREQUENCY', [1, 2, 3, 4]],\n",
    "                      ['NPI: DEPRESSION/DYSPHORIA: SEVERITY', [1, 2, 3]],\n",
    "                      ['NPI: DEPRESSION/DYSPHORIA: DISTRESS', [1, 2, 3, 4, 5]],\n",
    "                      ['SPECT SCAN: DIAGNOSTIC ASSESSMENT', [8]]]"
   ]
  },
  {
   "cell_type": "code",
   "execution_count": 34,
   "metadata": {},
   "outputs": [],
   "source": [
    "for t in current_treatment:\n",
    "    depression_columns.append([t, [80]])"
   ]
  },
  {
   "cell_type": "code",
   "execution_count": null,
   "metadata": {},
   "outputs": [],
   "source": []
  },
  {
   "cell_type": "code",
   "execution_count": 35,
   "metadata": {},
   "outputs": [],
   "source": [
    "no_depression_columns = [['CAMDEX ADMINISTRATION 1-12: EST OF SEVERITY OF DEPRESSION', [0]],\n",
    "                      ['PRESENT STATE 13-46: (036) FEELING DEPRESSED', [0]],\n",
    "                      ['INTERVIEWER OBS 188-212: (196) DEPRESSED MOOD', [0]],\n",
    "                      ['DIAGNOSIS 334-351: SEVERITY OF DEPRESSION', [0]],\n",
    "                      ['MEDICAL ASSESSMENT V 2010: DEPRESSION', [0]],\n",
    "                      ['MEDICAL ASSESSMENT V 2010: DEPRESSION TREATED BY DOCTOR', [0]],\n",
    "                      ['HACHINSKI ISCHAEMIC: DEPRESSIVE SYMPTOMATOLOGY', [0]],\n",
    "                      ['NPI: DEPRESSION/DYSPHORIA: FREQUENCY', [0]],\n",
    "                      ['NPI: DEPRESSION/DYSPHORIA: SEVERITY', [0]],\n",
    "                      ['NPI: DEPRESSION/DYSPHORIA: DISTRESS', [0]]]"
   ]
  },
  {
   "cell_type": "code",
   "execution_count": null,
   "metadata": {},
   "outputs": [],
   "source": []
  },
  {
   "cell_type": "code",
   "execution_count": 36,
   "metadata": {},
   "outputs": [
    {
     "name": "stdout",
     "output_type": "stream",
     "text": [
      "null: (3079, 1593)\n",
      "not asked: (3380, 1593)\n",
      "not known: (0, 1593)\n"
     ]
    }
   ],
   "source": [
    "_, _, depressive_illness_data = get_missing_datasets(depressive_illness)"
   ]
  },
  {
   "cell_type": "code",
   "execution_count": 37,
   "metadata": {},
   "outputs": [
    {
     "data": {
      "text/plain": [
       "(6459, 1593)"
      ]
     },
     "execution_count": 37,
     "metadata": {},
     "output_type": "execute_result"
    }
   ],
   "source": [
    "depressive_illness_data.shape"
   ]
  },
  {
   "cell_type": "markdown",
   "metadata": {},
   "source": [
    "### Depressive Illness | Extraction"
   ]
  },
  {
   "cell_type": "code",
   "execution_count": 38,
   "metadata": {},
   "outputs": [],
   "source": [
    "dil_update = set()"
   ]
  },
  {
   "cell_type": "code",
   "execution_count": 39,
   "metadata": {
    "scrolled": true
   },
   "outputs": [
    {
     "name": "stdout",
     "output_type": "stream",
     "text": [
      "column: CAMDEX ADMINISTRATION 1-12: EST OF SEVERITY OF DEPRESSION\n",
      "1109\n",
      "column: PRESENT STATE 13-46: (036) FEELING DEPRESSED\n",
      "1189\n",
      "column: INTERVIEWER OBS 188-212: (196) DEPRESSED MOOD\n",
      "403\n",
      "column: DIAGNOSIS 334-351: SEVERITY OF DEPRESSION\n",
      "553\n",
      "column: MEDICAL ASSESSMENT V 2010: DEPRESSION\n",
      "72\n",
      "column: MEDICAL ASSESSMENT V 2010: DEPRESSION TREATED BY DOCTOR\n",
      "71\n",
      "column: HACHINSKI ISCHAEMIC: DEPRESSIVE SYMPTOMATOLOGY\n",
      "33\n",
      "column: NPI: DEPRESSION/DYSPHORIA: FREQUENCY\n",
      "364\n",
      "column: NPI: DEPRESSION/DYSPHORIA: SEVERITY\n",
      "317\n",
      "column: NPI: DEPRESSION/DYSPHORIA: DISTRESS\n",
      "312\n",
      "column: SPECT SCAN: DIAGNOSTIC ASSESSMENT\n",
      "7\n",
      "column: CURRENT MEDICATION: TREATMENT 1\n",
      "265\n",
      "column: CURRENT MEDICATION: TREATMENT 2\n",
      "135\n",
      "column: CURRENT MEDICATION: TREATMENT 3\n",
      "84\n",
      "column: CURRENT MEDICATION: TREATMENT 4\n",
      "56\n",
      "column: CURRENT MEDICATION: TREATMENT 5\n",
      "40\n",
      "column: CURRENT MEDICATION: TREATMENT 6\n",
      "17\n",
      "column: CURRENT MEDICATION: TREATMENT 7\n",
      "11\n",
      "column: CURRENT MEDICATION: TREATMENT 8\n",
      "9\n",
      "column: CURRENT MEDICATION: TREATMENT 9\n",
      "2\n",
      "column: CURRENT MEDICATION: TREATMENT 10\n",
      "0\n",
      "column: CURRENT MEDICATION: TREATMENT 11\n",
      "0\n",
      "column: CURRENT MEDICATION: TREATMENT 12\n",
      "2\n",
      "column: CURRENT MEDICATION: TREATMENT 13\n",
      "0\n",
      "column: CURRENT MEDICATION: TREATMENT 14\n",
      "0\n",
      "column: CURRENT MEDICATION: TREATMENT 15\n",
      "0\n",
      "column: CURRENT MEDICATION: TREATMENT 16\n",
      "0\n",
      "column: CURRENT MEDICATION: TREATMENT 17\n",
      "0\n",
      "column: CURRENT MEDICATION: TREATMENT 18\n",
      "0\n",
      "column: CURRENT MEDICATION: TREATMENT 19\n",
      "0\n",
      "column: CURRENT MEDICATION: TREATMENT 20\n",
      "0\n"
     ]
    }
   ],
   "source": [
    "for idx, a in enumerate(depression_columns):\n",
    "    print(\"column:\", a[0])\n",
    "    dil_update |= extract_values(depressive_illness_data, a[0], a[1])[0]"
   ]
  },
  {
   "cell_type": "code",
   "execution_count": 40,
   "metadata": {},
   "outputs": [],
   "source": [
    "no_dil_update = set()"
   ]
  },
  {
   "cell_type": "code",
   "execution_count": 41,
   "metadata": {},
   "outputs": [
    {
     "name": "stdout",
     "output_type": "stream",
     "text": [
      "column: CAMDEX ADMINISTRATION 1-12: EST OF SEVERITY OF DEPRESSION\n",
      "2889\n",
      "column: PRESENT STATE 13-46: (036) FEELING DEPRESSED\n",
      "2235\n",
      "column: INTERVIEWER OBS 188-212: (196) DEPRESSED MOOD\n",
      "3843\n",
      "column: DIAGNOSIS 334-351: SEVERITY OF DEPRESSION\n",
      "1151\n",
      "column: MEDICAL ASSESSMENT V 2010: DEPRESSION\n",
      "275\n",
      "column: MEDICAL ASSESSMENT V 2010: DEPRESSION TREATED BY DOCTOR\n",
      "307\n",
      "column: HACHINSKI ISCHAEMIC: DEPRESSIVE SYMPTOMATOLOGY\n",
      "134\n",
      "column: NPI: DEPRESSION/DYSPHORIA: FREQUENCY\n",
      "705\n",
      "column: NPI: DEPRESSION/DYSPHORIA: SEVERITY\n",
      "705\n",
      "column: NPI: DEPRESSION/DYSPHORIA: DISTRESS\n",
      "625\n"
     ]
    }
   ],
   "source": [
    "for idx, a in enumerate(no_depression_columns):\n",
    "    print(\"column:\", a[0])\n",
    "    no_dil_update |= extract_values(depressive_illness_data, a[0], a[1])[0]"
   ]
  },
  {
   "cell_type": "code",
   "execution_count": 42,
   "metadata": {
    "scrolled": true
   },
   "outputs": [
    {
     "data": {
      "text/plain": [
       "(2546, 4891)"
      ]
     },
     "execution_count": 42,
     "metadata": {},
     "output_type": "execute_result"
    }
   ],
   "source": [
    "len(dil_update), len(no_dil_update)"
   ]
  },
  {
   "cell_type": "code",
   "execution_count": 43,
   "metadata": {},
   "outputs": [
    {
     "data": {
      "text/plain": [
       "Counter({9: 3363, nan: 2080})"
      ]
     },
     "execution_count": 43,
     "metadata": {},
     "output_type": "execute_result"
    }
   ],
   "source": [
    "Counter(data.loc[dil_update | no_dil_update, depressive_illness])"
   ]
  },
  {
   "cell_type": "code",
   "execution_count": 44,
   "metadata": {},
   "outputs": [],
   "source": [
    "data.loc[no_dil_update, depressive_illness] = 0"
   ]
  },
  {
   "cell_type": "code",
   "execution_count": 45,
   "metadata": {},
   "outputs": [],
   "source": [
    "data.loc[dil_update, depressive_illness] = 1"
   ]
  },
  {
   "cell_type": "code",
   "execution_count": 46,
   "metadata": {},
   "outputs": [
    {
     "data": {
      "text/plain": [
       "Counter({0: 2897, 1: 2546})"
      ]
     },
     "execution_count": 46,
     "metadata": {},
     "output_type": "execute_result"
    }
   ],
   "source": [
    "Counter(data.loc[dil_update | no_dil_update, depressive_illness])"
   ]
  },
  {
   "cell_type": "code",
   "execution_count": 47,
   "metadata": {},
   "outputs": [
    {
     "data": {
      "text/plain": [
       "5443"
      ]
     },
     "execution_count": 47,
     "metadata": {},
     "output_type": "execute_result"
    }
   ],
   "source": [
    "len(dil_update | no_dil_update)"
   ]
  },
  {
   "cell_type": "markdown",
   "metadata": {},
   "source": [
    "## CERBRO-VASCULAR_DISEASE_PRESENT"
   ]
  },
  {
   "cell_type": "code",
   "execution_count": 48,
   "metadata": {},
   "outputs": [],
   "source": [
    "cerbro_vascular = col_name(\"cerbro\")[0]"
   ]
  },
  {
   "cell_type": "code",
   "execution_count": 49,
   "metadata": {},
   "outputs": [
    {
     "data": {
      "text/plain": [
       "'OPTIMA DIAGNOSES V 2010: CERBRO-VASCULAR DISEASE PRESENT'"
      ]
     },
     "execution_count": 49,
     "metadata": {},
     "output_type": "execute_result"
    }
   ],
   "source": [
    "cerbro_vascular"
   ]
  },
  {
   "cell_type": "code",
   "execution_count": null,
   "metadata": {},
   "outputs": [],
   "source": []
  },
  {
   "cell_type": "code",
   "execution_count": 50,
   "metadata": {},
   "outputs": [
    {
     "data": {
      "text/plain": [
       "Index(['HISTORY PATIENT 74-119: (076) HISTORY OF STROKE',\n",
       "       'HISTORY PATIENT 74-119: (099) FAMILY HISTORY OF STROKE',\n",
       "       'HISTORY PATIENT 74-119: (099) FAMILY HISTORY OF STROKE: FEMALES',\n",
       "       'HISTORY PATIENT 74-119: (099) FAMILY HISTORY OF STROKE: MALES',\n",
       "       'HISTORY PATIENT 74-119: (099) FAMILY HISTORY OF STROKE: TEXT',\n",
       "       'MEDICAL ASSESSMENT V 2010: STROKE',\n",
       "       'HACHINSKI ISCHAEMIC: HISTORY OF STROKE'],\n",
       "      dtype='object')"
      ]
     },
     "execution_count": 50,
     "metadata": {},
     "output_type": "execute_result"
    }
   ],
   "source": [
    "col_name(\"strok\")"
   ]
  },
  {
   "cell_type": "code",
   "execution_count": 51,
   "metadata": {},
   "outputs": [],
   "source": [
    "stroke_columns = ['HISTORY PATIENT 74-119: (076) HISTORY OF STROKE',\n",
    "                  'MEDICAL ASSESSMENT V 2010: STROKE',\n",
    "                  'HACHINSKI ISCHAEMIC: HISTORY OF STROKE']"
   ]
  },
  {
   "cell_type": "code",
   "execution_count": 52,
   "metadata": {},
   "outputs": [
    {
     "name": "stdout",
     "output_type": "stream",
     "text": [
      "null: (22, 1593)\n",
      "not asked: (4164, 1593)\n",
      "not known: (393, 1593)\n"
     ]
    }
   ],
   "source": [
    "_, _, cerbro_vascular_data = get_missing_datasets(cerbro_vascular)"
   ]
  },
  {
   "cell_type": "code",
   "execution_count": 53,
   "metadata": {},
   "outputs": [
    {
     "data": {
      "text/plain": [
       "(4579, 1593)"
      ]
     },
     "execution_count": 53,
     "metadata": {},
     "output_type": "execute_result"
    }
   ],
   "source": [
    "cerbro_vascular_data.shape"
   ]
  },
  {
   "cell_type": "markdown",
   "metadata": {},
   "source": [
    "### Cerbro Vascular | Extraction"
   ]
  },
  {
   "cell_type": "code",
   "execution_count": 54,
   "metadata": {},
   "outputs": [
    {
     "name": "stdout",
     "output_type": "stream",
     "text": [
      "255\n"
     ]
    }
   ],
   "source": [
    "str_1, _ = extract_values(cerbro_vascular_data, stroke_columns[0], [1, 2, 3])"
   ]
  },
  {
   "cell_type": "code",
   "execution_count": 55,
   "metadata": {},
   "outputs": [
    {
     "name": "stdout",
     "output_type": "stream",
     "text": [
      "0\n"
     ]
    }
   ],
   "source": [
    "str_2, _ = extract_values(cerbro_vascular_data, stroke_columns[1], [1])"
   ]
  },
  {
   "cell_type": "code",
   "execution_count": 56,
   "metadata": {},
   "outputs": [
    {
     "name": "stdout",
     "output_type": "stream",
     "text": [
      "1\n"
     ]
    }
   ],
   "source": [
    "str_3, _ = extract_values(cerbro_vascular_data, stroke_columns[2], [1])"
   ]
  },
  {
   "cell_type": "code",
   "execution_count": null,
   "metadata": {},
   "outputs": [],
   "source": []
  },
  {
   "cell_type": "code",
   "execution_count": 57,
   "metadata": {},
   "outputs": [
    {
     "name": "stdout",
     "output_type": "stream",
     "text": [
      "2729\n"
     ]
    }
   ],
   "source": [
    "no_str_1, _ = extract_values(cerbro_vascular_data, stroke_columns[0], [0])"
   ]
  },
  {
   "cell_type": "code",
   "execution_count": 58,
   "metadata": {},
   "outputs": [
    {
     "name": "stdout",
     "output_type": "stream",
     "text": [
      "10\n"
     ]
    }
   ],
   "source": [
    "no_str_2, _ = extract_values(cerbro_vascular_data, stroke_columns[1], [0])"
   ]
  },
  {
   "cell_type": "code",
   "execution_count": 59,
   "metadata": {},
   "outputs": [
    {
     "name": "stdout",
     "output_type": "stream",
     "text": [
      "4\n"
     ]
    }
   ],
   "source": [
    "no_str_3, _ = extract_values(cerbro_vascular_data, stroke_columns[2], [0])"
   ]
  },
  {
   "cell_type": "code",
   "execution_count": null,
   "metadata": {},
   "outputs": [],
   "source": []
  },
  {
   "cell_type": "code",
   "execution_count": 60,
   "metadata": {},
   "outputs": [],
   "source": [
    "str_update = str_1 | str_2 | str_3"
   ]
  },
  {
   "cell_type": "code",
   "execution_count": 61,
   "metadata": {},
   "outputs": [],
   "source": [
    "no_str_update = no_str_1 | no_str_2 | no_str_3"
   ]
  },
  {
   "cell_type": "code",
   "execution_count": 62,
   "metadata": {
    "scrolled": true
   },
   "outputs": [
    {
     "data": {
      "text/plain": [
       "Counter({9.0: 2760,\n",
       "         8.0: 224,\n",
       "         nan: 1,\n",
       "         nan: 1,\n",
       "         nan: 1,\n",
       "         nan: 1,\n",
       "         nan: 1,\n",
       "         nan: 1,\n",
       "         nan: 1})"
      ]
     },
     "execution_count": 62,
     "metadata": {},
     "output_type": "execute_result"
    }
   ],
   "source": [
    "Counter(data.loc[str_update | no_str_update, cerbro_vascular])"
   ]
  },
  {
   "cell_type": "code",
   "execution_count": 63,
   "metadata": {},
   "outputs": [],
   "source": [
    "data.loc[no_str_update, cerbro_vascular] = 0"
   ]
  },
  {
   "cell_type": "code",
   "execution_count": 64,
   "metadata": {},
   "outputs": [],
   "source": [
    "data.loc[str_update, cerbro_vascular] = 1"
   ]
  },
  {
   "cell_type": "code",
   "execution_count": 65,
   "metadata": {},
   "outputs": [
    {
     "data": {
      "text/plain": [
       "(256, 2736, 2991)"
      ]
     },
     "execution_count": 65,
     "metadata": {},
     "output_type": "execute_result"
    }
   ],
   "source": [
    "len(str_update), len(no_str_update), len(str_update | no_str_update)"
   ]
  },
  {
   "cell_type": "code",
   "execution_count": 66,
   "metadata": {},
   "outputs": [
    {
     "data": {
      "text/plain": [
       "Counter({0.0: 2735, 1.0: 256})"
      ]
     },
     "execution_count": 66,
     "metadata": {},
     "output_type": "execute_result"
    }
   ],
   "source": [
    "Counter(data.loc[str_update | no_str_update, cerbro_vascular])"
   ]
  },
  {
   "cell_type": "markdown",
   "metadata": {},
   "source": [
    "## ANXIETY/PHOBIC"
   ]
  },
  {
   "cell_type": "code",
   "execution_count": 67,
   "metadata": {},
   "outputs": [
    {
     "data": {
      "text/plain": [
       "Index(['PRESENT STATE 47-73: (049) ANXIOUS',\n",
       "       'PRESENT STATE 47-73: (051) ANXIOUS SITUATIONS',\n",
       "       'PRESENT STATE 47-73: (051) ANXIOUS SITUATIONS: TEXT',\n",
       "       'INTERVIEWER OBS 188-212: (195) ANXIOUS OR FEARFUL',\n",
       "       'DIAGNOSIS 334-351: ANXIETY/PHOBIC',\n",
       "       'MEDICAL ASSESSMENT V 2010: ANXIETY', 'NPI: ANXIETY: FREQUENCY',\n",
       "       'NPI: ANXIETY: SEVERITY', 'NPI: ANXIETY: F X S',\n",
       "       'NPI: ANXIETY: DISTRESS'],\n",
       "      dtype='object')"
      ]
     },
     "execution_count": 67,
     "metadata": {},
     "output_type": "execute_result"
    }
   ],
   "source": [
    "col_name(\"anxi\")"
   ]
  },
  {
   "cell_type": "code",
   "execution_count": 68,
   "metadata": {},
   "outputs": [],
   "source": [
    "anxiety_phobic = \"DIAGNOSIS 334-351: ANXIETY/PHOBIC\""
   ]
  },
  {
   "cell_type": "code",
   "execution_count": null,
   "metadata": {},
   "outputs": [],
   "source": []
  },
  {
   "cell_type": "code",
   "execution_count": 69,
   "metadata": {},
   "outputs": [],
   "source": [
    "anxiety_columns = [['PRESENT STATE 47-73: (049) ANXIOUS', [1]],\n",
    "                   ['PRESENT STATE 47-73: (051) ANXIOUS SITUATIONS', [1]],\n",
    "                   ['INTERVIEWER OBS 188-212: (195) ANXIOUS OR FEARFUL', [1]],\n",
    "                   ['MEDICAL ASSESSMENT V 2010: ANXIETY', [1]],\n",
    "                   ['NPI: ANXIETY: FREQUENCY', [1, 2, 3, 4]],\n",
    "                   ['NPI: ANXIETY: SEVERITY', [1, 2, 3]],\n",
    "                   ['NPI: ANXIETY: F X S', [2.,  8.,  3.,  1.,  4.,  6., 12.,  9.,  5.]],\n",
    "                   ['NPI: ANXIETY: DISTRESS', [1, 2, 3, 4, 5]]]"
   ]
  },
  {
   "cell_type": "code",
   "execution_count": 70,
   "metadata": {},
   "outputs": [],
   "source": [
    "no_anxiety_columns = [['PRESENT STATE 47-73: (049) ANXIOUS', [0]],\n",
    "                   ['PRESENT STATE 47-73: (051) ANXIOUS SITUATIONS', [0]],\n",
    "                   ['INTERVIEWER OBS 188-212: (195) ANXIOUS OR FEARFUL', [0]],\n",
    "                   ['MEDICAL ASSESSMENT V 2010: ANXIETY', [0]],\n",
    "                   ['NPI: ANXIETY: FREQUENCY', [0]],\n",
    "                   ['NPI: ANXIETY: SEVERITY', [0]],\n",
    "                   ['NPI: ANXIETY: F X S', [0]],\n",
    "                   ['NPI: ANXIETY: DISTRESS', [0]]]"
   ]
  },
  {
   "cell_type": "code",
   "execution_count": 71,
   "metadata": {},
   "outputs": [],
   "source": [
    "for t in current_treatment:\n",
    "    anxiety_columns.append([t, [85]])"
   ]
  },
  {
   "cell_type": "code",
   "execution_count": 72,
   "metadata": {},
   "outputs": [
    {
     "name": "stdout",
     "output_type": "stream",
     "text": [
      "null: (3088, 1593)\n",
      "not asked: (3408, 1593)\n",
      "not known: (0, 1593)\n"
     ]
    }
   ],
   "source": [
    "_, _, anxiety_phobic_data = get_missing_datasets(anxiety_phobic)"
   ]
  },
  {
   "cell_type": "code",
   "execution_count": 73,
   "metadata": {},
   "outputs": [
    {
     "data": {
      "text/plain": [
       "(6496, 1593)"
      ]
     },
     "execution_count": 73,
     "metadata": {},
     "output_type": "execute_result"
    }
   ],
   "source": [
    "anxiety_phobic_data.shape"
   ]
  },
  {
   "cell_type": "code",
   "execution_count": 74,
   "metadata": {},
   "outputs": [],
   "source": [
    "# anxiety_phobic_null[anxiety_columns[7][0]].unique() # should be modified above"
   ]
  },
  {
   "cell_type": "code",
   "execution_count": 75,
   "metadata": {},
   "outputs": [],
   "source": [
    "# anxiety_phobic_9[anxiety_columns[7][0]].unique() # should be modified above"
   ]
  },
  {
   "cell_type": "code",
   "execution_count": 76,
   "metadata": {
    "scrolled": true
   },
   "outputs": [],
   "source": [
    "# for i, _ in anxiety_columns:\n",
    "#     print(i)\n",
    "#     print(scan_unique(data, i))"
   ]
  },
  {
   "cell_type": "markdown",
   "metadata": {},
   "source": [
    "### Anxiety Phobic | Extraction"
   ]
  },
  {
   "cell_type": "code",
   "execution_count": 77,
   "metadata": {},
   "outputs": [],
   "source": [
    "anx_update = set()"
   ]
  },
  {
   "cell_type": "code",
   "execution_count": 78,
   "metadata": {
    "scrolled": true
   },
   "outputs": [
    {
     "name": "stdout",
     "output_type": "stream",
     "text": [
      "column: PRESENT STATE 47-73: (049) ANXIOUS\n",
      "748\n",
      "column: PRESENT STATE 47-73: (051) ANXIOUS SITUATIONS\n",
      "694\n",
      "column: INTERVIEWER OBS 188-212: (195) ANXIOUS OR FEARFUL\n",
      "608\n",
      "column: MEDICAL ASSESSMENT V 2010: ANXIETY\n",
      "82\n",
      "column: NPI: ANXIETY: FREQUENCY\n",
      "268\n",
      "column: NPI: ANXIETY: SEVERITY\n",
      "225\n",
      "column: NPI: ANXIETY: F X S\n",
      "360\n",
      "column: NPI: ANXIETY: DISTRESS\n",
      "161\n",
      "column: CURRENT MEDICATION: TREATMENT 1\n",
      "43\n",
      "column: CURRENT MEDICATION: TREATMENT 2\n",
      "29\n",
      "column: CURRENT MEDICATION: TREATMENT 3\n",
      "23\n",
      "column: CURRENT MEDICATION: TREATMENT 4\n",
      "10\n",
      "column: CURRENT MEDICATION: TREATMENT 5\n",
      "12\n",
      "column: CURRENT MEDICATION: TREATMENT 6\n",
      "4\n",
      "column: CURRENT MEDICATION: TREATMENT 7\n",
      "1\n",
      "column: CURRENT MEDICATION: TREATMENT 8\n",
      "1\n",
      "column: CURRENT MEDICATION: TREATMENT 9\n",
      "2\n",
      "column: CURRENT MEDICATION: TREATMENT 10\n",
      "1\n",
      "column: CURRENT MEDICATION: TREATMENT 11\n",
      "0\n",
      "column: CURRENT MEDICATION: TREATMENT 12\n",
      "0\n",
      "column: CURRENT MEDICATION: TREATMENT 13\n",
      "0\n",
      "column: CURRENT MEDICATION: TREATMENT 14\n",
      "0\n",
      "column: CURRENT MEDICATION: TREATMENT 15\n",
      "0\n",
      "column: CURRENT MEDICATION: TREATMENT 16\n",
      "0\n",
      "column: CURRENT MEDICATION: TREATMENT 17\n",
      "0\n",
      "column: CURRENT MEDICATION: TREATMENT 18\n",
      "0\n",
      "column: CURRENT MEDICATION: TREATMENT 19\n",
      "0\n",
      "column: CURRENT MEDICATION: TREATMENT 20\n",
      "0\n"
     ]
    }
   ],
   "source": [
    "for idx, a in enumerate(anxiety_columns):\n",
    "    print(\"column:\", a[0])\n",
    "    anx_update |= extract_values(anxiety_phobic_data, a[0], a[1])[0]"
   ]
  },
  {
   "cell_type": "code",
   "execution_count": null,
   "metadata": {},
   "outputs": [],
   "source": []
  },
  {
   "cell_type": "code",
   "execution_count": 79,
   "metadata": {},
   "outputs": [],
   "source": [
    "no_anx_update = set()"
   ]
  },
  {
   "cell_type": "code",
   "execution_count": 80,
   "metadata": {
    "scrolled": true
   },
   "outputs": [
    {
     "name": "stdout",
     "output_type": "stream",
     "text": [
      "column: PRESENT STATE 47-73: (049) ANXIOUS\n",
      "2672\n",
      "column: PRESENT STATE 47-73: (051) ANXIOUS SITUATIONS\n",
      "2691\n",
      "column: INTERVIEWER OBS 188-212: (195) ANXIOUS OR FEARFUL\n",
      "3674\n",
      "column: MEDICAL ASSESSMENT V 2010: ANXIETY\n",
      "265\n",
      "column: NPI: ANXIETY: FREQUENCY\n",
      "796\n",
      "column: NPI: ANXIETY: SEVERITY\n",
      "796\n",
      "column: NPI: ANXIETY: F X S\n",
      "707\n",
      "column: NPI: ANXIETY: DISTRESS\n",
      "763\n"
     ]
    }
   ],
   "source": [
    "for idx, a in enumerate(no_anxiety_columns):\n",
    "    print(\"column:\", a[0])\n",
    "    no_anx_update |= extract_values(anxiety_phobic_data, a[0], a[1])[0]"
   ]
  },
  {
   "cell_type": "code",
   "execution_count": null,
   "metadata": {},
   "outputs": [],
   "source": []
  },
  {
   "cell_type": "code",
   "execution_count": 81,
   "metadata": {},
   "outputs": [
    {
     "data": {
      "text/plain": [
       "Counter({9: 3367, nan: 1988})"
      ]
     },
     "execution_count": 81,
     "metadata": {},
     "output_type": "execute_result"
    }
   ],
   "source": [
    "Counter(data.loc[anx_update | no_anx_update, anxiety_phobic])"
   ]
  },
  {
   "cell_type": "code",
   "execution_count": 82,
   "metadata": {},
   "outputs": [],
   "source": [
    "data.loc[no_anx_update, anxiety_phobic] = 0"
   ]
  },
  {
   "cell_type": "code",
   "execution_count": 83,
   "metadata": {},
   "outputs": [],
   "source": [
    "data.loc[anx_update, anxiety_phobic] = 1"
   ]
  },
  {
   "cell_type": "code",
   "execution_count": 84,
   "metadata": {},
   "outputs": [
    {
     "data": {
      "text/plain": [
       "Counter({1: 1934, 0: 3421})"
      ]
     },
     "execution_count": 84,
     "metadata": {},
     "output_type": "execute_result"
    }
   ],
   "source": [
    "Counter(data.loc[anx_update | no_anx_update, anxiety_phobic])"
   ]
  },
  {
   "cell_type": "code",
   "execution_count": 85,
   "metadata": {},
   "outputs": [
    {
     "data": {
      "text/plain": [
       "(1934, 4896, 5355)"
      ]
     },
     "execution_count": 85,
     "metadata": {},
     "output_type": "execute_result"
    }
   ],
   "source": [
    "len(anx_update), len(no_anx_update), len(anx_update | no_anx_update)"
   ]
  },
  {
   "cell_type": "code",
   "execution_count": null,
   "metadata": {},
   "outputs": [],
   "source": []
  },
  {
   "cell_type": "code",
   "execution_count": 86,
   "metadata": {},
   "outputs": [],
   "source": [
    "data.to_excel(\"Optima_Data_Report_Cases_6511_filled.xlsx\")"
   ]
  },
  {
   "cell_type": "code",
   "execution_count": 87,
   "metadata": {},
   "outputs": [],
   "source": [
    "data.to_pickle(\"Optima_Data_Report_Cases_6511_filled_pickle\")"
   ]
  },
  {
   "cell_type": "code",
   "execution_count": null,
   "metadata": {},
   "outputs": [],
   "source": []
  },
  {
   "cell_type": "code",
   "execution_count": 88,
   "metadata": {},
   "outputs": [
    {
     "data": {
      "text/html": [
       "<div>\n",
       "<style scoped>\n",
       "    .dataframe tbody tr th:only-of-type {\n",
       "        vertical-align: middle;\n",
       "    }\n",
       "\n",
       "    .dataframe tbody tr th {\n",
       "        vertical-align: top;\n",
       "    }\n",
       "\n",
       "    .dataframe thead th {\n",
       "        text-align: right;\n",
       "    }\n",
       "</style>\n",
       "<table border=\"1\" class=\"dataframe\">\n",
       "  <thead>\n",
       "    <tr style=\"text-align: right;\">\n",
       "      <th></th>\n",
       "      <th>GLOBAL_PATIENT_DB_ID</th>\n",
       "      <th>STUDY_ID</th>\n",
       "      <th>STUDY</th>\n",
       "      <th>DOD</th>\n",
       "      <th>Age At Episode</th>\n",
       "      <th>GENDER</th>\n",
       "      <th>EPISODE_DATE</th>\n",
       "      <th>EPISODE</th>\n",
       "      <th>CAMDEX ADMINISTRATION 1-12: DATE OF EXAMINATION</th>\n",
       "      <th>CAMDEX ADMINISTRATION 1-12: EST SEVERITY OF DEMENTIA</th>\n",
       "      <th>...</th>\n",
       "      <th>GENERAL INFORMATION: NSAIDS: DURATION</th>\n",
       "      <th>GENERAL INFORMATION: ASPIRIN</th>\n",
       "      <th>GENERAL INFORMATION: ASPIRIN: DURATION</th>\n",
       "      <th>GENERAL INFORMATION: OESTROGEN</th>\n",
       "      <th>GENERAL INFORMATION: OESTROGEN: DURATION</th>\n",
       "      <th>GENERAL INFORMATION: OESTROGEN: MENOPAUSE</th>\n",
       "      <th>GENERAL INFORMATION: ANTIHYPERTENSIVES</th>\n",
       "      <th>GENERAL INFORMATION: ANTIHYPERTENSIVES: DURATION</th>\n",
       "      <th>GENERAL INFORMATION: DIABETES</th>\n",
       "      <th>GENERAL INFORMATION: DIABETES: DURATION</th>\n",
       "    </tr>\n",
       "  </thead>\n",
       "  <tbody>\n",
       "    <tr>\n",
       "      <td>0</td>\n",
       "      <td>1</td>\n",
       "      <td>C1048</td>\n",
       "      <td>Challenge</td>\n",
       "      <td>NaT</td>\n",
       "      <td>71</td>\n",
       "      <td>Male</td>\n",
       "      <td>1998-01-13</td>\n",
       "      <td>1</td>\n",
       "      <td>1998-01-13 00:00:00</td>\n",
       "      <td>0.0</td>\n",
       "      <td>...</td>\n",
       "      <td>1.0</td>\n",
       "      <td>2.0</td>\n",
       "      <td>NaN</td>\n",
       "      <td>9.0</td>\n",
       "      <td>NaN</td>\n",
       "      <td>NaN</td>\n",
       "      <td>0.0</td>\n",
       "      <td>36.0</td>\n",
       "      <td>0.0</td>\n",
       "      <td>NaN</td>\n",
       "    </tr>\n",
       "    <tr>\n",
       "      <td>2</td>\n",
       "      <td>1</td>\n",
       "      <td>C1048</td>\n",
       "      <td>Challenge</td>\n",
       "      <td>NaT</td>\n",
       "      <td>73</td>\n",
       "      <td>Male</td>\n",
       "      <td>2000-01-20</td>\n",
       "      <td>5</td>\n",
       "      <td>2000-01-20 00:00:00</td>\n",
       "      <td>0.0</td>\n",
       "      <td>...</td>\n",
       "      <td>NaN</td>\n",
       "      <td>NaN</td>\n",
       "      <td>NaN</td>\n",
       "      <td>NaN</td>\n",
       "      <td>NaN</td>\n",
       "      <td>NaN</td>\n",
       "      <td>NaN</td>\n",
       "      <td>NaN</td>\n",
       "      <td>NaN</td>\n",
       "      <td>NaN</td>\n",
       "    </tr>\n",
       "    <tr>\n",
       "      <td>4</td>\n",
       "      <td>1</td>\n",
       "      <td>C1048</td>\n",
       "      <td>Challenge</td>\n",
       "      <td>NaT</td>\n",
       "      <td>75</td>\n",
       "      <td>Male</td>\n",
       "      <td>2002-02-21</td>\n",
       "      <td>9</td>\n",
       "      <td>NaN</td>\n",
       "      <td>NaN</td>\n",
       "      <td>...</td>\n",
       "      <td>NaN</td>\n",
       "      <td>NaN</td>\n",
       "      <td>NaN</td>\n",
       "      <td>NaN</td>\n",
       "      <td>NaN</td>\n",
       "      <td>NaN</td>\n",
       "      <td>NaN</td>\n",
       "      <td>NaN</td>\n",
       "      <td>NaN</td>\n",
       "      <td>NaN</td>\n",
       "    </tr>\n",
       "    <tr>\n",
       "      <td>5</td>\n",
       "      <td>1</td>\n",
       "      <td>C1048</td>\n",
       "      <td>Challenge</td>\n",
       "      <td>NaT</td>\n",
       "      <td>75</td>\n",
       "      <td>Male</td>\n",
       "      <td>2002-10-28</td>\n",
       "      <td>11</td>\n",
       "      <td>NaN</td>\n",
       "      <td>NaN</td>\n",
       "      <td>...</td>\n",
       "      <td>NaN</td>\n",
       "      <td>NaN</td>\n",
       "      <td>NaN</td>\n",
       "      <td>NaN</td>\n",
       "      <td>NaN</td>\n",
       "      <td>NaN</td>\n",
       "      <td>NaN</td>\n",
       "      <td>NaN</td>\n",
       "      <td>NaN</td>\n",
       "      <td>NaN</td>\n",
       "    </tr>\n",
       "    <tr>\n",
       "      <td>6</td>\n",
       "      <td>1</td>\n",
       "      <td>C1048</td>\n",
       "      <td>Challenge</td>\n",
       "      <td>NaT</td>\n",
       "      <td>77</td>\n",
       "      <td>Male</td>\n",
       "      <td>2004-06-22</td>\n",
       "      <td>13</td>\n",
       "      <td>NaN</td>\n",
       "      <td>NaN</td>\n",
       "      <td>...</td>\n",
       "      <td>NaN</td>\n",
       "      <td>NaN</td>\n",
       "      <td>NaN</td>\n",
       "      <td>NaN</td>\n",
       "      <td>NaN</td>\n",
       "      <td>NaN</td>\n",
       "      <td>NaN</td>\n",
       "      <td>NaN</td>\n",
       "      <td>NaN</td>\n",
       "      <td>NaN</td>\n",
       "    </tr>\n",
       "    <tr>\n",
       "      <td>...</td>\n",
       "      <td>...</td>\n",
       "      <td>...</td>\n",
       "      <td>...</td>\n",
       "      <td>...</td>\n",
       "      <td>...</td>\n",
       "      <td>...</td>\n",
       "      <td>...</td>\n",
       "      <td>...</td>\n",
       "      <td>...</td>\n",
       "      <td>...</td>\n",
       "      <td>...</td>\n",
       "      <td>...</td>\n",
       "      <td>...</td>\n",
       "      <td>...</td>\n",
       "      <td>...</td>\n",
       "      <td>...</td>\n",
       "      <td>...</td>\n",
       "      <td>...</td>\n",
       "      <td>...</td>\n",
       "      <td>...</td>\n",
       "      <td>...</td>\n",
       "    </tr>\n",
       "    <tr>\n",
       "      <td>9590</td>\n",
       "      <td>8754</td>\n",
       "      <td>N0262</td>\n",
       "      <td>LEAD Cohort</td>\n",
       "      <td>NaT</td>\n",
       "      <td>69</td>\n",
       "      <td>Male</td>\n",
       "      <td>2012-10-25</td>\n",
       "      <td>3</td>\n",
       "      <td>NaN</td>\n",
       "      <td>NaN</td>\n",
       "      <td>...</td>\n",
       "      <td>NaN</td>\n",
       "      <td>NaN</td>\n",
       "      <td>NaN</td>\n",
       "      <td>NaN</td>\n",
       "      <td>NaN</td>\n",
       "      <td>NaN</td>\n",
       "      <td>NaN</td>\n",
       "      <td>NaN</td>\n",
       "      <td>NaN</td>\n",
       "      <td>NaN</td>\n",
       "    </tr>\n",
       "    <tr>\n",
       "      <td>9591</td>\n",
       "      <td>8754</td>\n",
       "      <td>N0262</td>\n",
       "      <td>LEAD Cohort</td>\n",
       "      <td>NaT</td>\n",
       "      <td>70</td>\n",
       "      <td>Male</td>\n",
       "      <td>2014-03-18</td>\n",
       "      <td>5</td>\n",
       "      <td>NaN</td>\n",
       "      <td>NaN</td>\n",
       "      <td>...</td>\n",
       "      <td>NaN</td>\n",
       "      <td>NaN</td>\n",
       "      <td>NaN</td>\n",
       "      <td>NaN</td>\n",
       "      <td>NaN</td>\n",
       "      <td>NaN</td>\n",
       "      <td>NaN</td>\n",
       "      <td>NaN</td>\n",
       "      <td>NaN</td>\n",
       "      <td>NaN</td>\n",
       "    </tr>\n",
       "    <tr>\n",
       "      <td>9592</td>\n",
       "      <td>8754</td>\n",
       "      <td>N0262</td>\n",
       "      <td>LEAD Cohort</td>\n",
       "      <td>NaT</td>\n",
       "      <td>71</td>\n",
       "      <td>Male</td>\n",
       "      <td>2015-03-19</td>\n",
       "      <td>7</td>\n",
       "      <td>NaN</td>\n",
       "      <td>NaN</td>\n",
       "      <td>...</td>\n",
       "      <td>NaN</td>\n",
       "      <td>NaN</td>\n",
       "      <td>NaN</td>\n",
       "      <td>NaN</td>\n",
       "      <td>NaN</td>\n",
       "      <td>NaN</td>\n",
       "      <td>NaN</td>\n",
       "      <td>NaN</td>\n",
       "      <td>NaN</td>\n",
       "      <td>NaN</td>\n",
       "    </tr>\n",
       "    <tr>\n",
       "      <td>9593</td>\n",
       "      <td>8760</td>\n",
       "      <td>N0264</td>\n",
       "      <td>LEAD Cohort</td>\n",
       "      <td>NaT</td>\n",
       "      <td>73</td>\n",
       "      <td>Female</td>\n",
       "      <td>2011-12-05</td>\n",
       "      <td>1</td>\n",
       "      <td>2011-12-05 00:00:00</td>\n",
       "      <td>1.0</td>\n",
       "      <td>...</td>\n",
       "      <td>NaN</td>\n",
       "      <td>NaN</td>\n",
       "      <td>NaN</td>\n",
       "      <td>NaN</td>\n",
       "      <td>NaN</td>\n",
       "      <td>NaN</td>\n",
       "      <td>NaN</td>\n",
       "      <td>NaN</td>\n",
       "      <td>NaN</td>\n",
       "      <td>NaN</td>\n",
       "    </tr>\n",
       "    <tr>\n",
       "      <td>9594</td>\n",
       "      <td>8760</td>\n",
       "      <td>N0264</td>\n",
       "      <td>LEAD Cohort</td>\n",
       "      <td>NaT</td>\n",
       "      <td>74</td>\n",
       "      <td>Female</td>\n",
       "      <td>2012-11-28</td>\n",
       "      <td>3</td>\n",
       "      <td>NaN</td>\n",
       "      <td>NaN</td>\n",
       "      <td>...</td>\n",
       "      <td>NaN</td>\n",
       "      <td>NaN</td>\n",
       "      <td>NaN</td>\n",
       "      <td>NaN</td>\n",
       "      <td>NaN</td>\n",
       "      <td>NaN</td>\n",
       "      <td>NaN</td>\n",
       "      <td>NaN</td>\n",
       "      <td>NaN</td>\n",
       "      <td>NaN</td>\n",
       "    </tr>\n",
       "  </tbody>\n",
       "</table>\n",
       "<p>6511 rows × 1593 columns</p>\n",
       "</div>"
      ],
      "text/plain": [
       "      GLOBAL_PATIENT_DB_ID STUDY_ID        STUDY DOD  Age At Episode  GENDER  \\\n",
       "0                        1    C1048    Challenge NaT              71    Male   \n",
       "2                        1    C1048    Challenge NaT              73    Male   \n",
       "4                        1    C1048    Challenge NaT              75    Male   \n",
       "5                        1    C1048    Challenge NaT              75    Male   \n",
       "6                        1    C1048    Challenge NaT              77    Male   \n",
       "...                    ...      ...          ...  ..             ...     ...   \n",
       "9590                  8754    N0262  LEAD Cohort NaT              69    Male   \n",
       "9591                  8754    N0262  LEAD Cohort NaT              70    Male   \n",
       "9592                  8754    N0262  LEAD Cohort NaT              71    Male   \n",
       "9593                  8760    N0264  LEAD Cohort NaT              73  Female   \n",
       "9594                  8760    N0264  LEAD Cohort NaT              74  Female   \n",
       "\n",
       "     EPISODE_DATE EPISODE CAMDEX ADMINISTRATION 1-12: DATE OF EXAMINATION  \\\n",
       "0      1998-01-13       1                             1998-01-13 00:00:00   \n",
       "2      2000-01-20       5                             2000-01-20 00:00:00   \n",
       "4      2002-02-21       9                                             NaN   \n",
       "5      2002-10-28      11                                             NaN   \n",
       "6      2004-06-22      13                                             NaN   \n",
       "...           ...     ...                                             ...   \n",
       "9590   2012-10-25       3                                             NaN   \n",
       "9591   2014-03-18       5                                             NaN   \n",
       "9592   2015-03-19       7                                             NaN   \n",
       "9593   2011-12-05       1                             2011-12-05 00:00:00   \n",
       "9594   2012-11-28       3                                             NaN   \n",
       "\n",
       "      CAMDEX ADMINISTRATION 1-12: EST SEVERITY OF DEMENTIA  ...  \\\n",
       "0                                                   0.0     ...   \n",
       "2                                                   0.0     ...   \n",
       "4                                                   NaN     ...   \n",
       "5                                                   NaN     ...   \n",
       "6                                                   NaN     ...   \n",
       "...                                                 ...     ...   \n",
       "9590                                                NaN     ...   \n",
       "9591                                                NaN     ...   \n",
       "9592                                                NaN     ...   \n",
       "9593                                                1.0     ...   \n",
       "9594                                                NaN     ...   \n",
       "\n",
       "      GENERAL INFORMATION: NSAIDS: DURATION  GENERAL INFORMATION: ASPIRIN  \\\n",
       "0                                       1.0                           2.0   \n",
       "2                                       NaN                           NaN   \n",
       "4                                       NaN                           NaN   \n",
       "5                                       NaN                           NaN   \n",
       "6                                       NaN                           NaN   \n",
       "...                                     ...                           ...   \n",
       "9590                                    NaN                           NaN   \n",
       "9591                                    NaN                           NaN   \n",
       "9592                                    NaN                           NaN   \n",
       "9593                                    NaN                           NaN   \n",
       "9594                                    NaN                           NaN   \n",
       "\n",
       "      GENERAL INFORMATION: ASPIRIN: DURATION  GENERAL INFORMATION: OESTROGEN  \\\n",
       "0                                        NaN                             9.0   \n",
       "2                                        NaN                             NaN   \n",
       "4                                        NaN                             NaN   \n",
       "5                                        NaN                             NaN   \n",
       "6                                        NaN                             NaN   \n",
       "...                                      ...                             ...   \n",
       "9590                                     NaN                             NaN   \n",
       "9591                                     NaN                             NaN   \n",
       "9592                                     NaN                             NaN   \n",
       "9593                                     NaN                             NaN   \n",
       "9594                                     NaN                             NaN   \n",
       "\n",
       "      GENERAL INFORMATION: OESTROGEN: DURATION  \\\n",
       "0                                          NaN   \n",
       "2                                          NaN   \n",
       "4                                          NaN   \n",
       "5                                          NaN   \n",
       "6                                          NaN   \n",
       "...                                        ...   \n",
       "9590                                       NaN   \n",
       "9591                                       NaN   \n",
       "9592                                       NaN   \n",
       "9593                                       NaN   \n",
       "9594                                       NaN   \n",
       "\n",
       "     GENERAL INFORMATION: OESTROGEN: MENOPAUSE  \\\n",
       "0                                          NaN   \n",
       "2                                          NaN   \n",
       "4                                          NaN   \n",
       "5                                          NaN   \n",
       "6                                          NaN   \n",
       "...                                        ...   \n",
       "9590                                       NaN   \n",
       "9591                                       NaN   \n",
       "9592                                       NaN   \n",
       "9593                                       NaN   \n",
       "9594                                       NaN   \n",
       "\n",
       "      GENERAL INFORMATION: ANTIHYPERTENSIVES  \\\n",
       "0                                        0.0   \n",
       "2                                        NaN   \n",
       "4                                        NaN   \n",
       "5                                        NaN   \n",
       "6                                        NaN   \n",
       "...                                      ...   \n",
       "9590                                     NaN   \n",
       "9591                                     NaN   \n",
       "9592                                     NaN   \n",
       "9593                                     NaN   \n",
       "9594                                     NaN   \n",
       "\n",
       "      GENERAL INFORMATION: ANTIHYPERTENSIVES: DURATION  \\\n",
       "0                                                 36.0   \n",
       "2                                                  NaN   \n",
       "4                                                  NaN   \n",
       "5                                                  NaN   \n",
       "6                                                  NaN   \n",
       "...                                                ...   \n",
       "9590                                               NaN   \n",
       "9591                                               NaN   \n",
       "9592                                               NaN   \n",
       "9593                                               NaN   \n",
       "9594                                               NaN   \n",
       "\n",
       "      GENERAL INFORMATION: DIABETES  GENERAL INFORMATION: DIABETES: DURATION  \n",
       "0                               0.0                                      NaN  \n",
       "2                               NaN                                      NaN  \n",
       "4                               NaN                                      NaN  \n",
       "5                               NaN                                      NaN  \n",
       "6                               NaN                                      NaN  \n",
       "...                             ...                                      ...  \n",
       "9590                            NaN                                      NaN  \n",
       "9591                            NaN                                      NaN  \n",
       "9592                            NaN                                      NaN  \n",
       "9593                            NaN                                      NaN  \n",
       "9594                            NaN                                      NaN  \n",
       "\n",
       "[6511 rows x 1593 columns]"
      ]
     },
     "execution_count": 88,
     "metadata": {},
     "output_type": "execute_result"
    }
   ],
   "source": [
    "data"
   ]
  },
  {
   "cell_type": "code",
   "execution_count": null,
   "metadata": {},
   "outputs": [],
   "source": []
  },
  {
   "cell_type": "code",
   "execution_count": null,
   "metadata": {},
   "outputs": [],
   "source": []
  },
  {
   "cell_type": "code",
   "execution_count": null,
   "metadata": {},
   "outputs": [],
   "source": []
  },
  {
   "cell_type": "code",
   "execution_count": null,
   "metadata": {},
   "outputs": [],
   "source": []
  },
  {
   "cell_type": "code",
   "execution_count": null,
   "metadata": {},
   "outputs": [],
   "source": []
  },
  {
   "cell_type": "code",
   "execution_count": null,
   "metadata": {},
   "outputs": [],
   "source": []
  },
  {
   "cell_type": "code",
   "execution_count": null,
   "metadata": {},
   "outputs": [],
   "source": []
  },
  {
   "cell_type": "code",
   "execution_count": null,
   "metadata": {},
   "outputs": [],
   "source": []
  },
  {
   "cell_type": "code",
   "execution_count": null,
   "metadata": {},
   "outputs": [],
   "source": []
  },
  {
   "cell_type": "code",
   "execution_count": null,
   "metadata": {},
   "outputs": [],
   "source": []
  }
 ],
 "metadata": {
  "kernelspec": {
   "display_name": "Python 3",
   "language": "python",
   "name": "python3"
  },
  "language_info": {
   "codemirror_mode": {
    "name": "ipython",
    "version": 3
   },
   "file_extension": ".py",
   "mimetype": "text/x-python",
   "name": "python",
   "nbconvert_exporter": "python",
   "pygments_lexer": "ipython3",
   "version": "3.7.4"
  }
 },
 "nbformat": 4,
 "nbformat_minor": 2
}
